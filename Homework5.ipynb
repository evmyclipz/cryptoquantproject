{
 "cells": [
  {
   "cell_type": "markdown",
   "id": "05ff4511",
   "metadata": {},
   "source": [
    "# The Price of Hedging\n",
    "1. Below we first generate 2 random return series we will use in the homwork.\n",
    "2. Compute some basic stats on the return streams, including annualized returns, volatilities, sharpes and correlations.\n",
    "3. Combine the two returns streams optimally. What is the Sharpe ratio of the combo?\n",
    "4. Now, compute what happens to the optimal weights and sharpes as we change the average annualized return on \"HEDGE\" in a range between -10% and 10% in increments of 1%. Roughly what return do you need on \"HEDGE\" to justify a zero weight? \n"
   ]
  },
  {
   "cell_type": "code",
   "execution_count": 12,
   "id": "049b0fc7",
   "metadata": {},
   "outputs": [],
   "source": [
    "import numpy as np \n",
    "import pandas as pd \n",
    "def gen_strat_returns():\n",
    "    np.random.seed(5)\n",
    "    \n",
    "\n",
    "    corr = [[1, -0.5],\n",
    "            [-0.5, 1]]\n",
    "    \n",
    "    corr = np.array(corr)\n",
    "    \n",
    "    vols = np.diag(np.array([0.1, 0.1])) / np.sqrt(252)\n",
    "    \n",
    "    sigma = vols @ corr @ vols\n",
    "    \n",
    "    mu = np.array([0.1,0.1]) / 252\n",
    "    \n",
    "    dates = pd.date_range('20100101','20191231',freq='B')\n",
    "    \n",
    "    rets = np.random.multivariate_normal(mu, sigma, size = len(dates))\n",
    "    rets = pd.DataFrame(rets,columns = ['X','HEDGE'], index = dates)\n",
    "    \n",
    "\n",
    "    rets = rets/rets.std()*0.1/np.sqrt(252)\n",
    "    rets = rets-rets.mean()\n",
    "    rets = rets+mu\n",
    "    return rets\n",
    "\n",
    "rets = gen_strat_returns() # X is one strart, HEDGE is another"
   ]
  },
  {
   "cell_type": "code",
   "execution_count": 13,
   "id": "b2a14d41",
   "metadata": {},
   "outputs": [
    {
     "data": {
      "text/html": [
       "<div>\n",
       "<style scoped>\n",
       "    .dataframe tbody tr th:only-of-type {\n",
       "        vertical-align: middle;\n",
       "    }\n",
       "\n",
       "    .dataframe tbody tr th {\n",
       "        vertical-align: top;\n",
       "    }\n",
       "\n",
       "    .dataframe thead th {\n",
       "        text-align: right;\n",
       "    }\n",
       "</style>\n",
       "<table border=\"1\" class=\"dataframe\">\n",
       "  <thead>\n",
       "    <tr style=\"text-align: right;\">\n",
       "      <th></th>\n",
       "      <th>X</th>\n",
       "      <th>HEDGE</th>\n",
       "    </tr>\n",
       "  </thead>\n",
       "  <tbody>\n",
       "    <tr>\n",
       "      <th>2010-01-01</th>\n",
       "      <td>-0.003186</td>\n",
       "      <td>0.001821</td>\n",
       "    </tr>\n",
       "    <tr>\n",
       "      <th>2010-01-04</th>\n",
       "      <td>-0.013704</td>\n",
       "      <td>0.012633</td>\n",
       "    </tr>\n",
       "    <tr>\n",
       "      <th>2010-01-05</th>\n",
       "      <td>0.004585</td>\n",
       "      <td>0.005928</td>\n",
       "    </tr>\n",
       "    <tr>\n",
       "      <th>2010-01-06</th>\n",
       "      <td>0.003306</td>\n",
       "      <td>-0.006154</td>\n",
       "    </tr>\n",
       "    <tr>\n",
       "      <th>2010-01-07</th>\n",
       "      <td>-0.001811</td>\n",
       "      <td>0.000476</td>\n",
       "    </tr>\n",
       "    <tr>\n",
       "      <th>...</th>\n",
       "      <td>...</td>\n",
       "      <td>...</td>\n",
       "    </tr>\n",
       "    <tr>\n",
       "      <th>2019-12-25</th>\n",
       "      <td>-0.002816</td>\n",
       "      <td>0.000228</td>\n",
       "    </tr>\n",
       "    <tr>\n",
       "      <th>2019-12-26</th>\n",
       "      <td>-0.000756</td>\n",
       "      <td>0.000144</td>\n",
       "    </tr>\n",
       "    <tr>\n",
       "      <th>2019-12-27</th>\n",
       "      <td>-0.003515</td>\n",
       "      <td>-0.007862</td>\n",
       "    </tr>\n",
       "    <tr>\n",
       "      <th>2019-12-30</th>\n",
       "      <td>0.009921</td>\n",
       "      <td>-0.005380</td>\n",
       "    </tr>\n",
       "    <tr>\n",
       "      <th>2019-12-31</th>\n",
       "      <td>-0.001754</td>\n",
       "      <td>0.001020</td>\n",
       "    </tr>\n",
       "  </tbody>\n",
       "</table>\n",
       "<p>2608 rows × 2 columns</p>\n",
       "</div>"
      ],
      "text/plain": [
       "                   X     HEDGE\n",
       "2010-01-01 -0.003186  0.001821\n",
       "2010-01-04 -0.013704  0.012633\n",
       "2010-01-05  0.004585  0.005928\n",
       "2010-01-06  0.003306 -0.006154\n",
       "2010-01-07 -0.001811  0.000476\n",
       "...              ...       ...\n",
       "2019-12-25 -0.002816  0.000228\n",
       "2019-12-26 -0.000756  0.000144\n",
       "2019-12-27 -0.003515 -0.007862\n",
       "2019-12-30  0.009921 -0.005380\n",
       "2019-12-31 -0.001754  0.001020\n",
       "\n",
       "[2608 rows x 2 columns]"
      ]
     },
     "execution_count": 13,
     "metadata": {},
     "output_type": "execute_result"
    }
   ],
   "source": [
    "rets"
   ]
  },
  {
   "cell_type": "markdown",
   "id": "52fcd302",
   "metadata": {},
   "source": [
    "2. Compute some basic stats on the return streams, including annualized returns, volatilities, sharpes and correlations."
   ]
  },
  {
   "cell_type": "code",
   "execution_count": 15,
   "id": "3c765f60",
   "metadata": {},
   "outputs": [
    {
     "data": {
      "text/html": [
       "<div>\n",
       "<style scoped>\n",
       "    .dataframe tbody tr th:only-of-type {\n",
       "        vertical-align: middle;\n",
       "    }\n",
       "\n",
       "    .dataframe tbody tr th {\n",
       "        vertical-align: top;\n",
       "    }\n",
       "\n",
       "    .dataframe thead th {\n",
       "        text-align: right;\n",
       "    }\n",
       "</style>\n",
       "<table border=\"1\" class=\"dataframe\">\n",
       "  <thead>\n",
       "    <tr style=\"text-align: right;\">\n",
       "      <th></th>\n",
       "      <th>X</th>\n",
       "      <th>HEDGE</th>\n",
       "    </tr>\n",
       "  </thead>\n",
       "  <tbody>\n",
       "    <tr>\n",
       "      <th>Return</th>\n",
       "      <td>0.1</td>\n",
       "      <td>0.1</td>\n",
       "    </tr>\n",
       "    <tr>\n",
       "      <th>Volatility</th>\n",
       "      <td>0.1</td>\n",
       "      <td>0.1</td>\n",
       "    </tr>\n",
       "    <tr>\n",
       "      <th>Sharpe Ratio</th>\n",
       "      <td>1.0</td>\n",
       "      <td>1.0</td>\n",
       "    </tr>\n",
       "  </tbody>\n",
       "</table>\n",
       "</div>"
      ],
      "text/plain": [
       "                X  HEDGE\n",
       "Return        0.1    0.1\n",
       "Volatility    0.1    0.1\n",
       "Sharpe Ratio  1.0    1.0"
      ]
     },
     "execution_count": 15,
     "metadata": {},
     "output_type": "execute_result"
    }
   ],
   "source": [
    "\n",
    "stats = {}\n",
    "stats['Return'] = rets.mean() * 252\n",
    "stats['Volatility'] = rets.std() * np.sqrt(252)\n",
    "stats['Sharpe Ratio'] = stats['Return'] / stats['Volatility']\n",
    "stats = pd.DataFrame(stats).T\n",
    "stats"
   ]
  },
  {
   "cell_type": "code",
   "execution_count": 16,
   "id": "c1050377",
   "metadata": {},
   "outputs": [
    {
     "data": {
      "text/html": [
       "<div>\n",
       "<style scoped>\n",
       "    .dataframe tbody tr th:only-of-type {\n",
       "        vertical-align: middle;\n",
       "    }\n",
       "\n",
       "    .dataframe tbody tr th {\n",
       "        vertical-align: top;\n",
       "    }\n",
       "\n",
       "    .dataframe thead th {\n",
       "        text-align: right;\n",
       "    }\n",
       "</style>\n",
       "<table border=\"1\" class=\"dataframe\">\n",
       "  <thead>\n",
       "    <tr style=\"text-align: right;\">\n",
       "      <th></th>\n",
       "      <th>X</th>\n",
       "      <th>HEDGE</th>\n",
       "    </tr>\n",
       "  </thead>\n",
       "  <tbody>\n",
       "    <tr>\n",
       "      <th>X</th>\n",
       "      <td>1.000000</td>\n",
       "      <td>-0.513782</td>\n",
       "    </tr>\n",
       "    <tr>\n",
       "      <th>HEDGE</th>\n",
       "      <td>-0.513782</td>\n",
       "      <td>1.000000</td>\n",
       "    </tr>\n",
       "  </tbody>\n",
       "</table>\n",
       "</div>"
      ],
      "text/plain": [
       "              X     HEDGE\n",
       "X      1.000000 -0.513782\n",
       "HEDGE -0.513782  1.000000"
      ]
     },
     "execution_count": 16,
     "metadata": {},
     "output_type": "execute_result"
    }
   ],
   "source": [
    "rets.corr()"
   ]
  },
  {
   "cell_type": "markdown",
   "id": "85df1e6a",
   "metadata": {},
   "source": [
    "3. Combine the two returns streams optimally. What is the Sharpe ratio of the combo?"
   ]
  },
  {
   "cell_type": "code",
   "execution_count": 22,
   "id": "19ca0532",
   "metadata": {},
   "outputs": [
    {
     "data": {
      "text/plain": [
       "np.float64(2.028148067944188)"
      ]
     },
     "execution_count": 22,
     "metadata": {},
     "output_type": "execute_result"
    }
   ],
   "source": [
    "mu = rets.mean()\n",
    "sigma = rets.cov()\n",
    "\n",
    "def optimal_weights(sigma,mu):\n",
    "    wgt = np.linalg.inv(sigma) @ mu  # sigma^-1 * mu\n",
    "    wgt = wgt / np.abs(wgt).sum() \n",
    "    return wgt\n",
    "\n",
    "wgt = optimal_weights(sigma,mu)\n",
    "combo = (rets*wgt).sum(axis=1)\n",
    "combo.mean()/combo.std() * np.sqrt(252)  # Sharpe ratio of the combo"
   ]
  },
  {
   "cell_type": "code",
   "execution_count": 23,
   "id": "202807fc",
   "metadata": {},
   "outputs": [
    {
     "data": {
      "text/plain": [
       "array([0.5, 0.5])"
      ]
     },
     "execution_count": 23,
     "metadata": {},
     "output_type": "execute_result"
    }
   ],
   "source": [
    "wgt"
   ]
  },
  {
   "cell_type": "markdown",
   "id": "635843bb",
   "metadata": {},
   "source": [
    "### Why we have to normalize the weights"
   ]
  },
  {
   "cell_type": "code",
   "execution_count": 25,
   "id": "55441141",
   "metadata": {},
   "outputs": [
    {
     "data": {
      "text/plain": [
       "array([20.56692293, 20.56692293])"
      ]
     },
     "execution_count": 25,
     "metadata": {},
     "output_type": "execute_result"
    }
   ],
   "source": [
    "def optimal_weights2(sgima, mu):\n",
    "    wgt = np.linalg.inv(sigma) @ mu  # sigma^-1 * mu\n",
    "    return wgt\n",
    "\n",
    "wgt = optimal_weights2(sigma, mu)\n",
    "wgt"
   ]
  },
  {
   "cell_type": "markdown",
   "id": "beda068d",
   "metadata": {},
   "source": [
    "4. Now, compute what happens to the optimal weights and sharpes as we change the average annualized return on \"HEDGE\" in a range between -10% and 10% in increments of 1%. Roughly what return do you need on \"HEDGE\" to justify a zero weight?"
   ]
  },
  {
   "cell_type": "code",
   "execution_count": 26,
   "id": "daff3de1",
   "metadata": {},
   "outputs": [],
   "source": [
    "get_sharpe = lambda x: x.mean()/x.std()*np.sqrt(252)\n",
    "\n",
    "wgts = {}\n",
    "sharpes = {}\n",
    "for hedge_ret in np.arange(-0.1,0.11,0.01):\n",
    "\n",
    "    rets['HEDGE'] = rets['HEDGE'] - rets['HEDGE'].mean() + hedge_ret / 252\n",
    "    mu = rets.mean() \n",
    "    \n",
    "    wgt = pd.Series(optimal_weights(sigma,mu),mu.index)\n",
    "    \n",
    "    hedge_ret_str = '%.0f%%'%(hedge_ret*100)\n",
    "    wgts[hedge_ret_str] = wgt \n",
    "    \n",
    "    \n",
    "    sharpes[hedge_ret_str] = get_sharpe((rets*wgt).sum(1))\n",
    "    \n",
    "wgts = pd.DataFrame(wgts).T\n",
    "sharpes = pd.Series(sharpes)"
   ]
  },
  {
   "cell_type": "code",
   "execution_count": 27,
   "id": "5618a3e3",
   "metadata": {},
   "outputs": [
    {
     "data": {
      "text/html": [
       "<div>\n",
       "<style scoped>\n",
       "    .dataframe tbody tr th:only-of-type {\n",
       "        vertical-align: middle;\n",
       "    }\n",
       "\n",
       "    .dataframe tbody tr th {\n",
       "        vertical-align: top;\n",
       "    }\n",
       "\n",
       "    .dataframe thead th {\n",
       "        text-align: right;\n",
       "    }\n",
       "</style>\n",
       "<table border=\"1\" class=\"dataframe\">\n",
       "  <thead>\n",
       "    <tr style=\"text-align: right;\">\n",
       "      <th></th>\n",
       "      <th>X</th>\n",
       "      <th>HEDGE</th>\n",
       "    </tr>\n",
       "  </thead>\n",
       "  <tbody>\n",
       "    <tr>\n",
       "      <th>-10%</th>\n",
       "      <td>0.500000</td>\n",
       "      <td>-0.500000</td>\n",
       "    </tr>\n",
       "    <tr>\n",
       "      <th>-9%</th>\n",
       "      <td>0.581931</td>\n",
       "      <td>-0.418069</td>\n",
       "    </tr>\n",
       "    <tr>\n",
       "      <th>-8%</th>\n",
       "      <td>0.672966</td>\n",
       "      <td>-0.327034</td>\n",
       "    </tr>\n",
       "    <tr>\n",
       "      <th>-7%</th>\n",
       "      <td>0.774710</td>\n",
       "      <td>-0.225290</td>\n",
       "    </tr>\n",
       "    <tr>\n",
       "      <th>-6%</th>\n",
       "      <td>0.889173</td>\n",
       "      <td>-0.110827</td>\n",
       "    </tr>\n",
       "    <tr>\n",
       "      <th>-5%</th>\n",
       "      <td>0.981791</td>\n",
       "      <td>0.018209</td>\n",
       "    </tr>\n",
       "    <tr>\n",
       "      <th>-4%</th>\n",
       "      <td>0.874726</td>\n",
       "      <td>0.125274</td>\n",
       "    </tr>\n",
       "    <tr>\n",
       "      <th>-3%</th>\n",
       "      <td>0.798251</td>\n",
       "      <td>0.201749</td>\n",
       "    </tr>\n",
       "    <tr>\n",
       "      <th>-2%</th>\n",
       "      <td>0.740895</td>\n",
       "      <td>0.259105</td>\n",
       "    </tr>\n",
       "    <tr>\n",
       "      <th>-1%</th>\n",
       "      <td>0.696285</td>\n",
       "      <td>0.303715</td>\n",
       "    </tr>\n",
       "    <tr>\n",
       "      <th>-0%</th>\n",
       "      <td>0.660597</td>\n",
       "      <td>0.339403</td>\n",
       "    </tr>\n",
       "    <tr>\n",
       "      <th>1%</th>\n",
       "      <td>0.631397</td>\n",
       "      <td>0.368603</td>\n",
       "    </tr>\n",
       "    <tr>\n",
       "      <th>2%</th>\n",
       "      <td>0.607065</td>\n",
       "      <td>0.392935</td>\n",
       "    </tr>\n",
       "    <tr>\n",
       "      <th>3%</th>\n",
       "      <td>0.586475</td>\n",
       "      <td>0.413525</td>\n",
       "    </tr>\n",
       "    <tr>\n",
       "      <th>4%</th>\n",
       "      <td>0.568827</td>\n",
       "      <td>0.431173</td>\n",
       "    </tr>\n",
       "    <tr>\n",
       "      <th>5%</th>\n",
       "      <td>0.553532</td>\n",
       "      <td>0.446468</td>\n",
       "    </tr>\n",
       "    <tr>\n",
       "      <th>6%</th>\n",
       "      <td>0.540149</td>\n",
       "      <td>0.459851</td>\n",
       "    </tr>\n",
       "    <tr>\n",
       "      <th>7%</th>\n",
       "      <td>0.528341</td>\n",
       "      <td>0.471659</td>\n",
       "    </tr>\n",
       "    <tr>\n",
       "      <th>8%</th>\n",
       "      <td>0.517844</td>\n",
       "      <td>0.482156</td>\n",
       "    </tr>\n",
       "    <tr>\n",
       "      <th>9%</th>\n",
       "      <td>0.508452</td>\n",
       "      <td>0.491548</td>\n",
       "    </tr>\n",
       "    <tr>\n",
       "      <th>10%</th>\n",
       "      <td>0.500000</td>\n",
       "      <td>0.500000</td>\n",
       "    </tr>\n",
       "  </tbody>\n",
       "</table>\n",
       "</div>"
      ],
      "text/plain": [
       "             X     HEDGE\n",
       "-10%  0.500000 -0.500000\n",
       "-9%   0.581931 -0.418069\n",
       "-8%   0.672966 -0.327034\n",
       "-7%   0.774710 -0.225290\n",
       "-6%   0.889173 -0.110827\n",
       "-5%   0.981791  0.018209\n",
       "-4%   0.874726  0.125274\n",
       "-3%   0.798251  0.201749\n",
       "-2%   0.740895  0.259105\n",
       "-1%   0.696285  0.303715\n",
       "-0%   0.660597  0.339403\n",
       "1%    0.631397  0.368603\n",
       "2%    0.607065  0.392935\n",
       "3%    0.586475  0.413525\n",
       "4%    0.568827  0.431173\n",
       "5%    0.553532  0.446468\n",
       "6%    0.540149  0.459851\n",
       "7%    0.528341  0.471659\n",
       "8%    0.517844  0.482156\n",
       "9%    0.508452  0.491548\n",
       "10%   0.500000  0.500000"
      ]
     },
     "execution_count": 27,
     "metadata": {},
     "output_type": "execute_result"
    }
   ],
   "source": [
    "wgts"
   ]
  },
  {
   "cell_type": "code",
   "execution_count": 30,
   "id": "a5ebe394",
   "metadata": {},
   "outputs": [
    {
     "data": {
      "text/plain": [
       "<Axes: >"
      ]
     },
     "execution_count": 30,
     "metadata": {},
     "output_type": "execute_result"
    },
    {
     "data": {
      "image/png": "[encoded data removed]",
      "text/plain": [
       "<Figure size 640x480 with 1 Axes>"
      ]
     },
     "metadata": {},
     "output_type": "display_data"
    }
   ],
   "source": [
    "wgts.plot(kind = 'bar')"
   ]
  },
  {
   "cell_type": "code",
   "execution_count": 34,
   "id": "06d516df",
   "metadata": {},
   "outputs": [
    {
     "data": {
      "text/plain": [
       "<Axes: >"
      ]
     },
     "execution_count": 34,
     "metadata": {},
     "output_type": "execute_result"
    },
    {
     "data": {
      "image/png": "[encoded data removed]",
      "text/plain": [
       "<Figure size 640x480 with 1 Axes>"
      ]
     },
     "metadata": {},
     "output_type": "display_data"
    }
   ],
   "source": [
    "sharpes.plot()"
   ]
  },
  {
   "cell_type": "code",
   "execution_count": null,
   "id": "2e266ad7",
   "metadata": {},
   "outputs": [],
   "source": []
  }
 ],
 "metadata": {
  "kernelspec": {
   "display_name": "Python 3",
   "language": "python",
   "name": "python3"
  },
  "language_info": {
   "codemirror_mode": {
    "name": "ipython",
    "version": 3
   },
   "file_extension": ".py",
   "mimetype": "text/x-python",
   "name": "python",
   "nbconvert_exporter": "python",
   "pygments_lexer": "ipython3",
   "version": "3.13.5"
  }
 },
 "nbformat": 4,
 "nbformat_minor": 5
}
