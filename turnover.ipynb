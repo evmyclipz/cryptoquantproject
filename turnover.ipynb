{
 "cells": [
  {
   "cell_type": "code",
   "execution_count": 1,
   "id": "7e873c00",
   "metadata": {},
   "outputs": [
    {
     "name": "stderr",
     "output_type": "stream",
     "text": [
      "C:\\Users\\mroha\\AppData\\Local\\Temp\\ipykernel_28840\\3516647557.py:9: DeprecationWarning: Parsing dates involving a day of month without a year specified is ambiguious\n",
      "and fails to parse leap day. The default behavior will change in Python 3.15\n",
      "to either always raise an exception or to use a different default year (TBD).\n",
      "To avoid trouble, add a specific year to the input & format.\n",
      "See https://github.com/python/cpython/issues/70647.\n",
      "  data = client.get_historical_klines(symbol,freq,start_ts)\n",
      "C:\\Users\\mroha\\AppData\\Local\\Temp\\ipykernel_28840\\3516647557.py:16: DeprecationWarning: datetime.datetime.utcfromtimestamp() is deprecated and scheduled for removal in a future version. Use timezone-aware objects to represent datetimes in UTC: datetime.datetime.fromtimestamp(timestamp, datetime.UTC).\n",
      "  data['open_time'] = data['open_time'].map(lambda x: datetime.utcfromtimestamp(x/1000))\n",
      "C:\\Users\\mroha\\AppData\\Local\\Temp\\ipykernel_28840\\3516647557.py:17: DeprecationWarning: datetime.datetime.utcfromtimestamp() is deprecated and scheduled for removal in a future version. Use timezone-aware objects to represent datetimes in UTC: datetime.datetime.fromtimestamp(timestamp, datetime.UTC).\n",
      "  data['close_time'] = data['close_time'].map(lambda x: datetime.utcfromtimestamp(x/1000))\n",
      "C:\\Users\\mroha\\AppData\\Local\\Temp\\ipykernel_28840\\3516647557.py:30: FutureWarning: The default fill_method='pad' in DataFrame.pct_change is deprecated and will be removed in a future version. Either fill in any non-leading NA values prior to calling pct_change or specify 'fill_method=None' to not fill NA values.\n",
      "  ret = px.pct_change()\n"
     ]
    }
   ],
   "source": [
    "from binance.client import Client as bnb_client\n",
    "from datetime import datetime\n",
    "import pandas as pd \n",
    "import numpy as np \n",
    "\n",
    "client = bnb_client(tld='US')\n",
    "\n",
    "def get_binance_px(symbol,freq,start_ts = '2019-01-01'):\n",
    "    data = client.get_historical_klines(symbol,freq,start_ts)\n",
    "    columns = ['open_time','open','high','low','close','volume','close_time','quote_volume',\n",
    "    'num_trades','taker_base_volume','taker_quote_volume','ignore']\n",
    "\n",
    "    data = pd.DataFrame(data,columns = columns)\n",
    "    \n",
    "    # Convert from POSIX timestamp (number of millisecond since jan 1, 1970)\n",
    "    data['open_time'] = data['open_time'].map(lambda x: datetime.utcfromtimestamp(x/1000))\n",
    "    data['close_time'] = data['close_time'].map(lambda x: datetime.utcfromtimestamp(x/1000))\n",
    "    return data \n",
    "\n",
    "univ = ['BTCUSDT','ETHUSDT','ADAUSDT','BNBUSDT','XRPUSDT','DOTUSDT','MATICUSDT']\n",
    "\n",
    "freq = '1h'\n",
    "px = {}\n",
    "for x in univ:\n",
    "    data = get_binance_px(x,freq)\n",
    "    px[x] = data.set_index('open_time')['close']\n",
    "\n",
    "px = pd.DataFrame(px).astype(float)\n",
    "px = px.reindex(pd.date_range(px.index[0],px.index[-1],freq=freq))\n",
    "ret = px.pct_change()"
   ]
  },
  {
   "cell_type": "code",
   "execution_count": 3,
   "id": "e7f3f1f0",
   "metadata": {},
   "outputs": [
    {
     "data": {
      "application/vnd.microsoft.datawrangler.viewer.v0+json": {
       "columns": [
        {
         "name": "index",
         "rawType": "datetime64[ns]",
         "type": "datetime"
        },
        {
         "name": "BTCUSDT",
         "rawType": "float64",
         "type": "float"
        },
        {
         "name": "ETHUSDT",
         "rawType": "float64",
         "type": "float"
        },
        {
         "name": "ADAUSDT",
         "rawType": "float64",
         "type": "float"
        },
        {
         "name": "BNBUSDT",
         "rawType": "float64",
         "type": "float"
        },
        {
         "name": "XRPUSDT",
         "rawType": "float64",
         "type": "float"
        },
        {
         "name": "DOTUSDT",
         "rawType": "float64",
         "type": "float"
        },
        {
         "name": "MATICUSDT",
         "rawType": "float64",
         "type": "float"
        }
       ],
       "ref": "7e2ac71a-5116-43ae-84c8-a22a9d263571",
       "rows": [
        [
         "2019-09-23 08:00:00",
         null,
         null,
         null,
         null,
         null,
         null,
         null
        ],
        [
         "2019-09-23 09:00:00",
         "0.0",
         "0.0",
         null,
         "0.0",
         "0.0",
         null,
         null
        ],
        [
         "2019-09-23 10:00:00",
         "0.0",
         "0.0",
         null,
         "0.0",
         "0.0",
         null,
         null
        ],
        [
         "2019-09-23 11:00:00",
         "0.0",
         "0.0",
         null,
         "0.0",
         "0.0",
         null,
         null
        ],
        [
         "2019-09-23 12:00:00",
         "0.0",
         "0.0",
         null,
         "0.0",
         "0.0",
         null,
         null
        ],
        [
         "2019-09-23 13:00:00",
         "0.0",
         "0.0",
         null,
         "0.0",
         "0.0",
         null,
         null
        ],
        [
         "2019-09-23 14:00:00",
         "0.0",
         "0.0",
         null,
         "0.0",
         "0.0",
         null,
         null
        ],
        [
         "2019-09-23 15:00:00",
         "0.0",
         "0.0",
         null,
         "0.0",
         "0.0",
         null,
         null
        ],
        [
         "2019-09-23 16:00:00",
         "0.0",
         "0.0",
         null,
         "0.0",
         "0.0",
         null,
         null
        ],
        [
         "2019-09-23 17:00:00",
         "0.0",
         "0.0",
         null,
         "0.0",
         "0.0",
         null,
         null
        ],
        [
         "2019-09-23 18:00:00",
         "0.0",
         "0.0",
         null,
         "0.0",
         "0.0",
         null,
         null
        ],
        [
         "2019-09-23 19:00:00",
         "0.0",
         "0.0",
         null,
         "0.0",
         "0.0",
         null,
         null
        ],
        [
         "2019-09-23 20:00:00",
         "0.0",
         "0.0",
         null,
         "0.0",
         "0.0",
         null,
         null
        ],
        [
         "2019-09-23 21:00:00",
         "0.0",
         "0.0",
         null,
         "0.0",
         "0.0",
         null,
         null
        ],
        [
         "2019-09-23 22:00:00",
         "0.0",
         "0.0",
         null,
         "0.0",
         "0.0",
         null,
         null
        ],
        [
         "2019-09-23 23:00:00",
         "0.0",
         "0.0",
         null,
         "0.0",
         "0.0",
         null,
         null
        ],
        [
         "2019-09-24 00:00:00",
         "0.0",
         "0.0",
         null,
         "0.0",
         "0.0",
         null,
         null
        ],
        [
         "2019-09-24 01:00:00",
         "0.0",
         "0.0",
         null,
         "0.0",
         "0.0",
         null,
         null
        ],
        [
         "2019-09-24 02:00:00",
         "0.0",
         "0.0",
         null,
         "0.0",
         "0.0",
         null,
         null
        ],
        [
         "2019-09-24 03:00:00",
         "0.0",
         "0.0",
         null,
         "0.0",
         "0.0",
         null,
         null
        ],
        [
         "2019-09-24 04:00:00",
         "0.0",
         "0.0",
         null,
         "0.0",
         "0.0",
         null,
         null
        ],
        [
         "2019-09-24 05:00:00",
         "0.0",
         "0.0",
         null,
         "0.0",
         "0.0",
         null,
         null
        ],
        [
         "2019-09-24 06:00:00",
         "0.0",
         "0.0",
         null,
         "0.0",
         "0.0",
         null,
         null
        ],
        [
         "2019-09-24 07:00:00",
         "0.0",
         "0.0",
         null,
         "0.0",
         "0.0",
         null,
         null
        ],
        [
         "2019-09-24 08:00:00",
         "0.0",
         "0.0",
         null,
         "0.0",
         "0.0",
         null,
         null
        ],
        [
         "2019-09-24 09:00:00",
         "0.0",
         "0.0",
         null,
         "0.0",
         "0.0",
         null,
         null
        ],
        [
         "2019-09-24 10:00:00",
         "0.0",
         "0.0",
         null,
         "0.0",
         "0.0",
         null,
         null
        ],
        [
         "2019-09-24 11:00:00",
         "0.0",
         "0.0",
         null,
         "0.0",
         "0.0",
         null,
         null
        ],
        [
         "2019-09-24 12:00:00",
         "0.0",
         "0.0",
         null,
         "0.0",
         "0.0",
         null,
         null
        ],
        [
         "2019-09-24 13:00:00",
         "-0.02945580772859968",
         "-0.06704843712717734",
         null,
         "0.0",
         "0.0",
         null,
         null
        ],
        [
         "2019-09-24 14:00:00",
         "-0.010645770796347098",
         "-0.022710997442455194",
         null,
         "-0.06309768747453293",
         "-0.04554941232470433",
         null,
         null
        ],
        [
         "2019-09-24 15:00:00",
         "-0.001431563403576197",
         "0.008007955616036844",
         null,
         "0.006781426515753308",
         "0.0048720604595848815",
         null,
         null
        ],
        [
         "2019-09-24 16:00:00",
         "-0.0017854554696903335",
         "-0.014902123682434265",
         null,
         "0.0009439647586491073",
         "-0.0069481560662746356",
         null,
         null
        ],
        [
         "2019-09-24 17:00:00",
         "-0.003674095522275045",
         "-0.0044275774826059155",
         null,
         "-0.01430063297883677",
         "0.001653083192372673",
         null,
         null
        ],
        [
         "2019-09-24 18:00:00",
         "-0.08875374097361399",
         "-0.12341168996188057",
         null,
         "-0.0728486486486486",
         "-0.07503358280560357",
         null,
         null
        ],
        [
         "2019-09-24 19:00:00",
         "-0.02511527973660932",
         "-0.0030802681645224483",
         null,
         "-0.06455110976370504",
         "-0.024854771784232343",
         null,
         null
        ],
        [
         "2019-09-24 20:00:00",
         "0.021512572676405606",
         "-0.0009087604507451719",
         null,
         "0.027522421175312006",
         "-0.001063784519807709",
         null,
         null
        ],
        [
         "2019-09-24 21:00:00",
         "0.007360419677747476",
         "0.015766175489660972",
         null,
         "-0.00789727477299873",
         "0.02347077866757541",
         null,
         null
        ],
        [
         "2019-09-24 22:00:00",
         "0.0036030686731720607",
         "0.008596501701390924",
         null,
         "-0.0052456210069390385",
         "-0.0067840346277106",
         null,
         null
        ],
        [
         "2019-09-24 23:00:00",
         "-0.019341137470216596",
         "-0.011009174311926495",
         null,
         "-0.024289059475007257",
         "-0.025142474019443473",
         null,
         null
        ],
        [
         "2019-09-25 00:00:00",
         "0.02134707095462618",
         "0.01083248548686333",
         null,
         "0.020572580391168938",
         "0.010359353507565228",
         null,
         null
        ],
        [
         "2019-09-25 01:00:00",
         "-0.0024489917876606704",
         "0.023031379514505623",
         null,
         "0.00869023151319892",
         "0.03552435651988928",
         null,
         null
        ],
        [
         "2019-09-25 02:00:00",
         "-0.01078542849671027",
         "-0.0035881706117252277",
         null,
         "-0.012237730145812531",
         "-0.012119967132292575",
         null,
         null
        ],
        [
         "2019-09-25 03:00:00",
         "-0.0013788910874024118",
         "-0.014055875007260243",
         null,
         "-0.0025088428968773613",
         "-0.00977334165107091",
         null,
         null
        ],
        [
         "2019-09-25 04:00:00",
         "-0.005933686851075981",
         "-0.010721649484536022",
         null,
         "-0.013873708267090556",
         "0.0006299874002519967",
         null,
         null
        ],
        [
         "2019-09-25 05:00:00",
         "-0.002196180382430968",
         "0.005002084201750856",
         null,
         "-0.003211789155488365",
         "0.0",
         null,
         null
        ],
        [
         "2019-09-25 06:00:00",
         "-0.0026195831476619746",
         "-0.0015998103928424046",
         null,
         "-0.0005370229972201379",
         "0.0055823714585518935",
         null,
         null
        ],
        [
         "2019-09-25 07:00:00",
         "-0.016326982903232312",
         "-0.006884272997032648",
         null,
         "-0.00889408641233913",
         "0.0",
         null,
         null
        ],
        [
         "2019-09-25 08:00:00",
         "-0.009375161036336954",
         "-0.02001912274411377",
         null,
         "-0.03521953210704909",
         "-0.024709909007429642",
         null,
         null
        ],
        [
         "2019-09-25 09:00:00",
         "0.0005250321793917045",
         "0.0122568449295688",
         null,
         "0.01053772824031829",
         "0.0",
         null,
         null
        ]
       ],
       "shape": {
        "columns": 7,
        "rows": 51956
       }
      },
      "text/html": [
       "<div>\n",
       "<style scoped>\n",
       "    .dataframe tbody tr th:only-of-type {\n",
       "        vertical-align: middle;\n",
       "    }\n",
       "\n",
       "    .dataframe tbody tr th {\n",
       "        vertical-align: top;\n",
       "    }\n",
       "\n",
       "    .dataframe thead th {\n",
       "        text-align: right;\n",
       "    }\n",
       "</style>\n",
       "<table border=\"1\" class=\"dataframe\">\n",
       "  <thead>\n",
       "    <tr style=\"text-align: right;\">\n",
       "      <th></th>\n",
       "      <th>BTCUSDT</th>\n",
       "      <th>ETHUSDT</th>\n",
       "      <th>ADAUSDT</th>\n",
       "      <th>BNBUSDT</th>\n",
       "      <th>XRPUSDT</th>\n",
       "      <th>DOTUSDT</th>\n",
       "      <th>MATICUSDT</th>\n",
       "    </tr>\n",
       "  </thead>\n",
       "  <tbody>\n",
       "    <tr>\n",
       "      <th>2019-09-23 08:00:00</th>\n",
       "      <td>NaN</td>\n",
       "      <td>NaN</td>\n",
       "      <td>NaN</td>\n",
       "      <td>NaN</td>\n",
       "      <td>NaN</td>\n",
       "      <td>NaN</td>\n",
       "      <td>NaN</td>\n",
       "    </tr>\n",
       "    <tr>\n",
       "      <th>2019-09-23 09:00:00</th>\n",
       "      <td>0.000000</td>\n",
       "      <td>0.000000</td>\n",
       "      <td>NaN</td>\n",
       "      <td>0.000000</td>\n",
       "      <td>0.000000</td>\n",
       "      <td>NaN</td>\n",
       "      <td>NaN</td>\n",
       "    </tr>\n",
       "    <tr>\n",
       "      <th>2019-09-23 10:00:00</th>\n",
       "      <td>0.000000</td>\n",
       "      <td>0.000000</td>\n",
       "      <td>NaN</td>\n",
       "      <td>0.000000</td>\n",
       "      <td>0.000000</td>\n",
       "      <td>NaN</td>\n",
       "      <td>NaN</td>\n",
       "    </tr>\n",
       "    <tr>\n",
       "      <th>2019-09-23 11:00:00</th>\n",
       "      <td>0.000000</td>\n",
       "      <td>0.000000</td>\n",
       "      <td>NaN</td>\n",
       "      <td>0.000000</td>\n",
       "      <td>0.000000</td>\n",
       "      <td>NaN</td>\n",
       "      <td>NaN</td>\n",
       "    </tr>\n",
       "    <tr>\n",
       "      <th>2019-09-23 12:00:00</th>\n",
       "      <td>0.000000</td>\n",
       "      <td>0.000000</td>\n",
       "      <td>NaN</td>\n",
       "      <td>0.000000</td>\n",
       "      <td>0.000000</td>\n",
       "      <td>NaN</td>\n",
       "      <td>NaN</td>\n",
       "    </tr>\n",
       "    <tr>\n",
       "      <th>...</th>\n",
       "      <td>...</td>\n",
       "      <td>...</td>\n",
       "      <td>...</td>\n",
       "      <td>...</td>\n",
       "      <td>...</td>\n",
       "      <td>...</td>\n",
       "      <td>...</td>\n",
       "    </tr>\n",
       "    <tr>\n",
       "      <th>2025-08-26 23:00:00</th>\n",
       "      <td>-0.001022</td>\n",
       "      <td>0.001372</td>\n",
       "      <td>0.000000</td>\n",
       "      <td>-0.002312</td>\n",
       "      <td>-0.000166</td>\n",
       "      <td>-0.004618</td>\n",
       "      <td>0.0</td>\n",
       "    </tr>\n",
       "    <tr>\n",
       "      <th>2025-08-27 00:00:00</th>\n",
       "      <td>-0.003101</td>\n",
       "      <td>-0.007000</td>\n",
       "      <td>-0.006467</td>\n",
       "      <td>0.002770</td>\n",
       "      <td>-0.009027</td>\n",
       "      <td>-0.001289</td>\n",
       "      <td>0.0</td>\n",
       "    </tr>\n",
       "    <tr>\n",
       "      <th>2025-08-27 01:00:00</th>\n",
       "      <td>-0.002705</td>\n",
       "      <td>-0.003399</td>\n",
       "      <td>0.002092</td>\n",
       "      <td>-0.006957</td>\n",
       "      <td>0.004789</td>\n",
       "      <td>0.006968</td>\n",
       "      <td>0.0</td>\n",
       "    </tr>\n",
       "    <tr>\n",
       "      <th>2025-08-27 02:00:00</th>\n",
       "      <td>-0.000101</td>\n",
       "      <td>0.005325</td>\n",
       "      <td>0.003132</td>\n",
       "      <td>0.003852</td>\n",
       "      <td>-0.001833</td>\n",
       "      <td>0.000000</td>\n",
       "      <td>0.0</td>\n",
       "    </tr>\n",
       "    <tr>\n",
       "      <th>2025-08-27 03:00:00</th>\n",
       "      <td>0.000975</td>\n",
       "      <td>-0.007588</td>\n",
       "      <td>-0.007863</td>\n",
       "      <td>-0.005692</td>\n",
       "      <td>-0.004207</td>\n",
       "      <td>-0.011276</td>\n",
       "      <td>0.0</td>\n",
       "    </tr>\n",
       "  </tbody>\n",
       "</table>\n",
       "<p>51956 rows × 7 columns</p>\n",
       "</div>"
      ],
      "text/plain": [
       "                      BTCUSDT   ETHUSDT   ADAUSDT   BNBUSDT   XRPUSDT  \\\n",
       "2019-09-23 08:00:00       NaN       NaN       NaN       NaN       NaN   \n",
       "2019-09-23 09:00:00  0.000000  0.000000       NaN  0.000000  0.000000   \n",
       "2019-09-23 10:00:00  0.000000  0.000000       NaN  0.000000  0.000000   \n",
       "2019-09-23 11:00:00  0.000000  0.000000       NaN  0.000000  0.000000   \n",
       "2019-09-23 12:00:00  0.000000  0.000000       NaN  0.000000  0.000000   \n",
       "...                       ...       ...       ...       ...       ...   \n",
       "2025-08-26 23:00:00 -0.001022  0.001372  0.000000 -0.002312 -0.000166   \n",
       "2025-08-27 00:00:00 -0.003101 -0.007000 -0.006467  0.002770 -0.009027   \n",
       "2025-08-27 01:00:00 -0.002705 -0.003399  0.002092 -0.006957  0.004789   \n",
       "2025-08-27 02:00:00 -0.000101  0.005325  0.003132  0.003852 -0.001833   \n",
       "2025-08-27 03:00:00  0.000975 -0.007588 -0.007863 -0.005692 -0.004207   \n",
       "\n",
       "                      DOTUSDT  MATICUSDT  \n",
       "2019-09-23 08:00:00       NaN        NaN  \n",
       "2019-09-23 09:00:00       NaN        NaN  \n",
       "2019-09-23 10:00:00       NaN        NaN  \n",
       "2019-09-23 11:00:00       NaN        NaN  \n",
       "2019-09-23 12:00:00       NaN        NaN  \n",
       "...                       ...        ...  \n",
       "2025-08-26 23:00:00 -0.004618        0.0  \n",
       "2025-08-27 00:00:00 -0.001289        0.0  \n",
       "2025-08-27 01:00:00  0.006968        0.0  \n",
       "2025-08-27 02:00:00  0.000000        0.0  \n",
       "2025-08-27 03:00:00 -0.011276        0.0  \n",
       "\n",
       "[51956 rows x 7 columns]"
      ]
     },
     "execution_count": 3,
     "metadata": {},
     "output_type": "execute_result"
    }
   ],
   "source": [
    "ret"
   ]
  },
  {
   "cell_type": "code",
   "execution_count": 2,
   "id": "68ee0469",
   "metadata": {},
   "outputs": [
    {
     "data": {
      "application/vnd.microsoft.datawrangler.viewer.v0+json": {
       "columns": [
        {
         "name": "index",
         "rawType": "datetime64[ns]",
         "type": "datetime"
        },
        {
         "name": "BTCUSDT",
         "rawType": "float64",
         "type": "float"
        },
        {
         "name": "ETHUSDT",
         "rawType": "float64",
         "type": "float"
        },
        {
         "name": "ADAUSDT",
         "rawType": "float64",
         "type": "float"
        },
        {
         "name": "BNBUSDT",
         "rawType": "float64",
         "type": "float"
        },
        {
         "name": "XRPUSDT",
         "rawType": "float64",
         "type": "float"
        },
        {
         "name": "DOTUSDT",
         "rawType": "float64",
         "type": "float"
        },
        {
         "name": "MATICUSDT",
         "rawType": "float64",
         "type": "float"
        }
       ],
       "ref": "f219a95d-75a0-424f-bdc9-9b2c9696d55d",
       "rows": [
        [
         "2019-09-23 08:00:00",
         null,
         null,
         null,
         null,
         null,
         null,
         null
        ],
        [
         "2019-09-23 09:00:00",
         null,
         null,
         null,
         null,
         null,
         null,
         null
        ],
        [
         "2019-09-23 10:00:00",
         null,
         null,
         null,
         null,
         null,
         null,
         null
        ],
        [
         "2019-09-23 11:00:00",
         null,
         null,
         null,
         null,
         null,
         null,
         null
        ],
        [
         "2019-09-23 12:00:00",
         null,
         null,
         null,
         null,
         null,
         null,
         null
        ],
        [
         "2019-09-23 13:00:00",
         null,
         null,
         null,
         null,
         null,
         null,
         null
        ],
        [
         "2019-09-23 14:00:00",
         null,
         null,
         null,
         null,
         null,
         null,
         null
        ],
        [
         "2019-09-23 15:00:00",
         null,
         null,
         null,
         null,
         null,
         null,
         null
        ],
        [
         "2019-09-23 16:00:00",
         null,
         null,
         null,
         null,
         null,
         null,
         null
        ],
        [
         "2019-09-23 17:00:00",
         null,
         null,
         null,
         null,
         null,
         null,
         null
        ],
        [
         "2019-09-23 18:00:00",
         null,
         null,
         null,
         null,
         null,
         null,
         null
        ],
        [
         "2019-09-23 19:00:00",
         null,
         null,
         null,
         null,
         null,
         null,
         null
        ],
        [
         "2019-09-23 20:00:00",
         null,
         null,
         null,
         null,
         null,
         null,
         null
        ],
        [
         "2019-09-23 21:00:00",
         null,
         null,
         null,
         null,
         null,
         null,
         null
        ],
        [
         "2019-09-23 22:00:00",
         null,
         null,
         null,
         null,
         null,
         null,
         null
        ],
        [
         "2019-09-23 23:00:00",
         null,
         null,
         null,
         null,
         null,
         null,
         null
        ],
        [
         "2019-09-24 00:00:00",
         null,
         null,
         null,
         null,
         null,
         null,
         null
        ],
        [
         "2019-09-24 01:00:00",
         null,
         null,
         null,
         null,
         null,
         null,
         null
        ],
        [
         "2019-09-24 02:00:00",
         null,
         null,
         null,
         null,
         null,
         null,
         null
        ],
        [
         "2019-09-24 03:00:00",
         null,
         null,
         null,
         null,
         null,
         null,
         null
        ],
        [
         "2019-09-24 04:00:00",
         null,
         null,
         null,
         null,
         null,
         null,
         null
        ],
        [
         "2019-09-24 05:00:00",
         null,
         null,
         null,
         null,
         null,
         null,
         null
        ],
        [
         "2019-09-24 06:00:00",
         null,
         null,
         null,
         null,
         null,
         null,
         null
        ],
        [
         "2019-09-24 07:00:00",
         null,
         null,
         null,
         null,
         null,
         null,
         null
        ],
        [
         "2019-09-24 08:00:00",
         null,
         null,
         null,
         null,
         null,
         null,
         null
        ],
        [
         "2019-09-24 09:00:00",
         null,
         null,
         null,
         null,
         null,
         null,
         null
        ],
        [
         "2019-09-24 10:00:00",
         null,
         null,
         null,
         null,
         null,
         null,
         null
        ],
        [
         "2019-09-24 11:00:00",
         null,
         null,
         null,
         null,
         null,
         null,
         null
        ],
        [
         "2019-09-24 12:00:00",
         null,
         null,
         null,
         null,
         null,
         null,
         null
        ],
        [
         "2019-09-24 13:00:00",
         "0.125",
         "0.375",
         null,
         "-0.25",
         "-0.25",
         null,
         null
        ],
        [
         "2019-09-24 14:00:00",
         "-0.375",
         "-0.125",
         null,
         "0.375",
         "0.125",
         null,
         null
        ],
        [
         "2019-09-24 15:00:00",
         "0.375",
         "-0.375",
         null,
         "-0.125",
         "0.125",
         null,
         null
        ],
        [
         "2019-09-24 16:00:00",
         "-0.125",
         "0.375",
         null,
         "-0.375",
         "0.125",
         null,
         null
        ],
        [
         "2019-09-24 17:00:00",
         "-0.125",
         "0.125",
         null,
         "0.375",
         "-0.375",
         null,
         null
        ],
        [
         "2019-09-24 18:00:00",
         "0.125",
         "0.375",
         null,
         "-0.375",
         "-0.125",
         null,
         null
        ],
        [
         "2019-09-24 19:00:00",
         "0.125",
         "-0.375",
         null,
         "0.375",
         "-0.125",
         null,
         null
        ],
        [
         "2019-09-24 20:00:00",
         "-0.125",
         "0.125",
         null,
         "-0.375",
         "0.375",
         null,
         null
        ],
        [
         "2019-09-24 21:00:00",
         "0.125",
         "-0.125",
         null,
         "0.375",
         "-0.375",
         null,
         null
        ],
        [
         "2019-09-24 22:00:00",
         "-0.125",
         "-0.375",
         null,
         "0.125",
         "0.375",
         null,
         null
        ],
        [
         "2019-09-24 23:00:00",
         "-0.125",
         "-0.375",
         null,
         "0.125",
         "0.375",
         null,
         null
        ],
        [
         "2019-09-25 00:00:00",
         "-0.375",
         "0.125",
         null,
         "-0.125",
         "0.375",
         null,
         null
        ],
        [
         "2019-09-25 01:00:00",
         "0.375",
         "-0.125",
         null,
         "0.125",
         "-0.375",
         null,
         null
        ],
        [
         "2019-09-25 02:00:00",
         "-0.125",
         "-0.375",
         null,
         "0.375",
         "0.125",
         null,
         null
        ],
        [
         "2019-09-25 03:00:00",
         "-0.375",
         "0.375",
         null,
         "-0.125",
         "0.125",
         null,
         null
        ],
        [
         "2019-09-25 04:00:00",
         "-0.125",
         "0.125",
         null,
         "0.375",
         "-0.375",
         null,
         null
        ],
        [
         "2019-09-25 05:00:00",
         "0.125",
         "-0.375",
         null,
         "0.375",
         "-0.125",
         null,
         null
        ],
        [
         "2019-09-25 06:00:00",
         "0.375",
         "0.125",
         null,
         "-0.125",
         "-0.375",
         null,
         null
        ],
        [
         "2019-09-25 07:00:00",
         "0.375",
         "-0.125",
         null,
         "0.125",
         "-0.375",
         null,
         null
        ],
        [
         "2019-09-25 08:00:00",
         "-0.375",
         "-0.125",
         null,
         "0.375",
         "0.125",
         null,
         null
        ],
        [
         "2019-09-25 09:00:00",
         "0.125",
         "-0.375",
         null,
         "-0.125",
         "0.375",
         null,
         null
        ]
       ],
       "shape": {
        "columns": 7,
        "rows": 51956
       }
      },
      "text/html": [
       "<div>\n",
       "<style scoped>\n",
       "    .dataframe tbody tr th:only-of-type {\n",
       "        vertical-align: middle;\n",
       "    }\n",
       "\n",
       "    .dataframe tbody tr th {\n",
       "        vertical-align: top;\n",
       "    }\n",
       "\n",
       "    .dataframe thead th {\n",
       "        text-align: right;\n",
       "    }\n",
       "</style>\n",
       "<table border=\"1\" class=\"dataframe\">\n",
       "  <thead>\n",
       "    <tr style=\"text-align: right;\">\n",
       "      <th></th>\n",
       "      <th>BTCUSDT</th>\n",
       "      <th>ETHUSDT</th>\n",
       "      <th>ADAUSDT</th>\n",
       "      <th>BNBUSDT</th>\n",
       "      <th>XRPUSDT</th>\n",
       "      <th>DOTUSDT</th>\n",
       "      <th>MATICUSDT</th>\n",
       "    </tr>\n",
       "  </thead>\n",
       "  <tbody>\n",
       "    <tr>\n",
       "      <th>2019-09-23 08:00:00</th>\n",
       "      <td>NaN</td>\n",
       "      <td>NaN</td>\n",
       "      <td>NaN</td>\n",
       "      <td>NaN</td>\n",
       "      <td>NaN</td>\n",
       "      <td>NaN</td>\n",
       "      <td>NaN</td>\n",
       "    </tr>\n",
       "    <tr>\n",
       "      <th>2019-09-23 09:00:00</th>\n",
       "      <td>NaN</td>\n",
       "      <td>NaN</td>\n",
       "      <td>NaN</td>\n",
       "      <td>NaN</td>\n",
       "      <td>NaN</td>\n",
       "      <td>NaN</td>\n",
       "      <td>NaN</td>\n",
       "    </tr>\n",
       "    <tr>\n",
       "      <th>2019-09-23 10:00:00</th>\n",
       "      <td>NaN</td>\n",
       "      <td>NaN</td>\n",
       "      <td>NaN</td>\n",
       "      <td>NaN</td>\n",
       "      <td>NaN</td>\n",
       "      <td>NaN</td>\n",
       "      <td>NaN</td>\n",
       "    </tr>\n",
       "    <tr>\n",
       "      <th>2019-09-23 11:00:00</th>\n",
       "      <td>NaN</td>\n",
       "      <td>NaN</td>\n",
       "      <td>NaN</td>\n",
       "      <td>NaN</td>\n",
       "      <td>NaN</td>\n",
       "      <td>NaN</td>\n",
       "      <td>NaN</td>\n",
       "    </tr>\n",
       "    <tr>\n",
       "      <th>2019-09-23 12:00:00</th>\n",
       "      <td>NaN</td>\n",
       "      <td>NaN</td>\n",
       "      <td>NaN</td>\n",
       "      <td>NaN</td>\n",
       "      <td>NaN</td>\n",
       "      <td>NaN</td>\n",
       "      <td>NaN</td>\n",
       "    </tr>\n",
       "    <tr>\n",
       "      <th>...</th>\n",
       "      <td>...</td>\n",
       "      <td>...</td>\n",
       "      <td>...</td>\n",
       "      <td>...</td>\n",
       "      <td>...</td>\n",
       "      <td>...</td>\n",
       "      <td>...</td>\n",
       "    </tr>\n",
       "    <tr>\n",
       "      <th>2025-08-26 23:00:00</th>\n",
       "      <td>0.083333</td>\n",
       "      <td>-0.250000</td>\n",
       "      <td>-0.125000</td>\n",
       "      <td>0.166667</td>\n",
       "      <td>0.000000</td>\n",
       "      <td>0.250000</td>\n",
       "      <td>-0.125000</td>\n",
       "    </tr>\n",
       "    <tr>\n",
       "      <th>2025-08-27 00:00:00</th>\n",
       "      <td>0.000000</td>\n",
       "      <td>0.166667</td>\n",
       "      <td>0.083333</td>\n",
       "      <td>-0.250000</td>\n",
       "      <td>0.250000</td>\n",
       "      <td>-0.083333</td>\n",
       "      <td>-0.166667</td>\n",
       "    </tr>\n",
       "    <tr>\n",
       "      <th>2025-08-27 01:00:00</th>\n",
       "      <td>0.083333</td>\n",
       "      <td>0.166667</td>\n",
       "      <td>-0.083333</td>\n",
       "      <td>0.250000</td>\n",
       "      <td>-0.166667</td>\n",
       "      <td>-0.250000</td>\n",
       "      <td>0.000000</td>\n",
       "    </tr>\n",
       "    <tr>\n",
       "      <th>2025-08-27 02:00:00</th>\n",
       "      <td>0.166667</td>\n",
       "      <td>-0.250000</td>\n",
       "      <td>-0.083333</td>\n",
       "      <td>-0.166667</td>\n",
       "      <td>0.250000</td>\n",
       "      <td>0.041667</td>\n",
       "      <td>0.041667</td>\n",
       "    </tr>\n",
       "    <tr>\n",
       "      <th>2025-08-27 03:00:00</th>\n",
       "      <td>-0.250000</td>\n",
       "      <td>0.083333</td>\n",
       "      <td>0.166667</td>\n",
       "      <td>0.000000</td>\n",
       "      <td>-0.083333</td>\n",
       "      <td>0.250000</td>\n",
       "      <td>-0.166667</td>\n",
       "    </tr>\n",
       "  </tbody>\n",
       "</table>\n",
       "<p>51956 rows × 7 columns</p>\n",
       "</div>"
      ],
      "text/plain": [
       "                      BTCUSDT   ETHUSDT   ADAUSDT   BNBUSDT   XRPUSDT  \\\n",
       "2019-09-23 08:00:00       NaN       NaN       NaN       NaN       NaN   \n",
       "2019-09-23 09:00:00       NaN       NaN       NaN       NaN       NaN   \n",
       "2019-09-23 10:00:00       NaN       NaN       NaN       NaN       NaN   \n",
       "2019-09-23 11:00:00       NaN       NaN       NaN       NaN       NaN   \n",
       "2019-09-23 12:00:00       NaN       NaN       NaN       NaN       NaN   \n",
       "...                       ...       ...       ...       ...       ...   \n",
       "2025-08-26 23:00:00  0.083333 -0.250000 -0.125000  0.166667  0.000000   \n",
       "2025-08-27 00:00:00  0.000000  0.166667  0.083333 -0.250000  0.250000   \n",
       "2025-08-27 01:00:00  0.083333  0.166667 -0.083333  0.250000 -0.166667   \n",
       "2025-08-27 02:00:00  0.166667 -0.250000 -0.083333 -0.166667  0.250000   \n",
       "2025-08-27 03:00:00 -0.250000  0.083333  0.166667  0.000000 -0.083333   \n",
       "\n",
       "                      DOTUSDT  MATICUSDT  \n",
       "2019-09-23 08:00:00       NaN        NaN  \n",
       "2019-09-23 09:00:00       NaN        NaN  \n",
       "2019-09-23 10:00:00       NaN        NaN  \n",
       "2019-09-23 11:00:00       NaN        NaN  \n",
       "2019-09-23 12:00:00       NaN        NaN  \n",
       "...                       ...        ...  \n",
       "2025-08-26 23:00:00  0.250000  -0.125000  \n",
       "2025-08-27 00:00:00 -0.083333  -0.166667  \n",
       "2025-08-27 01:00:00 -0.250000   0.000000  \n",
       "2025-08-27 02:00:00  0.041667   0.041667  \n",
       "2025-08-27 03:00:00  0.250000  -0.166667  \n",
       "\n",
       "[51956 rows x 7 columns]"
      ]
     },
     "execution_count": 2,
     "metadata": {},
     "output_type": "execute_result"
    }
   ],
   "source": [
    "# standard rank-demean-normalized portfolio\n",
    "hor = 1\n",
    "port = (-1.0*ret.rolling(hor,min_periods=1).mean()).rank(1)\n",
    "port = port.subtract(port.mean(1),0)\n",
    "port = port.divide(port.abs().sum(1),0)\n",
    "port"
   ]
  },
  {
   "cell_type": "code",
   "execution_count": 4,
   "id": "7519e1c0",
   "metadata": {},
   "outputs": [
    {
     "data": {
      "application/vnd.microsoft.datawrangler.viewer.v0+json": {
       "columns": [
        {
         "name": "index",
         "rawType": "datetime64[ns]",
         "type": "datetime"
        },
        {
         "name": "0",
         "rawType": "float64",
         "type": "float"
        }
       ],
       "ref": "de5179d0-581d-4817-8cca-f9ec82cfed55",
       "rows": [
        [
         "2019-09-23 08:00:00",
         "0.0"
        ],
        [
         "2019-09-23 09:00:00",
         "0.0"
        ],
        [
         "2019-09-23 10:00:00",
         "0.0"
        ],
        [
         "2019-09-23 11:00:00",
         "0.0"
        ],
        [
         "2019-09-23 12:00:00",
         "0.0"
        ],
        [
         "2019-09-23 13:00:00",
         "0.0"
        ],
        [
         "2019-09-23 14:00:00",
         "0.0"
        ],
        [
         "2019-09-23 15:00:00",
         "0.0"
        ],
        [
         "2019-09-23 16:00:00",
         "0.0"
        ],
        [
         "2019-09-23 17:00:00",
         "0.0"
        ],
        [
         "2019-09-23 18:00:00",
         "0.0"
        ],
        [
         "2019-09-23 19:00:00",
         "0.0"
        ],
        [
         "2019-09-23 20:00:00",
         "0.0"
        ],
        [
         "2019-09-23 21:00:00",
         "0.0"
        ],
        [
         "2019-09-23 22:00:00",
         "0.0"
        ],
        [
         "2019-09-23 23:00:00",
         "0.0"
        ],
        [
         "2019-09-24 00:00:00",
         "0.0"
        ],
        [
         "2019-09-24 01:00:00",
         "0.0"
        ],
        [
         "2019-09-24 02:00:00",
         "0.0"
        ],
        [
         "2019-09-24 03:00:00",
         "0.0"
        ],
        [
         "2019-09-24 04:00:00",
         "0.0"
        ],
        [
         "2019-09-24 05:00:00",
         "0.0"
        ],
        [
         "2019-09-24 06:00:00",
         "0.0"
        ],
        [
         "2019-09-24 07:00:00",
         "0.0"
        ],
        [
         "2019-09-24 08:00:00",
         "0.0"
        ],
        [
         "2019-09-24 09:00:00",
         "0.0"
        ],
        [
         "2019-09-24 10:00:00",
         "0.0"
        ],
        [
         "2019-09-24 11:00:00",
         "0.0"
        ],
        [
         "2019-09-24 12:00:00",
         "0.0"
        ],
        [
         "2019-09-24 13:00:00",
         "1.0"
        ],
        [
         "2019-09-24 14:00:00",
         "2.0"
        ],
        [
         "2019-09-24 15:00:00",
         "1.5"
        ],
        [
         "2019-09-24 16:00:00",
         "1.5"
        ],
        [
         "2019-09-24 17:00:00",
         "1.5"
        ],
        [
         "2019-09-24 18:00:00",
         "1.5"
        ],
        [
         "2019-09-24 19:00:00",
         "1.5"
        ],
        [
         "2019-09-24 20:00:00",
         "2.0"
        ],
        [
         "2019-09-24 21:00:00",
         "2.0"
        ],
        [
         "2019-09-24 22:00:00",
         "1.5"
        ],
        [
         "2019-09-24 23:00:00",
         "0.0"
        ],
        [
         "2019-09-25 00:00:00",
         "1.0"
        ],
        [
         "2019-09-25 01:00:00",
         "2.0"
        ],
        [
         "2019-09-25 02:00:00",
         "1.5"
        ],
        [
         "2019-09-25 03:00:00",
         "1.5"
        ],
        [
         "2019-09-25 04:00:00",
         "1.5"
        ],
        [
         "2019-09-25 05:00:00",
         "1.0"
        ],
        [
         "2019-09-25 06:00:00",
         "1.5"
        ],
        [
         "2019-09-25 07:00:00",
         "0.5"
        ],
        [
         "2019-09-25 08:00:00",
         "1.5"
        ],
        [
         "2019-09-25 09:00:00",
         "1.5"
        ]
       ],
       "shape": {
        "columns": 1,
        "rows": 51956
       }
      },
      "text/plain": [
       "2019-09-23 08:00:00    0.000000\n",
       "2019-09-23 09:00:00    0.000000\n",
       "2019-09-23 10:00:00    0.000000\n",
       "2019-09-23 11:00:00    0.000000\n",
       "2019-09-23 12:00:00    0.000000\n",
       "                         ...   \n",
       "2025-08-26 23:00:00    2.000000\n",
       "2025-08-27 00:00:00    1.750000\n",
       "2025-08-27 01:00:00    1.500000\n",
       "2025-08-27 02:00:00    1.666667\n",
       "2025-08-27 03:00:00    1.916667\n",
       "Freq: h, Length: 51956, dtype: float64"
      ]
     },
     "execution_count": 4,
     "metadata": {},
     "output_type": "execute_result"
    }
   ],
   "source": [
    "# compute turnover\n",
    "to = (port.fillna(0) - port.shift().fillna(0)).abs().sum(1)\n",
    "to"
   ]
  },
  {
   "cell_type": "code",
   "execution_count": 5,
   "id": "496281b7",
   "metadata": {},
   "outputs": [
    {
     "data": {
      "text/plain": [
       "<Axes: >"
      ]
     },
     "execution_count": 5,
     "metadata": {},
     "output_type": "execute_result"
    },
    {
     "data": {
      "image/png": "[encoded data removed]",
      "text/plain": [
       "<Figure size 640x480 with 1 Axes>"
      ]
     },
     "metadata": {},
     "output_type": "display_data"
    }
   ],
   "source": [
    "# plot turnover\n",
    "to.plot()"
   ]
  },
  {
   "cell_type": "code",
   "execution_count": 6,
   "id": "5ff471d5",
   "metadata": {},
   "outputs": [
    {
     "data": {
      "text/plain": [
       "np.float64(1.4007015551620603)"
      ]
     },
     "execution_count": 6,
     "metadata": {},
     "output_type": "execute_result"
    }
   ],
   "source": [
    "# average turnover\n",
    "to.mean()"
   ]
  },
  {
   "cell_type": "code",
   "execution_count": 7,
   "id": "c1e328e8",
   "metadata": {},
   "outputs": [],
   "source": [
    "# gross of tcost returns\n",
    "gross_ret = (port.shift()*ret).sum(1)"
   ]
  },
  {
   "cell_type": "code",
   "execution_count": 8,
   "id": "4ac23538",
   "metadata": {},
   "outputs": [
    {
     "data": {
      "text/plain": [
       "np.float64(9.890920859850922)"
      ]
     },
     "execution_count": 8,
     "metadata": {},
     "output_type": "execute_result"
    }
   ],
   "source": [
    "gross_ret.mean() / gross_ret.std() * np.sqrt(24*365)"
   ]
  },
  {
   "cell_type": "code",
   "execution_count": 10,
   "id": "68b004a5",
   "metadata": {},
   "outputs": [],
   "source": [
    "# net of tcost returns\n",
    "tcost_bps = 20 # (comissions + slip)\n",
    "net_ret = gross_ret.subtract(to*tcost_bps*1e-4,fill_value=0)"
   ]
  },
  {
   "cell_type": "code",
   "execution_count": 11,
   "id": "9394c9ad",
   "metadata": {},
   "outputs": [
    {
     "data": {
      "text/plain": [
       "np.float64(-61.28481649237927)"
      ]
     },
     "execution_count": 11,
     "metadata": {},
     "output_type": "execute_result"
    }
   ],
   "source": [
    "net_ret.mean() / net_ret.std() * np.sqrt(24*365)"
   ]
  },
  {
   "cell_type": "markdown",
   "id": "3bbbd7d7",
   "metadata": {},
   "source": [
    "### Happens when frequency is too high and your are a big firm, so you may want to slow it down to reduce the tcosts_bps to get sharpe up"
   ]
  },
  {
   "cell_type": "markdown",
   "id": "015852ac",
   "metadata": {},
   "source": []
  }
 ],
 "metadata": {
  "kernelspec": {
   "display_name": "Python 3",
   "language": "python",
   "name": "python3"
  },
  "language_info": {
   "codemirror_mode": {
    "name": "ipython",
    "version": 3
   },
   "file_extension": ".py",
   "mimetype": "text/x-python",
   "name": "python",
   "nbconvert_exporter": "python",
   "pygments_lexer": "ipython3",
   "version": "3.13.5"
  }
 },
 "nbformat": 4,
 "nbformat_minor": 5
}
