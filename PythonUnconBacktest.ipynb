{
 "cells": [
  {
   "cell_type": "markdown",
   "id": "e44e6e84",
   "metadata": {},
   "source": [
    "### Pull Data\n",
    "- Typically, the portfolio and returns will be computed at a pre-chosen frequency.\n",
    "- In this case, we use a daily frequency."
   ]
  },
  {
   "cell_type": "code",
   "execution_count": 3,
   "id": "9ee0bb15",
   "metadata": {},
   "outputs": [
    {
     "name": "stdout",
     "output_type": "stream",
     "text": [
      "Collecting lxml\n",
      "  Downloading lxml-6.0.0-cp313-cp313-win_amd64.whl.metadata (6.8 kB)\n",
      "Downloading lxml-6.0.0-cp313-cp313-win_amd64.whl (4.0 MB)\n",
      "   ---------------------------------------- 0.0/4.0 MB ? eta -:--:--\n",
      "   -------------------------- ------------- 2.6/4.0 MB 17.7 MB/s eta 0:00:01\n",
      "   ---------------------------------------- 4.0/4.0 MB 19.2 MB/s  0:00:00\n",
      "Installing collected packages: lxml\n",
      "Successfully installed lxml-6.0.0\n",
      "Note: you may need to restart the kernel to use updated packages.\n"
     ]
    },
    {
     "name": "stderr",
     "output_type": "stream",
     "text": [
      "[*********************100%***********************]  503 of 503 completed\n",
      "\n",
      "6 Failed downloads:\n",
      "['VLTO', 'SOLV', 'KVUE', 'GEV', 'CEG', 'GEHC']: YFPricesMissingError('possibly delisted; no price data found  (1d 2021-1-1 -> 2021-12-12) (Yahoo error = \"Data doesn\\'t exist for startDate = 1609477200, endDate = 1639285200\")')\n"
     ]
    }
   ],
   "source": [
    "%pip install lxml\n",
    "\n",
    "import yfinance as yf\n",
    "import pandas as pd\n",
    "import numpy as np \n",
    "\n",
    "# get S&P500 tickers\n",
    "tickers = pd.read_html(\n",
    "    'https://en.wikipedia.org/wiki/List_of_S%26P_500_companies')[0].Symbol.to_list()\n",
    "tickers = [x.replace('.','-') for x in tickers]\n",
    "\n",
    "# Get the data for this tickers from yahoo finance\n",
    "data = yf.download(tickers,'2021-1-1','2021-12-12', auto_adjust=False)\n",
    "\n",
    "# compute returns\n",
    "ret = data['Adj Close'] / data['Adj Close'].shift() - 1\n",
    "ret = ret.iloc[1:]\n",
    "\n",
    "# stats function for later\n",
    "def get_stats(strat_ret):\n",
    "    stats = {}\n",
    "    stats['SR'] = strat_ret.mean() / strat_ret.std() * np.sqrt(252)\n",
    "    stats['ret'] = strat_ret.mean()*252\n",
    "    stats['vol'] = strat_ret.std()*np.sqrt(252)\n",
    "    stats = pd.Series(stats)\n",
    "    return stats"
   ]
  },
  {
   "cell_type": "code",
   "execution_count": 4,
   "id": "6c4f4beb",
   "metadata": {},
   "outputs": [
    {
     "data": {
      "application/vnd.microsoft.datawrangler.viewer.v0+json": {
       "columns": [
        {
         "name": "Date",
         "rawType": "datetime64[ns]",
         "type": "datetime"
        },
        {
         "name": "A",
         "rawType": "float64",
         "type": "float"
        },
        {
         "name": "AAPL",
         "rawType": "float64",
         "type": "float"
        },
        {
         "name": "ABBV",
         "rawType": "float64",
         "type": "float"
        },
        {
         "name": "ABNB",
         "rawType": "float64",
         "type": "float"
        },
        {
         "name": "ABT",
         "rawType": "float64",
         "type": "float"
        },
        {
         "name": "ACGL",
         "rawType": "float64",
         "type": "float"
        },
        {
         "name": "ACN",
         "rawType": "float64",
         "type": "float"
        },
        {
         "name": "ADBE",
         "rawType": "float64",
         "type": "float"
        },
        {
         "name": "ADI",
         "rawType": "float64",
         "type": "float"
        },
        {
         "name": "ADM",
         "rawType": "float64",
         "type": "float"
        },
        {
         "name": "ADP",
         "rawType": "float64",
         "type": "float"
        },
        {
         "name": "ADSK",
         "rawType": "float64",
         "type": "float"
        },
        {
         "name": "AEE",
         "rawType": "float64",
         "type": "float"
        },
        {
         "name": "AEP",
         "rawType": "float64",
         "type": "float"
        },
        {
         "name": "AES",
         "rawType": "float64",
         "type": "float"
        },
        {
         "name": "AFL",
         "rawType": "float64",
         "type": "float"
        },
        {
         "name": "AIG",
         "rawType": "float64",
         "type": "float"
        },
        {
         "name": "AIZ",
         "rawType": "float64",
         "type": "float"
        },
        {
         "name": "AJG",
         "rawType": "float64",
         "type": "float"
        },
        {
         "name": "AKAM",
         "rawType": "float64",
         "type": "float"
        },
        {
         "name": "ALB",
         "rawType": "float64",
         "type": "float"
        },
        {
         "name": "ALGN",
         "rawType": "float64",
         "type": "float"
        },
        {
         "name": "ALL",
         "rawType": "float64",
         "type": "float"
        },
        {
         "name": "ALLE",
         "rawType": "float64",
         "type": "float"
        },
        {
         "name": "AMAT",
         "rawType": "float64",
         "type": "float"
        },
        {
         "name": "AMCR",
         "rawType": "float64",
         "type": "float"
        },
        {
         "name": "AMD",
         "rawType": "float64",
         "type": "float"
        },
        {
         "name": "AME",
         "rawType": "float64",
         "type": "float"
        },
        {
         "name": "AMGN",
         "rawType": "float64",
         "type": "float"
        },
        {
         "name": "AMP",
         "rawType": "float64",
         "type": "float"
        },
        {
         "name": "AMT",
         "rawType": "float64",
         "type": "float"
        },
        {
         "name": "AMZN",
         "rawType": "float64",
         "type": "float"
        },
        {
         "name": "ANET",
         "rawType": "float64",
         "type": "float"
        },
        {
         "name": "AON",
         "rawType": "float64",
         "type": "float"
        },
        {
         "name": "AOS",
         "rawType": "float64",
         "type": "float"
        },
        {
         "name": "APA",
         "rawType": "float64",
         "type": "float"
        },
        {
         "name": "APD",
         "rawType": "float64",
         "type": "float"
        },
        {
         "name": "APH",
         "rawType": "float64",
         "type": "float"
        },
        {
         "name": "APO",
         "rawType": "float64",
         "type": "float"
        },
        {
         "name": "APTV",
         "rawType": "float64",
         "type": "float"
        },
        {
         "name": "ARE",
         "rawType": "float64",
         "type": "float"
        },
        {
         "name": "ATO",
         "rawType": "float64",
         "type": "float"
        },
        {
         "name": "AVB",
         "rawType": "float64",
         "type": "float"
        },
        {
         "name": "AVGO",
         "rawType": "float64",
         "type": "float"
        },
        {
         "name": "AVY",
         "rawType": "float64",
         "type": "float"
        },
        {
         "name": "AWK",
         "rawType": "float64",
         "type": "float"
        },
        {
         "name": "AXON",
         "rawType": "float64",
         "type": "float"
        },
        {
         "name": "AXP",
         "rawType": "float64",
         "type": "float"
        },
        {
         "name": "AZO",
         "rawType": "float64",
         "type": "float"
        },
        {
         "name": "BA",
         "rawType": "float64",
         "type": "float"
        },
        {
         "name": "BAC",
         "rawType": "float64",
         "type": "float"
        },
        {
         "name": "BALL",
         "rawType": "float64",
         "type": "float"
        },
        {
         "name": "BAX",
         "rawType": "float64",
         "type": "float"
        },
        {
         "name": "BBY",
         "rawType": "float64",
         "type": "float"
        },
        {
         "name": "BDX",
         "rawType": "float64",
         "type": "float"
        },
        {
         "name": "BEN",
         "rawType": "float64",
         "type": "float"
        },
        {
         "name": "BF-B",
         "rawType": "float64",
         "type": "float"
        },
        {
         "name": "BG",
         "rawType": "float64",
         "type": "float"
        },
        {
         "name": "BIIB",
         "rawType": "float64",
         "type": "float"
        },
        {
         "name": "BK",
         "rawType": "float64",
         "type": "float"
        },
        {
         "name": "BKNG",
         "rawType": "float64",
         "type": "float"
        },
        {
         "name": "BKR",
         "rawType": "float64",
         "type": "float"
        },
        {
         "name": "BLDR",
         "rawType": "float64",
         "type": "float"
        },
        {
         "name": "BLK",
         "rawType": "float64",
         "type": "float"
        },
        {
         "name": "BMY",
         "rawType": "float64",
         "type": "float"
        },
        {
         "name": "BR",
         "rawType": "float64",
         "type": "float"
        },
        {
         "name": "BRK-B",
         "rawType": "float64",
         "type": "float"
        },
        {
         "name": "BRO",
         "rawType": "float64",
         "type": "float"
        },
        {
         "name": "BSX",
         "rawType": "float64",
         "type": "float"
        },
        {
         "name": "BX",
         "rawType": "float64",
         "type": "float"
        },
        {
         "name": "BXP",
         "rawType": "float64",
         "type": "float"
        },
        {
         "name": "C",
         "rawType": "float64",
         "type": "float"
        },
        {
         "name": "CAG",
         "rawType": "float64",
         "type": "float"
        },
        {
         "name": "CAH",
         "rawType": "float64",
         "type": "float"
        },
        {
         "name": "CARR",
         "rawType": "float64",
         "type": "float"
        },
        {
         "name": "CAT",
         "rawType": "float64",
         "type": "float"
        },
        {
         "name": "CB",
         "rawType": "float64",
         "type": "float"
        },
        {
         "name": "CBOE",
         "rawType": "float64",
         "type": "float"
        },
        {
         "name": "CBRE",
         "rawType": "float64",
         "type": "float"
        },
        {
         "name": "CCI",
         "rawType": "float64",
         "type": "float"
        },
        {
         "name": "CCL",
         "rawType": "float64",
         "type": "float"
        },
        {
         "name": "CDNS",
         "rawType": "float64",
         "type": "float"
        },
        {
         "name": "CDW",
         "rawType": "float64",
         "type": "float"
        },
        {
         "name": "CEG",
         "rawType": "float64",
         "type": "float"
        },
        {
         "name": "CF",
         "rawType": "float64",
         "type": "float"
        },
        {
         "name": "CFG",
         "rawType": "float64",
         "type": "float"
        },
        {
         "name": "CHD",
         "rawType": "float64",
         "type": "float"
        },
        {
         "name": "CHRW",
         "rawType": "float64",
         "type": "float"
        },
        {
         "name": "CHTR",
         "rawType": "float64",
         "type": "float"
        },
        {
         "name": "CI",
         "rawType": "float64",
         "type": "float"
        },
        {
         "name": "CINF",
         "rawType": "float64",
         "type": "float"
        },
        {
         "name": "CL",
         "rawType": "float64",
         "type": "float"
        },
        {
         "name": "CLX",
         "rawType": "float64",
         "type": "float"
        },
        {
         "name": "CMCSA",
         "rawType": "float64",
         "type": "float"
        },
        {
         "name": "CME",
         "rawType": "float64",
         "type": "float"
        },
        {
         "name": "CMG",
         "rawType": "float64",
         "type": "float"
        },
        {
         "name": "CMI",
         "rawType": "float64",
         "type": "float"
        },
        {
         "name": "CMS",
         "rawType": "float64",
         "type": "float"
        },
        {
         "name": "CNC",
         "rawType": "float64",
         "type": "float"
        },
        {
         "name": "CNP",
         "rawType": "float64",
         "type": "float"
        },
        {
         "name": "COF",
         "rawType": "float64",
         "type": "float"
        },
        {
         "name": "COIN",
         "rawType": "float64",
         "type": "float"
        },
        {
         "name": "COO",
         "rawType": "float64",
         "type": "float"
        },
        {
         "name": "COP",
         "rawType": "float64",
         "type": "float"
        },
        {
         "name": "COR",
         "rawType": "float64",
         "type": "float"
        },
        {
         "name": "COST",
         "rawType": "float64",
         "type": "float"
        },
        {
         "name": "CPAY",
         "rawType": "float64",
         "type": "float"
        },
        {
         "name": "CPB",
         "rawType": "float64",
         "type": "float"
        },
        {
         "name": "CPRT",
         "rawType": "float64",
         "type": "float"
        },
        {
         "name": "CPT",
         "rawType": "float64",
         "type": "float"
        },
        {
         "name": "CRL",
         "rawType": "float64",
         "type": "float"
        },
        {
         "name": "CRM",
         "rawType": "float64",
         "type": "float"
        },
        {
         "name": "CRWD",
         "rawType": "float64",
         "type": "float"
        },
        {
         "name": "CSCO",
         "rawType": "float64",
         "type": "float"
        },
        {
         "name": "CSGP",
         "rawType": "float64",
         "type": "float"
        },
        {
         "name": "CSX",
         "rawType": "float64",
         "type": "float"
        },
        {
         "name": "CTAS",
         "rawType": "float64",
         "type": "float"
        },
        {
         "name": "CTRA",
         "rawType": "float64",
         "type": "float"
        },
        {
         "name": "CTSH",
         "rawType": "float64",
         "type": "float"
        },
        {
         "name": "CTVA",
         "rawType": "float64",
         "type": "float"
        },
        {
         "name": "CVS",
         "rawType": "float64",
         "type": "float"
        },
        {
         "name": "CVX",
         "rawType": "float64",
         "type": "float"
        },
        {
         "name": "CZR",
         "rawType": "float64",
         "type": "float"
        },
        {
         "name": "D",
         "rawType": "float64",
         "type": "float"
        },
        {
         "name": "DAL",
         "rawType": "float64",
         "type": "float"
        },
        {
         "name": "DASH",
         "rawType": "float64",
         "type": "float"
        },
        {
         "name": "DAY",
         "rawType": "float64",
         "type": "float"
        },
        {
         "name": "DD",
         "rawType": "float64",
         "type": "float"
        },
        {
         "name": "DDOG",
         "rawType": "float64",
         "type": "float"
        },
        {
         "name": "DE",
         "rawType": "float64",
         "type": "float"
        },
        {
         "name": "DECK",
         "rawType": "float64",
         "type": "float"
        },
        {
         "name": "DELL",
         "rawType": "float64",
         "type": "float"
        },
        {
         "name": "DG",
         "rawType": "float64",
         "type": "float"
        },
        {
         "name": "DGX",
         "rawType": "float64",
         "type": "float"
        },
        {
         "name": "DHI",
         "rawType": "float64",
         "type": "float"
        },
        {
         "name": "DHR",
         "rawType": "float64",
         "type": "float"
        },
        {
         "name": "DIS",
         "rawType": "float64",
         "type": "float"
        },
        {
         "name": "DLR",
         "rawType": "float64",
         "type": "float"
        },
        {
         "name": "DLTR",
         "rawType": "float64",
         "type": "float"
        },
        {
         "name": "DOC",
         "rawType": "float64",
         "type": "float"
        },
        {
         "name": "DOV",
         "rawType": "float64",
         "type": "float"
        },
        {
         "name": "DOW",
         "rawType": "float64",
         "type": "float"
        },
        {
         "name": "DPZ",
         "rawType": "float64",
         "type": "float"
        },
        {
         "name": "DRI",
         "rawType": "float64",
         "type": "float"
        },
        {
         "name": "DTE",
         "rawType": "float64",
         "type": "float"
        },
        {
         "name": "DUK",
         "rawType": "float64",
         "type": "float"
        },
        {
         "name": "DVA",
         "rawType": "float64",
         "type": "float"
        },
        {
         "name": "DVN",
         "rawType": "float64",
         "type": "float"
        },
        {
         "name": "DXCM",
         "rawType": "float64",
         "type": "float"
        },
        {
         "name": "EA",
         "rawType": "float64",
         "type": "float"
        },
        {
         "name": "EBAY",
         "rawType": "float64",
         "type": "float"
        },
        {
         "name": "ECL",
         "rawType": "float64",
         "type": "float"
        },
        {
         "name": "ED",
         "rawType": "float64",
         "type": "float"
        },
        {
         "name": "EFX",
         "rawType": "float64",
         "type": "float"
        },
        {
         "name": "EG",
         "rawType": "float64",
         "type": "float"
        },
        {
         "name": "EIX",
         "rawType": "float64",
         "type": "float"
        },
        {
         "name": "EL",
         "rawType": "float64",
         "type": "float"
        },
        {
         "name": "ELV",
         "rawType": "float64",
         "type": "float"
        },
        {
         "name": "EMN",
         "rawType": "float64",
         "type": "float"
        },
        {
         "name": "EMR",
         "rawType": "float64",
         "type": "float"
        },
        {
         "name": "ENPH",
         "rawType": "float64",
         "type": "float"
        },
        {
         "name": "EOG",
         "rawType": "float64",
         "type": "float"
        },
        {
         "name": "EPAM",
         "rawType": "float64",
         "type": "float"
        },
        {
         "name": "EQIX",
         "rawType": "float64",
         "type": "float"
        },
        {
         "name": "EQR",
         "rawType": "float64",
         "type": "float"
        },
        {
         "name": "EQT",
         "rawType": "float64",
         "type": "float"
        },
        {
         "name": "ERIE",
         "rawType": "float64",
         "type": "float"
        },
        {
         "name": "ES",
         "rawType": "float64",
         "type": "float"
        },
        {
         "name": "ESS",
         "rawType": "float64",
         "type": "float"
        },
        {
         "name": "ETN",
         "rawType": "float64",
         "type": "float"
        },
        {
         "name": "ETR",
         "rawType": "float64",
         "type": "float"
        },
        {
         "name": "EVRG",
         "rawType": "float64",
         "type": "float"
        },
        {
         "name": "EW",
         "rawType": "float64",
         "type": "float"
        },
        {
         "name": "EXC",
         "rawType": "float64",
         "type": "float"
        },
        {
         "name": "EXE",
         "rawType": "float64",
         "type": "float"
        },
        {
         "name": "EXPD",
         "rawType": "float64",
         "type": "float"
        },
        {
         "name": "EXPE",
         "rawType": "float64",
         "type": "float"
        },
        {
         "name": "EXR",
         "rawType": "float64",
         "type": "float"
        },
        {
         "name": "F",
         "rawType": "float64",
         "type": "float"
        },
        {
         "name": "FANG",
         "rawType": "float64",
         "type": "float"
        },
        {
         "name": "FAST",
         "rawType": "float64",
         "type": "float"
        },
        {
         "name": "FCX",
         "rawType": "float64",
         "type": "float"
        },
        {
         "name": "FDS",
         "rawType": "float64",
         "type": "float"
        },
        {
         "name": "FDX",
         "rawType": "float64",
         "type": "float"
        },
        {
         "name": "FE",
         "rawType": "float64",
         "type": "float"
        },
        {
         "name": "FFIV",
         "rawType": "float64",
         "type": "float"
        },
        {
         "name": "FI",
         "rawType": "float64",
         "type": "float"
        },
        {
         "name": "FICO",
         "rawType": "float64",
         "type": "float"
        },
        {
         "name": "FIS",
         "rawType": "float64",
         "type": "float"
        },
        {
         "name": "FITB",
         "rawType": "float64",
         "type": "float"
        },
        {
         "name": "FOX",
         "rawType": "float64",
         "type": "float"
        },
        {
         "name": "FOXA",
         "rawType": "float64",
         "type": "float"
        },
        {
         "name": "FRT",
         "rawType": "float64",
         "type": "float"
        },
        {
         "name": "FSLR",
         "rawType": "float64",
         "type": "float"
        },
        {
         "name": "FTNT",
         "rawType": "float64",
         "type": "float"
        },
        {
         "name": "FTV",
         "rawType": "float64",
         "type": "float"
        },
        {
         "name": "GD",
         "rawType": "float64",
         "type": "float"
        },
        {
         "name": "GDDY",
         "rawType": "float64",
         "type": "float"
        },
        {
         "name": "GE",
         "rawType": "float64",
         "type": "float"
        },
        {
         "name": "GEHC",
         "rawType": "float64",
         "type": "float"
        },
        {
         "name": "GEN",
         "rawType": "float64",
         "type": "float"
        },
        {
         "name": "GEV",
         "rawType": "float64",
         "type": "float"
        },
        {
         "name": "GILD",
         "rawType": "float64",
         "type": "float"
        },
        {
         "name": "GIS",
         "rawType": "float64",
         "type": "float"
        },
        {
         "name": "GL",
         "rawType": "float64",
         "type": "float"
        },
        {
         "name": "GLW",
         "rawType": "float64",
         "type": "float"
        },
        {
         "name": "GM",
         "rawType": "float64",
         "type": "float"
        },
        {
         "name": "GNRC",
         "rawType": "float64",
         "type": "float"
        },
        {
         "name": "GOOG",
         "rawType": "float64",
         "type": "float"
        },
        {
         "name": "GOOGL",
         "rawType": "float64",
         "type": "float"
        },
        {
         "name": "GPC",
         "rawType": "float64",
         "type": "float"
        },
        {
         "name": "GPN",
         "rawType": "float64",
         "type": "float"
        },
        {
         "name": "GRMN",
         "rawType": "float64",
         "type": "float"
        },
        {
         "name": "GS",
         "rawType": "float64",
         "type": "float"
        },
        {
         "name": "GWW",
         "rawType": "float64",
         "type": "float"
        },
        {
         "name": "HAL",
         "rawType": "float64",
         "type": "float"
        },
        {
         "name": "HAS",
         "rawType": "float64",
         "type": "float"
        },
        {
         "name": "HBAN",
         "rawType": "float64",
         "type": "float"
        },
        {
         "name": "HCA",
         "rawType": "float64",
         "type": "float"
        },
        {
         "name": "HD",
         "rawType": "float64",
         "type": "float"
        },
        {
         "name": "HIG",
         "rawType": "float64",
         "type": "float"
        },
        {
         "name": "HII",
         "rawType": "float64",
         "type": "float"
        },
        {
         "name": "HLT",
         "rawType": "float64",
         "type": "float"
        },
        {
         "name": "HOLX",
         "rawType": "float64",
         "type": "float"
        },
        {
         "name": "HON",
         "rawType": "float64",
         "type": "float"
        },
        {
         "name": "HPE",
         "rawType": "float64",
         "type": "float"
        },
        {
         "name": "HPQ",
         "rawType": "float64",
         "type": "float"
        },
        {
         "name": "HRL",
         "rawType": "float64",
         "type": "float"
        },
        {
         "name": "HSIC",
         "rawType": "float64",
         "type": "float"
        },
        {
         "name": "HST",
         "rawType": "float64",
         "type": "float"
        },
        {
         "name": "HSY",
         "rawType": "float64",
         "type": "float"
        },
        {
         "name": "HUBB",
         "rawType": "float64",
         "type": "float"
        },
        {
         "name": "HUM",
         "rawType": "float64",
         "type": "float"
        },
        {
         "name": "HWM",
         "rawType": "float64",
         "type": "float"
        },
        {
         "name": "IBM",
         "rawType": "float64",
         "type": "float"
        },
        {
         "name": "ICE",
         "rawType": "float64",
         "type": "float"
        },
        {
         "name": "IDXX",
         "rawType": "float64",
         "type": "float"
        },
        {
         "name": "IEX",
         "rawType": "float64",
         "type": "float"
        },
        {
         "name": "IFF",
         "rawType": "float64",
         "type": "float"
        },
        {
         "name": "INCY",
         "rawType": "float64",
         "type": "float"
        },
        {
         "name": "INTC",
         "rawType": "float64",
         "type": "float"
        },
        {
         "name": "INTU",
         "rawType": "float64",
         "type": "float"
        },
        {
         "name": "INVH",
         "rawType": "float64",
         "type": "float"
        },
        {
         "name": "IP",
         "rawType": "float64",
         "type": "float"
        },
        {
         "name": "IPG",
         "rawType": "float64",
         "type": "float"
        },
        {
         "name": "IQV",
         "rawType": "float64",
         "type": "float"
        },
        {
         "name": "IR",
         "rawType": "float64",
         "type": "float"
        },
        {
         "name": "IRM",
         "rawType": "float64",
         "type": "float"
        },
        {
         "name": "ISRG",
         "rawType": "float64",
         "type": "float"
        },
        {
         "name": "IT",
         "rawType": "float64",
         "type": "float"
        },
        {
         "name": "ITW",
         "rawType": "float64",
         "type": "float"
        },
        {
         "name": "IVZ",
         "rawType": "float64",
         "type": "float"
        },
        {
         "name": "J",
         "rawType": "float64",
         "type": "float"
        },
        {
         "name": "JBHT",
         "rawType": "float64",
         "type": "float"
        },
        {
         "name": "JBL",
         "rawType": "float64",
         "type": "float"
        },
        {
         "name": "JCI",
         "rawType": "float64",
         "type": "float"
        },
        {
         "name": "JKHY",
         "rawType": "float64",
         "type": "float"
        },
        {
         "name": "JNJ",
         "rawType": "float64",
         "type": "float"
        },
        {
         "name": "JPM",
         "rawType": "float64",
         "type": "float"
        },
        {
         "name": "K",
         "rawType": "float64",
         "type": "float"
        },
        {
         "name": "KDP",
         "rawType": "float64",
         "type": "float"
        },
        {
         "name": "KEY",
         "rawType": "float64",
         "type": "float"
        },
        {
         "name": "KEYS",
         "rawType": "float64",
         "type": "float"
        },
        {
         "name": "KHC",
         "rawType": "float64",
         "type": "float"
        },
        {
         "name": "KIM",
         "rawType": "float64",
         "type": "float"
        },
        {
         "name": "KKR",
         "rawType": "float64",
         "type": "float"
        },
        {
         "name": "KLAC",
         "rawType": "float64",
         "type": "float"
        },
        {
         "name": "KMB",
         "rawType": "float64",
         "type": "float"
        },
        {
         "name": "KMI",
         "rawType": "float64",
         "type": "float"
        },
        {
         "name": "KMX",
         "rawType": "float64",
         "type": "float"
        },
        {
         "name": "KO",
         "rawType": "float64",
         "type": "float"
        },
        {
         "name": "KR",
         "rawType": "float64",
         "type": "float"
        },
        {
         "name": "KVUE",
         "rawType": "float64",
         "type": "float"
        },
        {
         "name": "L",
         "rawType": "float64",
         "type": "float"
        },
        {
         "name": "LDOS",
         "rawType": "float64",
         "type": "float"
        },
        {
         "name": "LEN",
         "rawType": "float64",
         "type": "float"
        },
        {
         "name": "LH",
         "rawType": "float64",
         "type": "float"
        },
        {
         "name": "LHX",
         "rawType": "float64",
         "type": "float"
        },
        {
         "name": "LII",
         "rawType": "float64",
         "type": "float"
        },
        {
         "name": "LIN",
         "rawType": "float64",
         "type": "float"
        },
        {
         "name": "LKQ",
         "rawType": "float64",
         "type": "float"
        },
        {
         "name": "LLY",
         "rawType": "float64",
         "type": "float"
        },
        {
         "name": "LMT",
         "rawType": "float64",
         "type": "float"
        },
        {
         "name": "LNT",
         "rawType": "float64",
         "type": "float"
        },
        {
         "name": "LOW",
         "rawType": "float64",
         "type": "float"
        },
        {
         "name": "LRCX",
         "rawType": "float64",
         "type": "float"
        },
        {
         "name": "LULU",
         "rawType": "float64",
         "type": "float"
        },
        {
         "name": "LUV",
         "rawType": "float64",
         "type": "float"
        },
        {
         "name": "LVS",
         "rawType": "float64",
         "type": "float"
        },
        {
         "name": "LW",
         "rawType": "float64",
         "type": "float"
        },
        {
         "name": "LYB",
         "rawType": "float64",
         "type": "float"
        },
        {
         "name": "LYV",
         "rawType": "float64",
         "type": "float"
        },
        {
         "name": "MA",
         "rawType": "float64",
         "type": "float"
        },
        {
         "name": "MAA",
         "rawType": "float64",
         "type": "float"
        },
        {
         "name": "MAR",
         "rawType": "float64",
         "type": "float"
        },
        {
         "name": "MAS",
         "rawType": "float64",
         "type": "float"
        },
        {
         "name": "MCD",
         "rawType": "float64",
         "type": "float"
        },
        {
         "name": "MCHP",
         "rawType": "float64",
         "type": "float"
        },
        {
         "name": "MCK",
         "rawType": "float64",
         "type": "float"
        },
        {
         "name": "MCO",
         "rawType": "float64",
         "type": "float"
        },
        {
         "name": "MDLZ",
         "rawType": "float64",
         "type": "float"
        },
        {
         "name": "MDT",
         "rawType": "float64",
         "type": "float"
        },
        {
         "name": "MET",
         "rawType": "float64",
         "type": "float"
        },
        {
         "name": "META",
         "rawType": "float64",
         "type": "float"
        },
        {
         "name": "MGM",
         "rawType": "float64",
         "type": "float"
        },
        {
         "name": "MHK",
         "rawType": "float64",
         "type": "float"
        },
        {
         "name": "MKC",
         "rawType": "float64",
         "type": "float"
        },
        {
         "name": "MKTX",
         "rawType": "float64",
         "type": "float"
        },
        {
         "name": "MLM",
         "rawType": "float64",
         "type": "float"
        },
        {
         "name": "MMC",
         "rawType": "float64",
         "type": "float"
        },
        {
         "name": "MMM",
         "rawType": "float64",
         "type": "float"
        },
        {
         "name": "MNST",
         "rawType": "float64",
         "type": "float"
        },
        {
         "name": "MO",
         "rawType": "float64",
         "type": "float"
        },
        {
         "name": "MOH",
         "rawType": "float64",
         "type": "float"
        },
        {
         "name": "MOS",
         "rawType": "float64",
         "type": "float"
        },
        {
         "name": "MPC",
         "rawType": "float64",
         "type": "float"
        },
        {
         "name": "MPWR",
         "rawType": "float64",
         "type": "float"
        },
        {
         "name": "MRK",
         "rawType": "float64",
         "type": "float"
        },
        {
         "name": "MRNA",
         "rawType": "float64",
         "type": "float"
        },
        {
         "name": "MS",
         "rawType": "float64",
         "type": "float"
        },
        {
         "name": "MSCI",
         "rawType": "float64",
         "type": "float"
        },
        {
         "name": "MSFT",
         "rawType": "float64",
         "type": "float"
        },
        {
         "name": "MSI",
         "rawType": "float64",
         "type": "float"
        },
        {
         "name": "MTB",
         "rawType": "float64",
         "type": "float"
        },
        {
         "name": "MTCH",
         "rawType": "float64",
         "type": "float"
        },
        {
         "name": "MTD",
         "rawType": "float64",
         "type": "float"
        },
        {
         "name": "MU",
         "rawType": "float64",
         "type": "float"
        },
        {
         "name": "NCLH",
         "rawType": "float64",
         "type": "float"
        },
        {
         "name": "NDAQ",
         "rawType": "float64",
         "type": "float"
        },
        {
         "name": "NDSN",
         "rawType": "float64",
         "type": "float"
        },
        {
         "name": "NEE",
         "rawType": "float64",
         "type": "float"
        },
        {
         "name": "NEM",
         "rawType": "float64",
         "type": "float"
        },
        {
         "name": "NFLX",
         "rawType": "float64",
         "type": "float"
        },
        {
         "name": "NI",
         "rawType": "float64",
         "type": "float"
        },
        {
         "name": "NKE",
         "rawType": "float64",
         "type": "float"
        },
        {
         "name": "NOC",
         "rawType": "float64",
         "type": "float"
        },
        {
         "name": "NOW",
         "rawType": "float64",
         "type": "float"
        },
        {
         "name": "NRG",
         "rawType": "float64",
         "type": "float"
        },
        {
         "name": "NSC",
         "rawType": "float64",
         "type": "float"
        },
        {
         "name": "NTAP",
         "rawType": "float64",
         "type": "float"
        },
        {
         "name": "NTRS",
         "rawType": "float64",
         "type": "float"
        },
        {
         "name": "NUE",
         "rawType": "float64",
         "type": "float"
        },
        {
         "name": "NVDA",
         "rawType": "float64",
         "type": "float"
        },
        {
         "name": "NVR",
         "rawType": "float64",
         "type": "float"
        },
        {
         "name": "NWS",
         "rawType": "float64",
         "type": "float"
        },
        {
         "name": "NWSA",
         "rawType": "float64",
         "type": "float"
        },
        {
         "name": "NXPI",
         "rawType": "float64",
         "type": "float"
        },
        {
         "name": "O",
         "rawType": "float64",
         "type": "float"
        },
        {
         "name": "ODFL",
         "rawType": "float64",
         "type": "float"
        },
        {
         "name": "OKE",
         "rawType": "float64",
         "type": "float"
        },
        {
         "name": "OMC",
         "rawType": "float64",
         "type": "float"
        },
        {
         "name": "ON",
         "rawType": "float64",
         "type": "float"
        },
        {
         "name": "ORCL",
         "rawType": "float64",
         "type": "float"
        },
        {
         "name": "ORLY",
         "rawType": "float64",
         "type": "float"
        },
        {
         "name": "OTIS",
         "rawType": "float64",
         "type": "float"
        },
        {
         "name": "OXY",
         "rawType": "float64",
         "type": "float"
        },
        {
         "name": "PANW",
         "rawType": "float64",
         "type": "float"
        },
        {
         "name": "PARA",
         "rawType": "float64",
         "type": "float"
        },
        {
         "name": "PAYC",
         "rawType": "float64",
         "type": "float"
        },
        {
         "name": "PAYX",
         "rawType": "float64",
         "type": "float"
        },
        {
         "name": "PCAR",
         "rawType": "float64",
         "type": "float"
        },
        {
         "name": "PCG",
         "rawType": "float64",
         "type": "float"
        },
        {
         "name": "PEG",
         "rawType": "float64",
         "type": "float"
        },
        {
         "name": "PEP",
         "rawType": "float64",
         "type": "float"
        },
        {
         "name": "PFE",
         "rawType": "float64",
         "type": "float"
        },
        {
         "name": "PFG",
         "rawType": "float64",
         "type": "float"
        },
        {
         "name": "PG",
         "rawType": "float64",
         "type": "float"
        },
        {
         "name": "PGR",
         "rawType": "float64",
         "type": "float"
        },
        {
         "name": "PH",
         "rawType": "float64",
         "type": "float"
        },
        {
         "name": "PHM",
         "rawType": "float64",
         "type": "float"
        },
        {
         "name": "PKG",
         "rawType": "float64",
         "type": "float"
        },
        {
         "name": "PLD",
         "rawType": "float64",
         "type": "float"
        },
        {
         "name": "PLTR",
         "rawType": "float64",
         "type": "float"
        },
        {
         "name": "PM",
         "rawType": "float64",
         "type": "float"
        },
        {
         "name": "PNC",
         "rawType": "float64",
         "type": "float"
        },
        {
         "name": "PNR",
         "rawType": "float64",
         "type": "float"
        },
        {
         "name": "PNW",
         "rawType": "float64",
         "type": "float"
        },
        {
         "name": "PODD",
         "rawType": "float64",
         "type": "float"
        },
        {
         "name": "POOL",
         "rawType": "float64",
         "type": "float"
        },
        {
         "name": "PPG",
         "rawType": "float64",
         "type": "float"
        },
        {
         "name": "PPL",
         "rawType": "float64",
         "type": "float"
        },
        {
         "name": "PRU",
         "rawType": "float64",
         "type": "float"
        },
        {
         "name": "PSA",
         "rawType": "float64",
         "type": "float"
        },
        {
         "name": "PSX",
         "rawType": "float64",
         "type": "float"
        },
        {
         "name": "PTC",
         "rawType": "float64",
         "type": "float"
        },
        {
         "name": "PWR",
         "rawType": "float64",
         "type": "float"
        },
        {
         "name": "PYPL",
         "rawType": "float64",
         "type": "float"
        },
        {
         "name": "QCOM",
         "rawType": "float64",
         "type": "float"
        },
        {
         "name": "RCL",
         "rawType": "float64",
         "type": "float"
        },
        {
         "name": "REG",
         "rawType": "float64",
         "type": "float"
        },
        {
         "name": "REGN",
         "rawType": "float64",
         "type": "float"
        },
        {
         "name": "RF",
         "rawType": "float64",
         "type": "float"
        },
        {
         "name": "RJF",
         "rawType": "float64",
         "type": "float"
        },
        {
         "name": "RL",
         "rawType": "float64",
         "type": "float"
        },
        {
         "name": "RMD",
         "rawType": "float64",
         "type": "float"
        },
        {
         "name": "ROK",
         "rawType": "float64",
         "type": "float"
        },
        {
         "name": "ROL",
         "rawType": "float64",
         "type": "float"
        },
        {
         "name": "ROP",
         "rawType": "float64",
         "type": "float"
        },
        {
         "name": "ROST",
         "rawType": "float64",
         "type": "float"
        },
        {
         "name": "RSG",
         "rawType": "float64",
         "type": "float"
        },
        {
         "name": "RTX",
         "rawType": "float64",
         "type": "float"
        },
        {
         "name": "RVTY",
         "rawType": "float64",
         "type": "float"
        },
        {
         "name": "SBAC",
         "rawType": "float64",
         "type": "float"
        },
        {
         "name": "SBUX",
         "rawType": "float64",
         "type": "float"
        },
        {
         "name": "SCHW",
         "rawType": "float64",
         "type": "float"
        },
        {
         "name": "SHW",
         "rawType": "float64",
         "type": "float"
        },
        {
         "name": "SJM",
         "rawType": "float64",
         "type": "float"
        },
        {
         "name": "SLB",
         "rawType": "float64",
         "type": "float"
        },
        {
         "name": "SMCI",
         "rawType": "float64",
         "type": "float"
        },
        {
         "name": "SNA",
         "rawType": "float64",
         "type": "float"
        },
        {
         "name": "SNPS",
         "rawType": "float64",
         "type": "float"
        },
        {
         "name": "SO",
         "rawType": "float64",
         "type": "float"
        },
        {
         "name": "SOLV",
         "rawType": "float64",
         "type": "float"
        },
        {
         "name": "SPG",
         "rawType": "float64",
         "type": "float"
        },
        {
         "name": "SPGI",
         "rawType": "float64",
         "type": "float"
        },
        {
         "name": "SRE",
         "rawType": "float64",
         "type": "float"
        },
        {
         "name": "STE",
         "rawType": "float64",
         "type": "float"
        },
        {
         "name": "STLD",
         "rawType": "float64",
         "type": "float"
        },
        {
         "name": "STT",
         "rawType": "float64",
         "type": "float"
        },
        {
         "name": "STX",
         "rawType": "float64",
         "type": "float"
        },
        {
         "name": "STZ",
         "rawType": "float64",
         "type": "float"
        },
        {
         "name": "SW",
         "rawType": "float64",
         "type": "float"
        },
        {
         "name": "SWK",
         "rawType": "float64",
         "type": "float"
        },
        {
         "name": "SWKS",
         "rawType": "float64",
         "type": "float"
        },
        {
         "name": "SYF",
         "rawType": "float64",
         "type": "float"
        },
        {
         "name": "SYK",
         "rawType": "float64",
         "type": "float"
        },
        {
         "name": "SYY",
         "rawType": "float64",
         "type": "float"
        },
        {
         "name": "T",
         "rawType": "float64",
         "type": "float"
        },
        {
         "name": "TAP",
         "rawType": "float64",
         "type": "float"
        },
        {
         "name": "TDG",
         "rawType": "float64",
         "type": "float"
        },
        {
         "name": "TDY",
         "rawType": "float64",
         "type": "float"
        },
        {
         "name": "TECH",
         "rawType": "float64",
         "type": "float"
        },
        {
         "name": "TEL",
         "rawType": "float64",
         "type": "float"
        },
        {
         "name": "TER",
         "rawType": "float64",
         "type": "float"
        },
        {
         "name": "TFC",
         "rawType": "float64",
         "type": "float"
        },
        {
         "name": "TGT",
         "rawType": "float64",
         "type": "float"
        },
        {
         "name": "TJX",
         "rawType": "float64",
         "type": "float"
        },
        {
         "name": "TKO",
         "rawType": "float64",
         "type": "float"
        },
        {
         "name": "TMO",
         "rawType": "float64",
         "type": "float"
        },
        {
         "name": "TMUS",
         "rawType": "float64",
         "type": "float"
        },
        {
         "name": "TPL",
         "rawType": "float64",
         "type": "float"
        },
        {
         "name": "TPR",
         "rawType": "float64",
         "type": "float"
        },
        {
         "name": "TRGP",
         "rawType": "float64",
         "type": "float"
        },
        {
         "name": "TRMB",
         "rawType": "float64",
         "type": "float"
        },
        {
         "name": "TROW",
         "rawType": "float64",
         "type": "float"
        },
        {
         "name": "TRV",
         "rawType": "float64",
         "type": "float"
        },
        {
         "name": "TSCO",
         "rawType": "float64",
         "type": "float"
        },
        {
         "name": "TSLA",
         "rawType": "float64",
         "type": "float"
        },
        {
         "name": "TSN",
         "rawType": "float64",
         "type": "float"
        },
        {
         "name": "TT",
         "rawType": "float64",
         "type": "float"
        },
        {
         "name": "TTD",
         "rawType": "float64",
         "type": "float"
        },
        {
         "name": "TTWO",
         "rawType": "float64",
         "type": "float"
        },
        {
         "name": "TXN",
         "rawType": "float64",
         "type": "float"
        },
        {
         "name": "TXT",
         "rawType": "float64",
         "type": "float"
        },
        {
         "name": "TYL",
         "rawType": "float64",
         "type": "float"
        },
        {
         "name": "UAL",
         "rawType": "float64",
         "type": "float"
        },
        {
         "name": "UBER",
         "rawType": "float64",
         "type": "float"
        },
        {
         "name": "UDR",
         "rawType": "float64",
         "type": "float"
        },
        {
         "name": "UHS",
         "rawType": "float64",
         "type": "float"
        },
        {
         "name": "ULTA",
         "rawType": "float64",
         "type": "float"
        },
        {
         "name": "UNH",
         "rawType": "float64",
         "type": "float"
        },
        {
         "name": "UNP",
         "rawType": "float64",
         "type": "float"
        },
        {
         "name": "UPS",
         "rawType": "float64",
         "type": "float"
        },
        {
         "name": "URI",
         "rawType": "float64",
         "type": "float"
        },
        {
         "name": "USB",
         "rawType": "float64",
         "type": "float"
        },
        {
         "name": "V",
         "rawType": "float64",
         "type": "float"
        },
        {
         "name": "VICI",
         "rawType": "float64",
         "type": "float"
        },
        {
         "name": "VLO",
         "rawType": "float64",
         "type": "float"
        },
        {
         "name": "VLTO",
         "rawType": "float64",
         "type": "float"
        },
        {
         "name": "VMC",
         "rawType": "float64",
         "type": "float"
        },
        {
         "name": "VRSK",
         "rawType": "float64",
         "type": "float"
        },
        {
         "name": "VRSN",
         "rawType": "float64",
         "type": "float"
        },
        {
         "name": "VRTX",
         "rawType": "float64",
         "type": "float"
        },
        {
         "name": "VST",
         "rawType": "float64",
         "type": "float"
        },
        {
         "name": "VTR",
         "rawType": "float64",
         "type": "float"
        },
        {
         "name": "VTRS",
         "rawType": "float64",
         "type": "float"
        },
        {
         "name": "VZ",
         "rawType": "float64",
         "type": "float"
        },
        {
         "name": "WAB",
         "rawType": "float64",
         "type": "float"
        },
        {
         "name": "WAT",
         "rawType": "float64",
         "type": "float"
        },
        {
         "name": "WBA",
         "rawType": "float64",
         "type": "float"
        },
        {
         "name": "WBD",
         "rawType": "float64",
         "type": "float"
        },
        {
         "name": "WDAY",
         "rawType": "float64",
         "type": "float"
        },
        {
         "name": "WDC",
         "rawType": "float64",
         "type": "float"
        },
        {
         "name": "WEC",
         "rawType": "float64",
         "type": "float"
        },
        {
         "name": "WELL",
         "rawType": "float64",
         "type": "float"
        },
        {
         "name": "WFC",
         "rawType": "float64",
         "type": "float"
        },
        {
         "name": "WM",
         "rawType": "float64",
         "type": "float"
        },
        {
         "name": "WMB",
         "rawType": "float64",
         "type": "float"
        },
        {
         "name": "WMT",
         "rawType": "float64",
         "type": "float"
        },
        {
         "name": "WRB",
         "rawType": "float64",
         "type": "float"
        },
        {
         "name": "WSM",
         "rawType": "float64",
         "type": "float"
        },
        {
         "name": "WST",
         "rawType": "float64",
         "type": "float"
        },
        {
         "name": "WTW",
         "rawType": "float64",
         "type": "float"
        },
        {
         "name": "WY",
         "rawType": "float64",
         "type": "float"
        },
        {
         "name": "WYNN",
         "rawType": "float64",
         "type": "float"
        },
        {
         "name": "XEL",
         "rawType": "float64",
         "type": "float"
        },
        {
         "name": "XOM",
         "rawType": "float64",
         "type": "float"
        },
        {
         "name": "XYL",
         "rawType": "float64",
         "type": "float"
        },
        {
         "name": "XYZ",
         "rawType": "float64",
         "type": "float"
        },
        {
         "name": "YUM",
         "rawType": "float64",
         "type": "float"
        },
        {
         "name": "ZBH",
         "rawType": "float64",
         "type": "float"
        },
        {
         "name": "ZBRA",
         "rawType": "float64",
         "type": "float"
        },
        {
         "name": "ZTS",
         "rawType": "float64",
         "type": "float"
        }
       ],
       "ref": "73f919d8-4162-49f5-9566-20bdf1274dee",
       "rows": [
        [
         "2021-01-05 00:00:00",
         "0.00817584669321314",
         "0.012363893314635277",
         "0.010340659641028482",
         "0.06575644668788305",
         "0.01237306291824547",
         "0.004011446496708704",
         "0.005692936210426325",
         "0.0007211565215241578",
         "0.017874458195836773",
         "0.01945078498993391",
         "-0.002781721603440146",
         "0.01637251020448227",
         "-0.0048598449009035205",
         "-0.001349120136157067",
         "0.03356316741364607",
         "0.001620631147924101",
         "0.016697994409518246",
         "0.0003028197298211577",
         "-0.006653306511800183",
         "0.0017103792173085441",
         "0.06748326102866242",
         "0.032652056612000546",
         "-0.00786460149752466",
         "0.0019219734271169742",
         "0.031426214347105574",
         "0.00703004465889312",
         "0.0050920214059477775",
         "0.006926946498845732",
         "0.004853023170333426",
         "-0.0058475209237758285",
         "0.005054613349807058",
         "0.010004358381754175",
         "0.010065002354345598",
         "-0.0012225837207352486",
         "0.006491164331377419",
         "0.0954639370675765",
         "0.052908550415941",
         "0.01727349067775874",
         "0.007745433925739231",
         "0.029959115492107502",
         "-0.0010541280254251495",
         "-0.01510178345538804",
         "-0.0028937867228816527",
         "0.006772801681202534",
         "0.0021726015686103217",
         "0.0056576657342000125",
         "0.046641032510100766",
         "0.005337225691898206",
         "-4.239988740240008e-05",
         "0.043952267208251294",
         "0.007658887763498212",
         "0.0095808747681847",
         "0.013729447659649008",
         "0.005074936222153603",
         "0.0013161996165851342",
         "-0.002465209472933494",
         "-0.0016662342205318037",
         "0.0257188945703255",
         "0.014159302262263918",
         "0.01127376588231388",
         "0.011085562058777532",
         "0.011417670720448303",
         "-0.003263898120483555",
         "0.005289661385730726",
         "0.0027696045597578323",
         "0.0013859838541838698",
         "-0.0042897603004175",
         "-0.0006475276106706618",
         "0.027502160706369017",
         "-0.003016044509410176",
         "-0.008038148918816934",
         "0.025939201712183557",
         "-0.011947764930347993",
         "0.0035898410707604356",
         "0.02457469071152496",
         "0.008180113893994312",
         "0.0008014212979241542",
         "-0.000648005581844191",
         "-0.0013445685891544379",
         "0.003935434042668717",
         "0.010794957299441243",
         "0.0027990932394548196",
         "0.005347364518616837",
         null,
         "0.03996919973765012",
         "0.021678099141073437",
         "-0.009006779553048516",
         "-0.009418662645743536",
         "-0.016135267249885343",
         "-0.011131753099500319",
         "-0.009467331113121591",
         "0.002253040760869851",
         "-0.002145293598415643",
         "-0.005966556144970214",
         "-0.0010038835649962552",
         "0.02728330355691777",
         "0.001174408715050257",
         "-0.017782230807828814",
         "-0.016427773478128405",
         "0.01077779491859121",
         "0.02350768243001089",
         null,
         "0.011784214534972692",
         "0.057366687638724434",
         "0.013056897159854808",
         "-0.011600661122966871",
         "0.004023642889816159",
         "0.007623930571639015",
         "-0.004310022924860046",
         "-0.007891967328017446",
         "0.011695430730004786",
         "0.0054923495848266946",
         "0.053618632876772265",
         "0.00045494475267138235",
         "-0.0016308527305128884",
         "0.0169336587873552",
         "0.015395689673447066",
         "0.009638551397649131",
         "0.0028960683986147817",
         "0.01225525932914473",
         "0.006715357458019877",
         "0.027033413667097106",
         "0.04427371838689442",
         "-0.01204493297415865",
         "0.021172236500742292",
         "0.03764631182171896",
         "-0.013752034033960747",
         "0.049203782505910176",
         "0.019730300955058233",
         "0.024809105636655282",
         "0.037149349328010395",
         "0.013381074706815266",
         "-0.014210053680331347",
         "0.005118649250525298",
         "-0.013810330658699632",
         "0.024817466405183897",
         "0.004277383206423124",
         "-0.017222275354561445",
         "0.0017766486597550202",
         "0.0069228994855627946",
         "0.005837605054294537",
         "0.03256860350800017",
         "0.0048485035997432036",
         "0.016001510760355497",
         "0.001591462582571257",
         "0.00044599640437015253",
         "0.0004292107447021465",
         "0.07625517177407515",
         "0.030776569760657013",
         "0.012974312260885412",
         "0.010291100488058147",
         "0.01049888911905228",
         "-0.011180057300168134",
         "0.01021505403367251",
         "-0.008241899651683204",
         "0.005290066180035025",
         "0.01505922694858075",
         "-0.010923265190525444",
         "0.028910685005165027",
         "0.01730533555621272",
         "0.05364601683516379",
         "0.08142780297501062",
         "-0.006780398115601383",
         "-0.001472623167417697",
         "-0.007825994947142534",
         "0.04697992587503652",
         "0.007969738209036459",
         "0.007218098320840527",
         "-0.0045123741704993225",
         "0.010610435278180175",
         "-0.013365779562090507",
         "-0.0020463369394244646",
         "-0.0053980627240577395",
         "-0.0014572655061871886",
         null,
         "-0.0027082727376642746",
         "0.04392179199968638",
         "-0.012784590103987914",
         "0.01525788660397609",
         "0.09664904398025942",
         "0.013221310260010943",
         "0.04532059090840734",
         "-0.0030550370959864237",
         "-3.968023111866614e-05",
         "0.0111825515774151",
         "0.00796129569458337",
         "0.003931401434996928",
         "-0.0004947947495705929",
         "-0.023086414230270136",
         "0.013955243676658347",
         "0.02129526282528249",
         "0.022041055497386886",
         "0.004132809661694825",
         "-0.08968781502621492",
         "-0.026243471825331155",
         "-0.004505025863834278",
         "0.00047976505599023334",
         "0.007214526486817752",
         "0.028653329117695803",
         null,
         "0.00962939747233249",
         null,
         "-0.0018300894964136116",
         "0.0010164385552691169",
         "-0.0007574998414355827",
         "0.021477678727490845",
         "0.028387950094986847",
         "0.015229774697752774",
         "0.007336889041099193",
         "0.00806434902856168",
         "0.009244104059998648",
         "-0.008975937176238125",
         "-0.002020378725341776",
         "0.02237732356250932",
         "0.0028954429885947874",
         "0.08390875439477541",
         "0.013266445076680622",
         "0.022293047900078244",
         "0.0083718964840227",
         "0.008070768195294287",
         "-0.006626773380858708",
         "0.00920473917086162",
         "0.004559871280092276",
         "0.03966074654749563",
         "0.0024524681129325376",
         "0.018150285390996723",
         "0.014516888419332963",
         "-0.011228672443276744",
         "0.019401428139167676",
         "-0.014134145992439562",
         "-0.0011263587922724083",
         "0.015122369352459808",
         "0.002401706943104598",
         "0.03870478265144017",
         "0.01775068909327282",
         "0.0021181681261417395",
         "0.01116379786201338",
         "-0.0019455677764147472",
         "0.027693142675753624",
         "-0.00670901355852449",
         "0.01892484229935243",
         "-0.007613678338368901",
         "0.015745350308170813",
         "0.02577853645193051",
         "0.005185983847585174",
         "0.015515232954006475",
         "0.02008562025473659",
         "0.007676073595893174",
         "0.006312561275961359",
         "0.010375145907880023",
         "0.0033968189591599973",
         "0.030088336543928618",
         "0.009895248873629026",
         "0.0239541981405218",
         "0.02110527471124457",
         "0.02901702730517086",
         "0.0028363157746607026",
         "0.011757265355216706",
         "0.00544125758392533",
         "0.005695571505893948",
         "0.0015826255438924353",
         "0.015960410930531133",
         "0.020277510372208374",
         "-0.01928148063330659",
         "0.005582658815733943",
         "-0.00958402715608031",
         "0.02097344323495487",
         "0.0010496878685295474",
         "0.025073840321044205",
         "0.009646236517110385",
         "-0.010993145505985846",
         "-0.007158427995408778",
         null,
         "0.007207233200958951",
         "0.0004880820370376515",
         "-0.007539584522217591",
         "0.019035393460781203",
         "0.0105853322723648",
         "0.00011165536008483912",
         "0.01568712335814748",
         "0.01353679851343137",
         "0.004954804566133175",
         "0.01204152867017294",
         "-0.00475328763842664",
         "0.0033669097008852678",
         "0.03458028417103742",
         "0.028338962616394348",
         "0.01332139635273144",
         "0.025711852208408548",
         "-0.003700345785003778",
         "0.034158049905584686",
         "0.018819893384957487",
         "-0.011579222853277171",
         "-0.0003259092040502898",
         "0.010579249445115124",
         "-0.014716974008677997",
         "0.005993853344812283",
         "0.021941852957708896",
         "0.00670784178989936",
         "-0.026095931188144794",
         "0.00103616101353321",
         "0.008015827751685745",
         "0.012369706365411348",
         "0.007548139412615118",
         "0.02222214510952214",
         "0.018220525431034806",
         "0.0025535591862306806",
         "-0.015156794622951275",
         "0.011051209495053671",
         "-0.00695985632045204",
         "-0.001687518493710849",
         "0.009050769410977821",
         "-0.0019587790161966767",
         "-0.0006016516184322862",
         "0.03717782912168022",
         "0.03288359282256459",
         "0.015733859685442164",
         "0.00172878959725975",
         "-0.022822903205431344",
         "0.016976438265574156",
         "-0.014327131376869917",
         "0.0009646607468971613",
         "-0.005313458734027332",
         "0.013168111977448937",
         "0.002467936305465823",
         "0.01333480969777967",
         "0.04334910237160061",
         "0.02149179261356915",
         "-0.00030259491747552936",
         "0.013889118744603524",
         "0.00741010848040502",
         "0.004433821045212616",
         "-0.0039398646220911715",
         "-0.0026573856698245413",
         "0.008065572504424745",
         "0.006208534532226917",
         "0.00975637956560238",
         "0.014049826301958612",
         "0.009723949630752182",
         "0.004779807206006792",
         "-0.007459154339497731",
         "0.029708701462748177",
         "0.022209827280152528",
         "-0.007855169589417899",
         "0.0055678061914623544",
         "0.006608183165596415",
         "0.02240194712233401",
         "0.0050118203622431245",
         "0.005558601942629027",
         "0.05013339056263444",
         "0.016425738163534875",
         "0.016835111190199648",
         "-0.012392027895079316",
         "-0.0059255447111001835",
         "-0.0074703000138821585",
         "0.10085935621585018",
         "-0.00429392629387948",
         "0.010655558706667234",
         "-0.0019871629822409975",
         "-0.003762774293727511",
         "0.008616715444818901",
         "0.013923145432467532",
         "0.0001793183846114932",
         "0.0029803865946380625",
         "0.010323174980662264",
         "0.01034949350669967",
         "0.0063852856464330365",
         "-0.0018532632127642445",
         "0.022554585903191482",
         "-0.02700773493178321",
         "0.010312960892169265",
         "0.0015619416501235772",
         "0.05263155746966919",
         "0.010919922209249755",
         "-0.005296718994722394",
         "0.003298866481017626",
         "-0.01719579163043161",
         "0.008107497752600112",
         "-5.616432693567042e-05",
         "0.021441782657023012",
         "0.0010879283444491517",
         "0.00968587981194946",
         "-0.01285191246745565",
         "0.02675995836827183",
         "0.0027923661381157316",
         "0.019340657507278314",
         "0.012892400469001197",
         "0.02646459370135812",
         "0.025876778326374028",
         "0.0006775746108018676",
         "0.0012219607663197518",
         "0.01880890580405059",
         "0.003934968437442565",
         "0.02634963095602938",
         "0.011452650361101213",
         "0.0024343718143100546",
         "0.016474826395579845",
         "-0.0008819225822621624",
         "0.0008540303409450001",
         "0.001069061142003891",
         "0.014467260437907248",
         "0.043914551588525086",
         "-0.011065934782723663",
         "0.0032977654006403068",
         "0.00018978516825463032",
         "-0.004989849601827578",
         "0.012972310421348388",
         "0.053758440549907194",
         "0.003542646671960803",
         "-0.001198036597834462",
         "0.016450796036117543",
         "0.006570120609477703",
         null,
         "0.004347471042280837",
         "-0.01440352799554212",
         "-0.003150270181400572",
         "0.017666609659731103",
         "0.036319210721195594",
         "0.005951504024846566",
         "0.0013315269545415287",
         "0.0006919115809194132",
         "0.0",
         "0.004605962743317704",
         "0.03702240337863705",
         "0.018453554401488104",
         "0.002677715414899806",
         "0.006361510755991784",
         "-0.006114515421905997",
         "0.029572392361088884",
         "0.019654008448685367",
         "0.036148831525189884",
         "0.007564780911512692",
         "0.01920197172926752",
         "0.019297010553637417",
         "0.0067821595584289796",
         "0.015425166901563259",
         "-0.0013473680453317538",
         "0.01694177556865273",
         "0.012504440074323053",
         "-0.0043797272613098626",
         "0.050809102470924516",
         "-0.005808517691241799",
         "0.06192663945756771",
         "0.008447692726801348",
         "0.009479054132444986",
         "-0.00825630785547593",
         "0.007014538007291904",
         "0.007317368906131216",
         "-0.0007871281748011993",
         "0.012988026981260337",
         "0.01953627234796107",
         "0.014317559089725096",
         "0.007336075791573249",
         "0.014014620573776781",
         "0.0014596624364455746",
         "0.042517425230606865",
         "0.056120433440319806",
         "-0.0016281484403205537",
         "0.006061754842602074",
         "-0.0074698759515068325",
         "-0.013447830919753212",
         "0.012265510707467397",
         "-0.013919895698548346",
         "0.025778422908147025",
         "0.003252556329525813",
         "-0.014924768099186747",
         "0.012981902287379388",
         "0.02853019800036738",
         null,
         "0.007097612347258808",
         "-0.0044853956011234875",
         "-0.033149169291773806",
         "-0.0037047939321853685",
         "0.03336809452278522",
         "0.011945276207886879",
         "-0.02373271006457711",
         "-0.00458789196179521",
         "0.012526071282918272",
         "0.02110733123376285",
         "-0.00579700489821211",
         "0.029056523714733107",
         "-0.011925645382614092",
         "0.015891217191746465",
         "-0.003208389193052663",
         "0.005844276701804985",
         "0.027945913535027733",
         "0.0033091380375958046",
         "0.03034817959154057",
         "-0.005323174865699221",
         "-0.008623619955843265",
         "0.011753309339748608",
         "0.01908497382102725",
         "-0.008345753983672766",
         "0.00944786885282567",
         "0.030776427852579946",
         "-0.00974739397293889",
         "0.04819298136506678",
         "-0.0012040035902312063",
         "0.038840641145107435",
         "9.4689836308115e-05",
         "0.017301867927444148",
         "0.006452813608807562",
         "0.006968799653961355"
        ],
        [
         "2021-01-06 00:00:00",
         "0.027422501084218176",
         "-0.03366167860600633",
         "-0.008638647812411193",
         "-0.03728926949089051",
         "-0.0020824576145853646",
         "0.043949838931877316",
         "0.010933514097749342",
         "-0.03990200495253249",
         "0.004507845947069544",
         "0.04051931465865222",
         "-0.0035017968767145913",
         "0.0038779677256142175",
         "0.00831575116384875",
         "0.00798242058242793",
         "0.03996638093350979",
         "0.03860385693582291",
         "0.06516576808764807",
         "0.04388925764019702",
         "0.020847209293672675",
         "-0.03690001382294039",
         "0.07469498617013137",
         "-0.005996522798170756",
         "0.02573915795936199",
         "0.022754910781572546",
         "0.01372793055466448",
         "0.027923259329122763",
         "-0.02630155115128041",
         "0.04236569409387192",
         "0.024104286907476125",
         "0.05737635190957935",
         "-0.02636969927103272",
         "-0.024896614147709384",
         "-0.0004895445741645021",
         "0.012139086652695141",
         "0.03445745270863365",
         "0.040791012099792745",
         "0.026842120661267233",
         "0.02485869794350748",
         "-0.013294509198314541",
         "0.03538497070470359",
         "-0.04302695746771312",
         "0.011877988327926303",
         "0.026826754273934217",
         "-0.0061665621174396",
         "0.038231598757824115",
         "0.008405408014027227",
         "-0.004987739943828173",
         "0.03699313192163567",
         "0.04180961291708396",
         "-0.0028351655704391687",
         "0.06245874896318293",
         "0.011587044746084185",
         "-0.003447240915641414",
         "0.04861413198480924",
         "0.010397115154596959",
         "0.05148271295095208",
         "-0.004492660910897395",
         "0.04109807983743563",
         "0.005519707024313147",
         "0.06759943030676085",
         "0.028216760657753026",
         "0.04233309846794486",
         "0.03123420251737352",
         "0.02852023949153315",
         "0.0024368544409978377",
         "0.02676022725781868",
         "0.012309328864165803",
         "0.019646250545684474",
         "0.014348692576782618",
         "-0.01830926675005362",
         "0.014763331739016339",
         "0.05753670488545426",
         "0.004780700553212558",
         "0.03652110848254764",
         "0.05561411405057659",
         "0.05565223016758147",
         "0.04758081639080314",
         "0.03155053756218984",
         "0.020026968665040723",
         "-0.02686173759920829",
         "-0.00970877472018683",
         "-0.04039958883985573",
         "0.008291684498212382",
         null,
         "0.0656349709044084",
         "0.06944053900177649",
         "0.0015148043877415418",
         "0.04087447117049958",
         "-0.018976133115868654",
         "0.029494224678724423",
         "0.0470729303102162",
         "-0.02685749278758398",
         "-0.012999473026270691",
         "0.011604587028913427",
         "0.07961142665948517",
         "-0.008633957987405183",
         "0.05396382009220835",
         "0.020153508996745506",
         "0.10790902243681644",
         "0.0176168421890468",
         "0.07229897307309097",
         null,
         "0.013389781245335852",
         "0.03991379349183988",
         "0.08602703970919445",
         "-0.015223350265120228",
         "0.01958805612856973",
         "-0.020245218439800428",
         "-0.019395606883640948",
         "0.02616722209665423",
         "0.008590990143736654",
         "-0.024241651054943913",
         "-0.01131414186469415",
         "0.009549891771791774",
         "0.0032445840729342645",
         "0.026598198216786884",
         "0.006019027280993683",
         "0.018496360370241494",
         "0.006277366212420699",
         "0.05795977556051479",
         "0.02980384985652984",
         "0.03218420262900201",
         "0.019660308769579693",
         "0.02136993903822515",
         "0.020986107972837065",
         "-0.03060304918014778",
         "-0.017503997472159583",
         "0.05380844914031391",
         "-0.01827364259431241",
         "0.05862632578746396",
         "0.06255532660624086",
         "0.008303705217462376",
         "0.04150356928436838",
         "0.03261072386055286",
         "-0.008432682069517528",
         "0.03313365746163344",
         "0.00381074044061247",
         "-0.006392896602337106",
         "0.05451324668169755",
         "0.003781399781555228",
         "0.0282121599712446",
         "0.04713250111005518",
         "0.009256796004773804",
         "0.023708773650975123",
         "0.017895859535710157",
         "0.012924877314188565",
         "0.03432003342139489",
         "0.05529961718118925",
         "0.019444104210805113",
         "-0.03198425827618645",
         "0.022871507111825284",
         "0.04095868263202629",
         "0.021325073069489164",
         "-0.041710406020337265",
         "0.05927611133241828",
         "0.029764808144961075",
         "-0.0018930184932329785",
         "0.04195492578890536",
         "0.05599922728487838",
         "0.033643839940524334",
         "0.12067450777413802",
         "0.021142910911850166",
         "-0.04639863459222526",
         "-0.0326516210887714",
         "0.027344574823095602",
         "0.06552720150225966",
         "0.03352143769273197",
         "0.04710989563693335",
         "0.041589603592282254",
         "0.053662304822791995",
         "0.01582209625829467",
         "0.02013416522504774",
         "-0.01402086679029202",
         "0.032595534571070006",
         null,
         "0.02172510647242709",
         "0.045792571912032454",
         "-0.001561307107441734",
         "0.021965347004786695",
         "0.04937588015541561",
         "0.01698431736771222",
         "0.06309488225182291",
         "0.00804060024885822",
         "0.0015011528712376432",
         "0.015415686256083472",
         "0.007503536423439705",
         "0.01619793240421674",
         "-0.015841270163561294",
         "0.009584638348401953",
         "0.09597975591632069",
         "0.08426664705562859",
         "0.08711154055179948",
         "0.04127823029393296",
         "0.08170571267449667",
         "-0.025610266794666492",
         "0.03751807333076962",
         "0.025546263781249134",
         "-0.025980324369204166",
         "0.05478174601303887",
         null,
         "-0.002384614299219656",
         null,
         "0.03249994584938376",
         "-0.0025384024691071927",
         "0.0556697645583939",
         "0.034483002200192736",
         "0.03168502108275617",
         "0.08031405343333797",
         "-0.003233944719550852",
         "-0.009867490124923162",
         "0.039859150506371455",
         "0.009592790132257223",
         "0.007759740920338265",
         "0.05396232007951274",
         "0.005850158060979993",
         "0.020087996680710152",
         "0.014058998242981069",
         "0.09813071044917177",
         "0.03363448099501243",
         "0.005713276675249013",
         "0.06024602946776825",
         "0.03273717167975598",
         "0.02612313818198042",
         "0.026440439686783224",
         "0.018228957716041938",
         "0.02207127200919068",
         "0.02044153350657174",
         "0.006114943467002476",
         "0.026261416514521407",
         "0.05734777832612736",
         "0.003516288746663321",
         "0.06091404614427187",
         "0.05965907302030393",
         "0.004299691954003038",
         "0.02497211027856827",
         "0.019376319765763705",
         "-0.027470545376347077",
         "0.03719299397174325",
         "0.04565220217279631",
         "-0.018167056458495034",
         "0.00968191818423536",
         "-0.02133561227691383",
         "0.002411378157501254",
         "0.062324101888406425",
         "0.07695626711326953",
         "0.03853018737153535",
         "0.03274337858816123",
         "-0.002423709199055213",
         "-0.015228879556270947",
         "0.02554621752396047",
         "0.025610754805601044",
         "0.054409949896980336",
         "0.07092205923365946",
         "0.0667780055308913",
         "0.021597426127647923",
         "0.0469274217747484",
         "0.014958295457262683",
         "0.009410178393788549",
         "0.04695575240703853",
         "-0.007766892235436695",
         "0.0037927581480328154",
         "0.09728116785532381",
         "0.016960582296566384",
         "0.011021891145708285",
         "0.05343498310040595",
         "0.002037283904880116",
         "-0.0021822477761678227",
         "-0.005242063360224258",
         "0.03309345399917407",
         "0.03991509828069728",
         "-0.03181310080659239",
         "0.009717703293218083",
         null,
         "0.048076810393612224",
         "0.014635555192021643",
         "-0.005698390058054947",
         "0.04009014970676805",
         "0.0023032028702496543",
         "0.019533242617726154",
         "0.03283018028758544",
         "0.05427646943420328",
         "-0.012025122895769624",
         "-0.002178936897172523",
         "0.014925332126551227",
         "0.013360581556591589",
         "0.003922887991000268",
         "-0.008867667121418843",
         "0.02432086575390513",
         "-0.015141247288984472",
         "0.016447719152893114",
         "0.04797511932964893",
         "0.008611149258083817",
         "0.00037433299374445284",
         "0.016548374819903344",
         "0.026171969407077222",
         "0.04367563731124813",
         "-0.0022698974772832337",
         "0.019188158222074758",
         "0.01896321298190684",
         "-0.010654822649064144",
         "-0.0018973077504460534",
         "0.01633194908008173",
         "0.05959268500740822",
         "-0.028268993398031905",
         "0.027009290991417023",
         "0.031604047900642085",
         "-0.0031835975528933247",
         "-0.016544892466329175",
         "0.07758040085381679",
         "0.006919911165478965",
         "0.015211564766566266",
         "-0.007875751860906388",
         "0.01619244391341068",
         "0.09159527232610998",
         "0.06109993485580989",
         "0.02043207569098171",
         "-0.032275493429940516",
         "0.01578297954990182",
         "0.0648470581724212",
         "0.060296319441648816",
         "0.008809286364778846",
         "-0.02592925288879333",
         "0.024428285042405795",
         "0.08810017489050415",
         "-0.009847649058005836",
         "0.017630799222012605",
         "-0.0019416225165931333",
         "0.0037128776170669564",
         "0.025990620040393875",
         "0.028400801993162972",
         "0.04895045111612406",
         "0.02853514707234761",
         "-0.03899769207880144",
         "0.02220252235999176",
         "0.007930505885717976",
         "0.008597814760415101",
         "-0.04646873332051371",
         "0.011138325298211127",
         "0.0324126195183132",
         "0.0009206106636294731",
         "0.059688594213947566",
         "0.05455877358977612",
         "-0.05895298013211958",
         "-0.010581410609119879",
         "0.041528265144944676",
         "0.05306334215918995",
         "0.01841005342595614",
         "-0.00847777913793879",
         "0.008083654141932017",
         "0.011427173865661056",
         "0.08225583150991311",
         "0.025285975969934427",
         "-0.0023917571659661796",
         "0.030801263318404937",
         "0.027803274010395285",
         "0.0411242706211401",
         "-0.013908354575907778",
         "0.0867803995701999",
         "-0.030430071239596623",
         "0.012552643407068631",
         "0.03932138759065751",
         "0.0",
         "0.020990268524744282",
         "-0.012231876615431014",
         "-0.008604666644583259",
         "0.046916950771516586",
         "0.010526315137854292",
         "0.018979025380049697",
         "0.032460999766772636",
         "-0.005356696229810165",
         "0.053736952295012186",
         "-0.02370315997564587",
         "-0.04308940851646659",
         "0.0013350770002475976",
         "0.05493379156560119",
         "0.028626810309516637",
         "0.03537899912041653",
         "-0.005085581196475286",
         "0.037857152164896934",
         "0.03180003232037887",
         "0.018109328976566808",
         "0.05924280185763253",
         "-0.016331514906624545",
         "-0.007386406980267268",
         "0.004134654079292588",
         "0.07517649774115842",
         "-0.03439615897617043",
         "-0.008134834633128918",
         "-0.004824307638068959",
         "0.029345360597403447",
         "-0.02763472890906582",
         "0.06153826477747071",
         "0.05921614139193654",
         "0.05230784308058789",
         "-0.006523332230154555",
         "0.04650492293770059",
         "0.016465210869233138",
         "0.010066995379693466",
         "0.04369726298118026",
         "0.02392134425887571",
         "0.012388442652708775",
         "0.029427346409582",
         "-0.029128660253356142",
         "0.0072507609936480755",
         "0.08792859293442579",
         "0.003458964500094197",
         "0.010671920949537173",
         "0.055339320527657554",
         "0.023427456899298926",
         "0.041386458470509924",
         "-0.035497768087637493",
         "0.02443506363924053",
         null,
         "0.02284475658777807",
         "0.0012483045214561894",
         "0.00324133229983814",
         "0.017829170725641053",
         "0.0706190272217726",
         "0.06810665265710325",
         "-0.004820663582552065",
         "0.031490597751705485",
         "0.0",
         "0.03591375859813528",
         "0.014011686490038366",
         "0.06068432942899027",
         "0.011641434995015576",
         "0.04438648575786153",
         "0.019480847360002773",
         "0.047872464428472705",
         "-0.0005338894222813861",
         "-0.017576968115229685",
         "0.04388020394288539",
         "0.02870878774768637",
         "0.007572661453104423",
         "0.05263190769931203",
         "0.04740243073659811",
         "0.04391503696903998",
         "0.009995905920468173",
         "0.015678753309325",
         "-0.0024268999144907433",
         "-0.0024906636723541764",
         "0.05535053964037151",
         "0.027717543852378235",
         "0.023335904616246017",
         "0.016366019412947352",
         "0.03396980148302231",
         "0.03681826575406766",
         "0.028390302267496503",
         "0.03010223479583729",
         "0.027356702523359644",
         "-0.06078321320266333",
         "-0.015678453784032764",
         "0.004956588511835003",
         "0.012119812058301704",
         "0.0034472070738877925",
         "0.003225792274798911",
         "-0.02832806567014612",
         "0.037238139031168016",
         "0.0412196501099078",
         "0.03862896866777632",
         "0.04196656255615938",
         "0.020924647474765745",
         "-0.002971471565165862",
         "0.0890605150187147",
         "0.0592173069564319",
         "-0.008810616389685055",
         "0.002402749958150263",
         "0.02233089531724275",
         null,
         "0.0893808502619391",
         "-0.009456789444228675",
         "-0.03384989160056251",
         "-0.008443468016055",
         "0.023713702889678556",
         "0.01960377867766616",
         "0.02154705969520343",
         "0.012120222141158266",
         "0.07599234882054962",
         "0.027561401349831982",
         "0.045432354267203934",
         "0.08661165934608683",
         "-0.023784170198060228",
         "0.006596278788143284",
         "0.012654038696297443",
         "0.042285330969964896",
         "0.07075031974453427",
         "0.02213346472760569",
         "0.038145608992155244",
         "0.006243536757988055",
         "0.03432755289888245",
         "0.0264016929533315",
         "0.010721148715267637",
         "0.008415991780602372",
         "0.005133240326808064",
         "0.005989674740348949",
         "0.022147212357788604",
         "0.025517211653442784",
         "0.042181474517097195",
         "-0.012448316040703178",
         "0.005480282434292327",
         "0.028496101413331143",
         "0.03744383352800584",
         "0.014690694052863718"
        ],
        [
         "2021-01-07 00:00:00",
         "0.02660911285593137",
         "0.03412320242967337",
         "0.010702838658175118",
         "0.0595363153718107",
         "0.009706965121747846",
         "-0.009294740087140485",
         "0.009434773675332853",
         "0.02451157542326765",
         "0.04226378492739169",
         "-0.008884759900396832",
         "0.005658359833019544",
         "0.040710592956139324",
         "-0.028145034357887067",
         "-0.02668152824542125",
         "-0.01000812165072551",
         "-0.0055643173312263094",
         "0.016911214807823205",
         "0.010076144047661328",
         "0.0032804788751819025",
         "0.012607099327158533",
         "0.05082775663004324",
         "0.033253706056755705",
         "0.0007272682070520453",
         "0.02634055071910657",
         "0.04106549568204376",
         "-0.008489090447918901",
         "0.05347062695834204",
         "0.0012073195955755178",
         "0.0033013642355625983",
         "0.012086669270324757",
         "0.01214584932788565",
         "0.0075771277744003385",
         "0.035330766698251415",
         "-0.0010637872511286561",
         "0.012290635260593596",
         "0.01603324997988964",
         "-0.016139305163705875",
         "0.01432920734001919",
         "-0.012631448705177184",
         "0.04843966701789171",
         "0.012802340153767577",
         "-0.04204480709472158",
         "-0.013628068719551023",
         "0.04214239934315178",
         "0.03119252952006657",
         "-0.001509494997471772",
         "0.023666671013542695",
         "-0.007909754739254926",
         "0.0132878657716895",
         "0.007960991064248413",
         "0.02208390485113565",
         "-0.010799747557318162",
         "0.006795071928010099",
         "0.016995442769148772",
         "-0.0005519274253782402",
         "-0.0015667445289537785",
         "0.00012877641917063976",
         "-0.010403455624400593",
         "0.010857729329591281",
         "0.005998703456999932",
         "-0.0044272148601977035",
         "0.023014300735598958",
         "0.035417704239820935",
         "0.021035210058130138",
         "0.010697094401714846",
         "-0.001027283631025222",
         "0.011334522785969803",
         "0.013762283011538923",
         "-0.005440613639120739",
         "0.025462254929075945",
         "-0.012798154411845397",
         "0.011800559798113675",
         "-0.0545761287741503",
         "0.022702356169741256",
         "0.025967722179537356",
         "0.0019085529358890962",
         "-0.007134825758600694",
         "0.013826410923956312",
         "0.014684035319023403",
         "0.0067353495331641255",
         "0.016666674458123643",
         "0.04906616420741727",
         "0.023816881206156326",
         null,
         "0.0016393043953935038",
         "0.035042411903831505",
         "-0.012216402600594645",
         "0.009659731256021153",
         "0.008422618826556594",
         "0.05285776895877281",
         "0.0004563334315250689",
         "-0.005471028024014779",
         "-0.004964135251203983",
         "0.001977894850269779",
         "0.028079343323373696",
         "0.01840838948864798",
         "0.02405922829144047",
         "-0.029800696891918332",
         "0.030889687034720836",
         "-0.04874689284803624",
         "0.031197590350095616",
         null,
         "-0.0034124896571331442",
         "0.027350045949430468",
         "0.03729867647489549",
         "-0.005675449125772669",
         "0.014068935891340617",
         "-0.0067310604911449134",
         "0.02606111727752114",
         "-0.01275011479703314",
         "0.032972245785819476",
         "0.008466406794716885",
         "0.06042611801951514",
         "0.01261241148235448",
         "0.009791439388641132",
         "0.02362275992665519",
         "0.011595932325283442",
         "0.020503820888967628",
         "0.009981171505675013",
         "0.017774583368371788",
         "0.019707957854750546",
         "0.004676824125329437",
         "0.023871979876971094",
         "-0.02145902100663033",
         "-0.0037147570760308612",
         "0.09113642072889294",
         "0.04398593672570961",
         "0.0402571894749153",
         "0.05814078016133584",
         "0.03227033432372073",
         "0.014373972259261514",
         "0.030646812151235547",
         "0.011192922828077823",
         "-0.014080118123737884",
         "0.0431284557436582",
         "0.014216538370636078",
         "-0.0030146396402248588",
         "0.011354108582249056",
         "0.01575638452742334",
         "-0.026712371167206372",
         "0.014816615056070681",
         "0.0013690858956350027",
         "-0.0043651418256219765",
         "0.02837452582618627",
         "-0.02431801175558934",
         "-0.011219975540122218",
         "0.013770186567329423",
         "0.013646438880566159",
         "0.02989995167292614",
         "0.028801117538926446",
         "-0.0030064793849794436",
         "0.0013750170063588918",
         "-0.020319310733591167",
         "-0.003682286827065173",
         "0.007177342549562482",
         "-0.009102581499683682",
         "-0.00027100709650629273",
         "0.027594958836455907",
         "0.00466797455522161",
         "0.00048785704673015573",
         "0.05103741456788913",
         "0.06465634364596018",
         "0.02675486023854745",
         "0.014963482061011613",
         "-0.012114134848933755",
         "-0.0013369523261378413",
         "0.02613855659406905",
         "-0.006507040991550639",
         "-0.021844662023722483",
         "0.02087802337999145",
         "-0.03451094229607943",
         "-0.027229598868753757",
         "0.025688137288509605",
         "-0.009894081963639834",
         null,
         "0.0008503624399702758",
         "-0.007878925061723052",
         "0.0023917473796644106",
         "0.024886764079204537",
         "0.008345199911661716",
         "0.01242362837496791",
         "0.033488034192638017",
         "0.00653147653264452",
         "-0.02969722844773015",
         "-0.02211235149758073",
         "0.008511615280970553",
         "0.002189525305060558",
         "-0.013883069311453777",
         "-0.016088333217447515",
         "0.03899526273032161",
         "-0.03909718251866923",
         "-0.03342698113846487",
         "-0.015926673661541324",
         "0.058280644159966144",
         "0.03721670724725512",
         "0.020824639908121334",
         "0.013223113301744638",
         "0.01794833293980247",
         "-0.007922455375336424",
         null,
         "0.009560454618134484",
         null,
         "0.009201000105186763",
         "-0.008215112893318444",
         "-0.0032071610982317145",
         "0.0021678814251036016",
         "0.007910841390061263",
         "0.033334714920102426",
         "0.029943219919122077",
         "0.02986861615106684",
         "0.00416231206670048",
         "0.0038103923110845983",
         "0.01740879190371092",
         "0.021362215899277004",
         "0.007150721960476503",
         "-0.02257440120444265",
         "0.0031750089571895845",
         "0.024113511768470763",
         "0.017823741797652115",
         "-0.004895966596390688",
         "-0.009044290990332327",
         "-0.007252168103821566",
         "0.022749977830029078",
         "-0.0007689037489728712",
         "0.0016488294727736719",
         "-0.005813678996886118",
         "0.031650546798248635",
         "-0.007597222746154042",
         "0.0064693012281613615",
         "-0.004745824261686904",
         "-0.0005951844109353122",
         "0.0025583576939760544",
         "0.02252037624279124",
         "-0.010346039607575519",
         "-0.002320359270210237",
         "0.0006050107298911644",
         "0.0239660798006891",
         "0.029973279594207813",
         "0.05074390293384656",
         "0.06808214517115685",
         "0.02133060455210134",
         "0.021135783446814438",
         "-0.005498419859220727",
         "-0.014572210493305926",
         "-0.02355308651863197",
         "0.00971810769714776",
         "0.0072836233286111",
         "-0.00937171836488715",
         "0.019450235530692028",
         "0.014713985963106024",
         "0.001052272611034466",
         "-0.004345513881596652",
         "0.0005228040285236712",
         "0.008011268863455046",
         "0.020913716987253528",
         "0.028743864954324128",
         "0.02136361753303828",
         "0.0033786739524275244",
         "0.03283919025867643",
         "-0.007012377399204572",
         "0.0060108536562504256",
         "0.018171726745359607",
         "0.035926819247082964",
         "-0.007218415160700875",
         "0.004611188655462062",
         "0.02083841568279965",
         "0.04894233124143854",
         "-0.00933446227253465",
         "0.016713133528901025",
         "0.02388734166144002",
         "-0.011084706733819671",
         "-0.012107837320861181",
         null,
         "-0.0025602307727795592",
         "0.0018272539087695883",
         "0.03274669088639226",
         "0.005249944957300912",
         "-0.008316430150408949",
         "0.017002031035733944",
         "-0.002873196462164551",
         "0.028302046770655176",
         "0.00918930560363962",
         "-0.01574567917118108",
         "-0.037058852449839974",
         "0.003925130944891997",
         "0.03619385587250812",
         "0.01112184045401765",
         "0.012406385944766729",
         "-0.0066621402310673705",
         "-0.01213625754230463",
         "0.007233833488555996",
         "0.005370412763676002",
         "0.007922461597639652",
         "-0.0012028898137963484",
         "0.007419460369585185",
         "-0.00036339768594351174",
         "0.004644910825580384",
         "0.040733683564383005",
         "0.022858334137685565",
         "0.00010681124492561977",
         "-0.0019008408876841631",
         "-0.0013462920893460018",
         "0.0030348585624986324",
         "0.020622148882452285",
         "-0.0186017090792302",
         "0.009372569954882115",
         "0.009155726766124195",
         "0.00757700304060438",
         "0.017048807086709417",
         "-0.0014098320946749343",
         "-0.02566150240910947",
         "0.03087103799304014",
         "0.008691403882449933",
         "0.026810365412824",
         "0.033013342991486505",
         "0.02840508354321436",
         "0.06316219812866875",
         "0.01990819283971157",
         "-0.010063700127657449",
         "0.01710102645274092",
         "0.01946369862646935",
         "0.028456916131770038",
         "0.002343593301249669",
         "0.05536117962238207",
         "0.027215987426426613",
         "0.021259950353645918",
         "0.025937008717931587",
         "0.013563498756303582",
         "0.010339778894212115",
         "0.0016585974269025527",
         "0.010964811446385836",
         "-0.0015327988746863808",
         "0.016783601226727507",
         "-0.038662060638452456",
         "0.018264892659520138",
         "-0.021929542102131605",
         "0.00820109149750503",
         "0.004835954011573218",
         "0.02671075634050446",
         "0.007567503996331215",
         "0.0029806154460356726",
         "-0.014556172725583183",
         "0.057830307314924445",
         "0.01498552663755448",
         "-0.028176359663285577",
         "-0.026493590287063884",
         "0.037162296632768044",
         "-0.012573291583325541",
         "0.04480055961338625",
         "0.021842689147620664",
         "-0.044796136767507155",
         "0.038167914992510044",
         "0.00799120460486824",
         "0.010146674326731109",
         "0.013002559035329764",
         "0.028500152632026765",
         "0.05163927802786694",
         "-0.0019901250858511688",
         "0.043127333785328625",
         "0.004169095369404907",
         "-0.004616710136893576",
         "-0.005654406765806197",
         "-0.01423298849306831",
         "-0.003218618772358739",
         "0.005153448951160433",
         "0.012524395267546229",
         "-0.009346348586194098",
         "0.005838985881599479",
         "0.0018159458407798201",
         "0.040146869617800895",
         "0.0029754438232609814",
         "0.01501438127960264",
         "0.062022048754875714",
         "0.0058181702124116",
         "0.015909912528750958",
         "0.03478744314746307",
         "-0.031560608882127195",
         "0.027103048976620636",
         "0.04203784880152628",
         "0.012757671351818267",
         "-0.013162582422511782",
         "-0.004405883297890711",
         "0.01697681259135675",
         "0.008986231112127818",
         "0.05420165502724528",
         "0.021256400783028706",
         "0.03619446893622569",
         "0.029829914268268976",
         "0.02465384218455635",
         "-0.012938606041039469",
         "0.02363377770556241",
         "0.02376815159304657",
         "0.017401735138554475",
         "0.025036487139074692",
         "0.009614944183429008",
         "0.0037903314225002926",
         "0.01670456174745283",
         "0.018312135632899462",
         "-0.002207946902145985",
         "0.009282510979734093",
         "-0.007114606084410502",
         "0.026603540379507296",
         "0.0023048270574872465",
         "-0.008062335623274186",
         "0.028740735662797556",
         "0.01769216491818093",
         "-0.01292443698881407",
         "0.01925455489756267",
         "0.009407403835406614",
         "0.012959525495181756",
         "0.03660392271267421",
         "-0.0011434418622572329",
         null,
         "0.0007050244268749228",
         "0.0006384090968669653",
         "-0.03158071458853773",
         "0.023304605165466175",
         "-0.01919770107976526",
         "0.0012884042368577209",
         "0.004008742252457953",
         "0.023019804908016583",
         "0.0",
         "0.006695325706424171",
         "0.026436485668654974",
         "-0.0046096165905258335",
         "0.005238247463795531",
         "0.0005293098976186794",
         "0.0026816942831004997",
         "-0.0020303688104920115",
         "0.010485815518621378",
         "-0.03448182578979708",
         "0.014928532064770295",
         "0.020058744396342254",
         "0.06126905617100986",
         "0.029799930054497326",
         "0.01153927467468141",
         "0.0035894873152608753",
         "-0.0014432916751307978",
         "0.031161720546624583",
         "0.012620885608794596",
         "-0.01808285443996771",
         "0.016025626811309257",
         "0.0672504284289881",
         "0.05013875883887775",
         "0.019929959874272374",
         "-0.0002156171813203489",
         "0.008569563013647308",
         "0.07944656360858104",
         "-0.011474858793110276",
         "0.02589434813227398",
         "0.030272403627653155",
         "0.0321540007283756",
         "0.022652482185182343",
         "0.025210100953317882",
         "0.00908399774423363",
         "0.0018373453071953705",
         "0.06955033456014714",
         "-0.01572297569308978",
         "0.0052921868609228095",
         "0.004224083849086124",
         "0.0160322544464071",
         "0.013918003215512842",
         "-0.01266774033666107",
         "0.03168972691861627",
         "0.01999596686326477",
         "0.005596683655407775",
         "-0.005193815524341061",
         "0.018259416726660316",
         null,
         "0.0077756147935514885",
         "0.0045485419169555286",
         "0.0024560703074474333",
         "0.02757555776884124",
         "-0.005421506093016282",
         "-0.019226859577835764",
         "0.0016222924094488889",
         "-0.0022502512180254675",
         "0.035249368109175006",
         "-0.00640070357742939",
         "0.05182435292002552",
         "0.0043796065950045815",
         "0.028227303244850788",
         "0.02490171509153316",
         "-0.03255518768091137",
         "-0.019820495520086467",
         "0.022636966088706467",
         "0.0024626044382667356",
         "0.0018605595965028865",
         "-6.835271698313328e-05",
         "-0.008710025780596986",
         "0.015339940887463932",
         "0.03372500087379704",
         "0.007609148611665617",
         "0.009612514138835238",
         "-0.009923330073098313",
         "-0.019560628510001066",
         "0.007845740581267968",
         "0.045388838173823665",
         "0.05548942823288239",
         "-0.007611916215135461",
         "-0.005928112073327663",
         "0.03616837676508733",
         "-0.0008974829371670712"
        ],
        [
         "2021-01-08 00:00:00",
         "0.007133841961098675",
         "0.0086314117291999",
         "0.005247866024529424",
         "-0.00991604387938183",
         "0.0027853840315554823",
         "0.005518711747104943",
         "0.003647463704431919",
         "0.015405902833317109",
         "0.007261784175721431",
         "0.0026701210242159323",
         "0.01302929498022598",
         "0.014752518135786596",
         "0.010237054554924407",
         "-0.008887141340488292",
         "0.027901464846360913",
         "-0.004252528491343055",
         "-0.006602998819308703",
         "-0.005238921808937924",
         "-0.01209847052192392",
         "0.006322357176484328",
         "0.0005435581122077426",
         "0.021796053199711007",
         "-0.0010902259608397413",
         "-0.003488426436155545",
         "0.010575299761498735",
         "-0.015410648274102656",
         "-0.0060950169055702386",
         "-0.0069131429483781925",
         "0.019100752220847728",
         "0.007095552638268998",
         "0.021609125469462365",
         "0.006495514374673217",
         "0.034293995521916365",
         "-0.006487363198637186",
         "-0.011789614948124694",
         "-0.03097606675761222",
         "0.0015772808504515012",
         "-0.004046769755745472",
         "0.0012793495443346181",
         "0.005248580737697184",
         "0.003447662411832253",
         "-0.005681143722877313",
         "0.008786596809297054",
         "0.005074290022484718",
         "-0.03822558494312722",
         "0.03188055835736914",
         "0.006341823211549524",
         "0.0009862336397703508",
         "0.005521495832500722",
         "-0.013210534195331913",
         "-0.01004265766043344",
         "-0.0012129938467063672",
         "0.0025769675434650363",
         "-0.0012996777933759196",
         "0.006153803816924874",
         "-0.008238455112443033",
         "0.011217147439402053",
         "0.010944808394072414",
         "0.00838520533562881",
         "-0.01060054484935291",
         "0.01861281419140992",
         "-0.008822227932953508",
         "-0.052370871730780144",
         "0.008035347500101597",
         "0.0020845422919826273",
         "0.003791581015709866",
         "0.004938139266456476",
         "0.0029243316561056165",
         "0.005196898784795678",
         "-0.005219010314005512",
         "-0.002326846096392332",
         "-0.009845228543890916",
         "0.008585134443888753",
         "-0.007103494138435473",
         "-0.009734848129797968",
         "0.00015455054435986604",
         "-0.002951324008854339",
         "0.020869713453960603",
         "0.01853657544143794",
         "0.010560899909075161",
         "-0.013018344298135753",
         "-0.00627508640059482",
         "0.019852997128488648",
         null,
         "0.00911868474217603",
         "-0.01518543967398256",
         "0.0058894066833370395",
         "0.012479193701684821",
         "0.0073201092598751405",
         "0.0013604678488621236",
         "0.0011406541165819295",
         "0.006723666499387937",
         "0.007178078387795717",
         "0.017370621791657825",
         "0.004376208739716114",
         "0.025070493576322628",
         "-0.02048409850930033",
         "-0.004659242563674337",
         "-0.02207886617243504",
         "-0.008141790805465288",
         "-0.0015353879056002606",
         null,
         "-0.005012855813987693",
         "0.0",
         "-0.000907926518071922",
         "0.0054903920327948885",
         "-0.0007969326329376747",
         "-0.0076240879640719905",
         "0.010838070065575467",
         "0.0",
         "0.029829784139974613",
         "0.018625497804002578",
         "0.010204517516499978",
         "0.002224420497400237",
         "0.015505665635376698",
         "0.01924923786961452",
         "-0.013828888356966496",
         "-0.008610807513186325",
         "0.012353518606840197",
         "0.03468928700635554",
         "0.01175827956854758",
         "0.009532389481484271",
         "0.009479957933749672",
         "0.003288970115323142",
         "-0.005219915086738136",
         "0.02173196290227608",
         "0.019282683922691612",
         "0.011251389068308582",
         "0.034147382787662606",
         "-0.019417484111073913",
         "-0.007669051002883953",
         "0.011527207972307663",
         "-0.0087727679770081",
         "-0.007826474080939949",
         "-0.025185521015346102",
         "0.01576877891377526",
         "0.0006159050842486913",
         "-7.477070039885181e-05",
         "-0.01551197193287035",
         "0.005981745398272453",
         "0.0",
         "-0.005127447593314183",
         "0.014718509402100732",
         "0.0032271262503109632",
         "-0.00479962736833961",
         "0.0017802101159409833",
         "0.013746831828503225",
         "-0.02477116704054172",
         "0.0024020887152198522",
         "0.007957976797087651",
         "0.026762090101795533",
         "-0.01767504002592002",
         "0.0002861262296973699",
         "0.026311622769666476",
         "-0.009902164270238711",
         "0.004028979299324886",
         "0.009525177481225056",
         "-0.0008891698574962081",
         "-0.01747032769798451",
         "-0.003046315534500965",
         "-0.029706170508548957",
         "0.004264726778224759",
         "0.01149250769498611",
         "0.01986825813519988",
         "0.00621771456603093",
         "-0.028112572145935655",
         "0.006834327442650112",
         "0.020101341752395863",
         "0.010323903206173268",
         "-0.017119981132343365",
         "0.00685375985483927",
         "-0.0043207839375984936",
         "0.013752187991551645",
         "0.004282790116493462",
         null,
         "0.002974465387565628",
         "0.012158381798028417",
         "0.028264785644426915",
         "-0.006622376299860955",
         "-0.0005284414226078837",
         "0.02092128045292907",
         "-0.0006415762658475987",
         "0.00014948149023830126",
         "-0.004348962659046496",
         "0.009450100644890602",
         "0.061854519778558714",
         "0.020623967526502085",
         "0.020913673065949823",
         "0.021286216569684102",
         "-0.008269650063440381",
         "-0.02017853179872453",
         "-0.02747258972013744",
         "-0.001417455752130703",
         "-0.01327015664340192",
         "0.03413614847787261",
         "0.0004135569557366381",
         "-0.006261829047150891",
         "0.004652931202794974",
         "0.00621100922072948",
         null,
         "-0.0037881460093062147",
         null,
         "0.008317426881987888",
         "-0.02674720141050202",
         "-0.005465506799087527",
         "-0.0008111675867534807",
         "-0.006001922054144959",
         "-0.007858546168958758",
         "0.011167745403505736",
         "0.013238697630381546",
         "-0.003855849550582935",
         "-0.008648839823014454",
         "0.0034551960015560823",
         "-0.005383155002814277",
         "-0.008324942230354737",
         "-0.011302191817624152",
         "0.026057638029253427",
         "-0.000692505126360321",
         "-0.0076037679164301375",
         "0.010628633691882383",
         "-0.010119072444859878",
         "-0.003829481785735611",
         "0.00767948733579682",
         "0.032320079564103876",
         "-0.012134805251473257",
         "-0.007519000927123987",
         "-0.00854360268747123",
         "-0.0007697883110796555",
         "0.029852824940981515",
         "0.00272483114787736",
         "0.005689137221044804",
         "-0.006290874105651989",
         "-0.024391982846831306",
         "0.006128158020478169",
         "-0.0035662090976292804",
         "0.015715320492531992",
         "0.036369897770212045",
         "-0.006338766765175419",
         "0.002950123581745956",
         "0.04197666464402294",
         "-0.010346584589750685",
         "0.017443685315654323",
         "0.013476290877026065",
         "-0.011331021679922504",
         "-0.004905840104240777",
         "0.016058727595803513",
         "-0.013185831757148936",
         "0.00035035740016686745",
         "0.013041176246696873",
         "0.017448912205314526",
         "-0.001433541144118311",
         "0.017457982054245313",
         "-0.011321856486108617",
         "0.005927341806120756",
         "-0.010019745402974678",
         "0.0023448529943665974",
         "0.0121862207468737",
         "-0.0020578526844905465",
         "0.0011040295657815946",
         "-0.011331926528924674",
         "0.006289117888483853",
         "-0.013520890451294343",
         "0.041134773416722004",
         "-0.0022259071650738704",
         "0.012459131536835866",
         "0.007966358940745266",
         "0.017937477799152113",
         "0.0012158570590166118",
         "-0.007534322636455482",
         "0.017946115329970924",
         "0.022417909419135684",
         "-0.0059711176879051475",
         null,
         "-0.003636254931447591",
         "0.004607313365792454",
         "-0.0303868459172022",
         "-0.021714338390669607",
         "-0.003034680919076327",
         "-0.015207472883597695",
         "-0.0011819207925328756",
         "0.006291028774980445",
         "0.0034974766637649868",
         "-0.01882939256739702",
         "0.004887127664851665",
         "0.008185043609839182",
         "-0.024938792586728487",
         "-0.0049824853583512185",
         "-0.007394776928460689",
         "-0.00395531227837731",
         "0.014927708209962143",
         "-0.007387044708661694",
         "0.006163497261683748",
         "0.011404622906999284",
         "0.005780709533106165",
         "-0.0050632779902558545",
         "-0.015988415017603064",
         "0.018350662343346702",
         "-0.008742627083548338",
         "0.0028956674352733636",
         "-0.004158434179192594",
         "0.00744446340627003",
         "0.008508863890168694",
         "-0.003429111329916079",
         "-0.004353721301320834",
         "0.02483658443044723",
         "-0.004365635738831641",
         "0.004430881019943156",
         "0.005243743225216813",
         "0.00847923867825573",
         "0.0012354168610195781",
         "-0.01826563942839987",
         "0.015935806029620636",
         "-0.004547465440669529",
         "0.004337959258497781",
         "-0.003716067959942948",
         "-0.022413249325044737",
         "0.016157466960993627",
         "-0.011783220370925829",
         "-0.020331882981564076",
         "0.004136578056456397",
         "0.02037699960362116",
         "0.0060928463808684885",
         "0.020282943240842677",
         "-0.022433222734108305",
         "-0.006999863231925141",
         "0.011819613845085897",
         "-0.021362760712631768",
         "-0.009326826587976011",
         "0.014692742110158141",
         "-0.009839484783897512",
         "0.023206146459639143",
         "-0.03607593461558434",
         "0.002967201565332367",
         "-0.014459938850454712",
         "0.009658495800996425",
         "-0.014526387583450484",
         "0.035646567051458744",
         "0.04304807156553303",
         "0.01676992633808494",
         "-0.004138662540611127",
         "-0.007071279828083421",
         "-0.0030254198495747175",
         "-0.005039727618082801",
         "-0.02382801818946023",
         "-0.006564515282558858",
         "-0.005869774696545371",
         "0.00022847114427371196",
         "0.014261688360522662",
         "0.01782526591445799",
         "-0.018919085988586493",
         "-0.005940242620320668",
         "0.0045248824844552615",
         "0.004915087383702055",
         "0.017067441231217728",
         "-0.014015720562653211",
         "-0.023820795914405335",
         "0.009473719907532097",
         "-0.0014952514371594505",
         "0.02174915295925861",
         "0.005353316309675948",
         "-0.006787096036051432",
         "-0.00568640490141803",
         "0.021568748327751797",
         "0.012002497081162522",
         "0.0018886838975964437",
         "0.002319249502297005",
         "-0.00043205484592145904",
         "-0.0025328930540832184",
         "-0.0024880132703275493",
         "-0.022593450230552592",
         "-0.001172772691838464",
         "0.013428448947679916",
         "0.008000030517578027",
         "0.001325469501784804",
         "-0.00509422934602799",
         "0.019443782764688722",
         "-0.0021812120916743227",
         "0.025230541879228685",
         "0.01305856573407227",
         "-0.016773790479075346",
         "0.002523501937384154",
         "-0.007990022447399325",
         "0.02377556572982953",
         "-0.01600348980863342",
         "0.019848589507669656",
         "-0.005367156186762978",
         "0.03156915265352911",
         "0.006037371582761297",
         "-0.01365235290155642",
         "0.01066457983622393",
         "0.036429723180299245",
         "-0.005096207123244989",
         "0.0026540184288839086",
         "-0.024068581901088626",
         "0.01709545862937456",
         "0.008745947532961207",
         "0.015683381662391582",
         "0.001207658860804317",
         "0.0031962919986585625",
         "0.0020667557591422803",
         "0.0011465740862459661",
         "-0.004796718068377781",
         "0.009688936116710734",
         "0.022448071406435455",
         "-0.0013546102922822323",
         "-0.008651562855754635",
         "-0.006247490380199783",
         "-0.001607877752569764",
         "-0.009630362334754006",
         "-0.016944424335409325",
         "0.015298993629673685",
         "0.0070330368765987306",
         null,
         "0.015975990590166633",
         "-0.006746117666639462",
         "-0.0010008881337606468",
         "0.015115928184455951",
         "-0.009033559119102863",
         "-0.007719002827732191",
         "-0.01846616448882732",
         "0.005855011252344999",
         "0.03360624564450143",
         "-0.0038892056674370012",
         "0.004917827611290226",
         "-0.0035412978897778613",
         "-0.000246166007085713",
         "0.02592971871525651",
         "-0.006896399332936176",
         "0.00712118569573339",
         "0.01335135100766971",
         "0.03414092339640051",
         "-0.018847734691396556",
         "0.01406822769847893",
         "0.01724324924802878",
         "-0.016313769651350563",
         "0.013082356855118604",
         "0.0045778022506728355",
         "-0.003923156286978813",
         "0.02392433887802392",
         "0.014039919403010304",
         "0.028663826642131296",
         "-0.01835400061908099",
         "-0.041680209194876916",
         "0.006681561545130776",
         "-0.00019396052636311278",
         "0.004170540870554351",
         "0.014885603101981282",
         "0.07840299470467449",
         "-0.008977100097928847",
         "-0.0074160356310774",
         "0.04296030061231737",
         "0.011634047559506921",
         "0.01917364568325164",
         "-0.00778691914790719",
         "-0.0029245749994892822",
         "-0.0075652917110964335",
         "-0.05077502644904297",
         "0.004838482765033181",
         "-0.009265720488982665",
         "0.006292306454412255",
         "-0.0044924795419744035",
         "0.02867624118737",
         "-0.003836255430493929",
         "-0.01711517344959046",
         "-0.013402615430994747",
         "0.007670470777622951",
         "0.03092357416389202",
         "-0.032847337670341537",
         null,
         "0.005061595976052713",
         "-0.0003482254714242128",
         "0.01220000221855777",
         "0.01760414860868531",
         "0.04013857771748297",
         "-0.006323726660856455",
         "-0.011878958377680049",
         "-0.012472127055121796",
         "-0.008664703909365357",
         "0.003949533132207694",
         "-0.0011046434411623451",
         "0.006686032907972539",
         "0.006365709472961667",
         "-0.05334304926128808",
         "-0.003512567295804736",
         "-0.009794603785455602",
         "-0.007179617438236141",
         "0.004658933211780125",
         "-0.011141846231314756",
         "-0.00013604950006385064",
         "0.005302163097915535",
         "-0.006079960529602246",
         "0.01141217302517461",
         "-0.00784388268757763",
         "-0.006843233229382406",
         "-0.0065602832839242176",
         "0.009208108978115748",
         "0.011120890486942203",
         "-0.010140212199314602",
         "0.008226161916857766",
         "0.01467796514313191",
         "-0.0021970711240166807",
         "-0.008873147955646754",
         "0.006646977702772228"
        ],
        [
         "2021-01-11 00:00:00",
         "0.008578690784869059",
         "-0.02324875761384626",
         "0.0163140214427564",
         "-0.010950119135103686",
         "-0.006899052970529507",
         "-0.007409491776503407",
         "-0.014423141070088463",
         "-0.022387169104308824",
         "0.009952878041445734",
         "-0.010081648650415276",
         "-0.01484959123934082",
         "-0.006378016276359366",
         "0.0005333325901744068",
         "-0.005051742096063072",
         "0.0015734112034111458",
         "0.00044961650609098847",
         "-0.008370259622634157",
         "-0.005771492158729297",
         "-0.019776483254465127",
         "-0.010535437343283438",
         "-0.03699079139004302",
         "-0.02364476991010711",
         "-0.007275950232431994",
         "0.0029170174736670162",
         "0.02511513610403382",
         "0.0034778841118130455",
         "0.028230049875814567",
         "0.004937482530691151",
         "-0.003857643306628522",
         "0.00014865598293090088",
         "-0.03276333001650089",
         "-0.021519462280005563",
         "-0.010322761376301726",
         "-0.015056939433114036",
         "0.013176793601051395",
         "0.004824976323577257",
         "-0.009134430405313476",
         "0.002364108751120364",
         "0.010647202779585196",
         "-0.0032975799367257475",
         "-0.006871414468476278",
         "-0.017813191007055584",
         "-0.006690628321754599",
         "0.00026963666459445257",
         "0.029282218153168893",
         "-0.0021657737413651734",
         "-0.004148087666952294",
         "-0.005912432774949794",
         "0.01000855326146799",
         "-0.014816582662147693",
         "0.016600274383618663",
         "-0.00011049505521287806",
         "0.009424834769134804",
         "0.029840802795304322",
         "0.008037354728233748",
         "0.01859153324064522",
         "-0.015173024786608869",
         "-0.006837573669168373",
         "0.05931732052660044",
         "0.01696430939835447",
         "-0.026416233997808236",
         "0.00801054346577379",
         "-0.013442796252043143",
         "0.013524018763281909",
         "0.039686341918313994",
         "-0.007682364807755526",
         "-0.002563799968573477",
         "-0.02165811301688836",
         "-0.008435411518122882",
         "-0.0033386126354185697",
         "-0.004997834853649574",
         "0.01636837072975461",
         "-0.028470958863371476",
         "-0.0030405034060803082",
         "0.021626625534014954",
         "-0.0020591496020507805",
         "-0.00817248875396337",
         "0.010019224923035974",
         "-0.006385659563843182",
         "-0.006490903174945939",
         "-0.01612114972035028",
         "-0.011014024327118621",
         "-0.006984116827223885",
         null,
         "-0.0011585631051127532",
         "0.006825003726780965",
         "-0.005620738964599803",
         "-0.008525083593217464",
         "0.010640310142257636",
         "-0.003985498093463269",
         "0.010138708214628256",
         "-0.0025501908683227548",
         "-0.020774391007334803",
         "-0.0003881243667830381",
         "-0.003705985587650784",
         "0.00012838603722964415",
         "0.01011489155508749",
         "-0.009535365240530669",
         "0.006890503254824321",
         "0.0038626074418843803",
         "-0.011306024639981982",
         null,
         "-0.009856157959443945",
         "0.014765107544620237",
         "-0.024357011141992735",
         "-0.01602967661523047",
         "-0.01983034111558879",
         "-0.017712215701285672",
         "-0.010721865733521851",
         "-0.00805876407494921",
         "0.019556428183417518",
         "-0.017068866445003827",
         "0.038036963876710406",
         "0.0066574829086329945",
         "-0.016476063182124134",
         "0.0015651481263563305",
         "-0.03041524117649519",
         "0.044585889218041075",
         "-0.022086751090124257",
         "0.008554657274393973",
         "0.01616349184009991",
         "0.005709384371185955",
         "-0.0067259693929616615",
         "-0.007240207754204642",
         "-0.015242271023069298",
         "0.06989559816820234",
         "-0.0336738319853197",
         "0.02677561330758249",
         "0.04312585004308622",
         "0.003436521432856221",
         "0.03972271543267647",
         "-0.020590496882815335",
         "-0.0025484908994843902",
         "0.005367218761028081",
         "0.01642761351725386",
         "0.0025875348571333667",
         "0.0022385525190378175",
         "-0.01744013198082328",
         "-0.0047800381489983",
         "-0.004197375710774498",
         "-0.005176034028758325",
         "0.01116662910783539",
         "0.0043979208742581655",
         "0.00731805139474595",
         "-0.0017766729956429916",
         "-0.0084400089753921",
         "-0.006215163829686343",
         "0.012147950258959428",
         "-0.04496375030048516",
         "-0.0045114182940779735",
         "-0.010095327428117695",
         "-0.003111547349353816",
         "-0.017160095370381878",
         "-0.007363249524690918",
         "-0.007197536185552522",
         "-0.01011221947762242",
         "-0.010048919456129846",
         "0.005013617374404644",
         "0.013619426665544054",
         "0.00977766824323223",
         "-0.027626492865131302",
         "0.012570176507743058",
         "0.0013727874153874886",
         "-0.01454215343300791",
         "-0.0036044781149215943",
         "0.048209512767261486",
         "-0.008292124282513025",
         "-0.012398846514731554",
         "-0.011159164133185628",
         "0.0006304640625398594",
         "-0.011519374372414126",
         "-0.010566107440046046",
         "-0.014337657975254436",
         "-0.008291861517263244",
         null,
         "-0.00476601932145615",
         "-0.007360161664304532",
         "-0.0062471392083568444",
         "0.0333333719316784",
         "0.027131997743666147",
         "-0.005320053700095584",
         "-0.026645311390654625",
         "-0.006577817810912823",
         "0.0014288247721350178",
         "0.0096955371557359",
         "-0.0046538347839581995",
         "-0.014898517425546154",
         "-0.009373195421558012",
         "-0.018751017581376095",
         "0.006414241035032742",
         "0.0027008541603368297",
         "0.007976129184567249",
         "-0.02306866130568208",
         "-0.003266055166899373",
         "0.0002025286467628451",
         "-0.02052911297437665",
         "0.006698856940272613",
         "-0.010115804999191957",
         "0.009700186632125352",
         null,
         "-0.0004751567523574307",
         null,
         "-0.008407305775546936",
         "-0.014716114612642883",
         "-0.011198599326537328",
         "0.015967637942248203",
         "0.045285625666820595",
         "0.03287123878403464",
         "-0.02240459598878697",
         "-0.023105668041152216",
         "0.017127906875883614",
         "-0.02447655574683505",
         "-0.006148594620773218",
         "0.012927301343175657",
         "-0.012528938200236484",
         "0.022365877373832888",
         "-0.004215666066489376",
         "0.020789955915615943",
         "-0.005282307349313564",
         "0.007952849503718218",
         "0.0072157988157817154",
         "0.0006506082551689385",
         "-0.008584574924197286",
         "-0.024475105888776105",
         "-0.007951234950269281",
         "0.0075759646120658886",
         "0.009792399399936702",
         "-0.022226935418243943",
         "0.0038834782971233217",
         "-0.023777102921963222",
         "-0.012629284589921519",
         "0.011168280210422266",
         "-0.007395098923613563",
         "0.01074898772679922",
         "0.0003890384255598178",
         "0.00017003367258028312",
         "-0.012957958409751114",
         "0.007974042844328455",
         "0.02899144076354987",
         "-0.005435384485537487",
         "-0.002129692105572567",
         "-0.005661320739062448",
         "-0.009546482131990941",
         "0.012043648535386753",
         "0.0032869637494081783",
         "0.0018840308085712465",
         "0.0019394071139455793",
         "-0.01926436472055515",
         "-0.006228940773681302",
         "-0.0113543072645369",
         "-0.004259114107503903",
         "0.015549725237990808",
         "-0.0044927054714429815",
         "-0.008102018053366966",
         "0.004048462726987667",
         "-0.006042997885977619",
         "-0.011799938973990565",
         "-0.00418663412178355",
         "0.014924529279353393",
         "-0.013787392323600822",
         "-0.019999956194301616",
         "0.013157910146909702",
         "0.02282010064771889",
         "-0.02290309128199397",
         "-0.014248767868309975",
         "0.002222799907168893",
         "0.020940424792833978",
         "-0.002352709251570273",
         "0.017253176564588912",
         "0.024877580347576034",
         "-0.01722773689934609",
         "0.004109952277389972",
         null,
         "-0.0006441466744230295",
         "-0.006401739686703656",
         "0.03392798345514603",
         "0.016155389113685414",
         "0.015440019896053592",
         "-7.328275450935173e-05",
         "-0.010613843401536704",
         "-0.011200942899143529",
         "0.11736077817505475",
         "0.004700898519157004",
         "-0.016210898528510986",
         "0.007694658613636163",
         "0.029603406868856652",
         "-0.010397821599675283",
         "0.009791214313809693",
         "-0.02607037046684857",
         "-0.010673369467225524",
         "0.0023773102384596623",
         "-0.016607694471929224",
         "-0.015967258611326307",
         "-0.008461710425460733",
         "-0.007942050028499126",
         "0.031203901371272158",
         "-0.007597307833700162",
         "0.0027819475255133064",
         "-0.0008171800264177298",
         "-0.013775430436949732",
         "-0.018903515012427374",
         "-0.010107716714120696",
         "-0.00020214551104746903",
         "-0.040101629664118676",
         "-0.01817603878619567",
         "0.027143717664810385",
         "-0.0165948006731933",
         "-0.01516060685031917",
         "-0.0011920309936150897",
         "-0.007842996242331535",
         "-0.008521964727142617",
         "-0.021581171370308794",
         "-0.005770824303640509",
         "-0.005347606002133354",
         "-0.0014919403497553052",
         "0.009495244257508917",
         "0.01303525881958878",
         "0.023726321577421272",
         "0.04000001894661165",
         "0.0107638721428025",
         "-0.0019660793837164015",
         "-0.009698421258384049",
         "-0.004926927071742249",
         "0.017054648103854042",
         "0.0007245776937923054",
         "0.006491587935447685",
         "0.01614591121257236",
         "-0.011870688166381371",
         "0.015056587004575794",
         "0.00472255082861639",
         "-0.01774933524785327",
         "-0.013377938953657464",
         "-0.022139474780755064",
         "0.003209601525175687",
         "0.004782995485948405",
         "0.022232030405723524",
         "-0.012423564889090577",
         "0.018200695088986363",
         "0.0012990141553741452",
         "0.0038479769506403194",
         "0.010321249969544644",
         "0.013923449559232859",
         "0.025966499899130024",
         "0.01447076773218825",
         "0.006057298957196533",
         "0.0016103676433476544",
         "-0.010397917512946497",
         "-0.005356751852710118",
         "-0.015664429633886257",
         "0.03255698164181031",
         "0.0017297641021671861",
         "0.014921136612233044",
         "-0.00552216070588174",
         "0.012366057919071638",
         "-0.0070328003904381875",
         "0.0",
         "-0.00477426712542528",
         "0.02496232597644399",
         "-0.031668530238229686",
         "-0.011084499034031747",
         "0.0047831633389681105",
         "-0.002451012691987886",
         "-0.005758160809414603",
         "-0.01449593548164041",
         "0.017236887371908205",
         "-0.0011569415151153617",
         "-0.00677314603647694",
         "0.006243193384882995",
         "0.011971903673971163",
         "0.013243407820375586",
         "0.00725216510485116",
         "-0.0200829850455001",
         "0.028968234926004754",
         "-0.009387365336487541",
         "0.007522471068145631",
         "0.012656190905389275",
         "-0.013887022057722964",
         "-0.04176860245913683",
         "-0.014680528005214244",
         "0.007754624731912907",
         "-0.0014382193807939148",
         "0.0009911564034719156",
         "-0.006153883770563029",
         "0.022061840798647037",
         "0.009535729227939216",
         "-0.008818283574759556",
         "-0.020457009719217822",
         "-0.0033836240367173254",
         "-0.01164854310495822",
         "-0.03231484019046105",
         "0.008401374114318294",
         "0.017643618431404384",
         "0.012843098343780612",
         "0.010139049492963181",
         "0.0062117675206014855",
         "0.002979410034838148",
         "0.002695935275385697",
         "0.017235008100902727",
         "-0.012580619162777196",
         "-0.012581224548694925",
         "-0.000858900169283916",
         "-0.003192084071696466",
         "-0.027854414502112235",
         "-0.010125778218606163",
         "0.02153263836124042",
         "0.0084662761427714",
         "-0.017395703280284835",
         "0.006038599888888552",
         "0.006900901705358509",
         "-0.008675997541759406",
         "-0.009018246679122988",
         "-0.005847162747110168",
         null,
         "-0.03873295050774683",
         "-0.023405277639728994",
         "-0.011437518355667864",
         "-0.011587252908320522",
         "0.013167446071034039",
         "0.013094639628896898",
         "-0.004745653191266408",
         "-0.014465112619556186",
         "-0.026620473479257223",
         "-0.002149987396042219",
         "-0.008747256922865487",
         "-0.007927688278538736",
         "-0.007428208238682288",
         "0.0",
         "-0.005168632157241171",
         "0.003636326705000581",
         "-0.000554382727101399",
         "0.010479776314338496",
         "0.016084196463443723",
         "0.0",
         "0.026862900142208268",
         "0.005725599673300996",
         "0.008677537238354738",
         "-0.0263454648244289",
         "-0.020522415668400518",
         "0.002049484332821594",
         "-0.015770635668921118",
         "0.08551827343427565",
         "0.009640771522251068",
         "0.0003423110837101895",
         "0.010508879140452398",
         "0.005565340804592589",
         "-0.015896905615223944",
         "0.0012727099110299012",
         "-0.07821411721500826",
         "0.01155714220248183",
         "-0.0021628871779616476",
         "-0.020758728850339137",
         "-0.018485955068401005",
         "0.000876216293732357",
         "0.003511202984475048",
         "-0.01544494723918688",
         "-0.013629016865561394",
         "0.02458711342538633",
         "-0.008828009526601122",
         "-0.04265272375254281",
         "-0.01386534681723639",
         "-0.007265120416074744",
         "-0.0067179528552031575",
         "0.021907875307957125",
         "-0.010378425353549936",
         "0.00040566157063715025",
         "-0.01188216808522402",
         "-0.01285537120166258",
         "0.016115032113494188",
         null,
         "0.0010441488577659364",
         "-0.015082266946125356",
         "-0.016251798424128494",
         "-0.009957808482496056",
         "0.008575689295180045",
         "-0.019940460394125226",
         "0.009289995599308432",
         "-0.005882504780098108",
         "0.005416709441069978",
         "0.016156062754638434",
         "0.055076117099043476",
         "0.014438347807628649",
         "0.005183430556588986",
         "-0.005017316332422861",
         "-0.011256268265784297",
         "-0.023931228256133696",
         "0.0015067987366077507",
         "-0.013153336215792066",
         "0.009858920249332881",
         "0.00450097347680134",
         "0.00015077733775781255",
         "0.030493986599577916",
         "-0.016648782075935675",
         "-0.02165606484673066",
         "-0.00838848679843518",
         "-0.00917199190777429",
         "-0.02068122913125714",
         "0.030356506835639285",
         "-0.012665220877506989",
         "-0.06605921370817525",
         "0.004852922142063898",
         "0.0003146169712593405",
         "0.02051941524445855",
         "0.007613895991703812"
        ]
       ],
       "shape": {
        "columns": 503,
        "rows": 5
       }
      },
      "text/html": [
       "<div>\n",
       "<style scoped>\n",
       "    .dataframe tbody tr th:only-of-type {\n",
       "        vertical-align: middle;\n",
       "    }\n",
       "\n",
       "    .dataframe tbody tr th {\n",
       "        vertical-align: top;\n",
       "    }\n",
       "\n",
       "    .dataframe thead th {\n",
       "        text-align: right;\n",
       "    }\n",
       "</style>\n",
       "<table border=\"1\" class=\"dataframe\">\n",
       "  <thead>\n",
       "    <tr style=\"text-align: right;\">\n",
       "      <th>Ticker</th>\n",
       "      <th>A</th>\n",
       "      <th>AAPL</th>\n",
       "      <th>ABBV</th>\n",
       "      <th>ABNB</th>\n",
       "      <th>ABT</th>\n",
       "      <th>ACGL</th>\n",
       "      <th>ACN</th>\n",
       "      <th>ADBE</th>\n",
       "      <th>ADI</th>\n",
       "      <th>ADM</th>\n",
       "      <th>...</th>\n",
       "      <th>WY</th>\n",
       "      <th>WYNN</th>\n",
       "      <th>XEL</th>\n",
       "      <th>XOM</th>\n",
       "      <th>XYL</th>\n",
       "      <th>XYZ</th>\n",
       "      <th>YUM</th>\n",
       "      <th>ZBH</th>\n",
       "      <th>ZBRA</th>\n",
       "      <th>ZTS</th>\n",
       "    </tr>\n",
       "    <tr>\n",
       "      <th>Date</th>\n",
       "      <th></th>\n",
       "      <th></th>\n",
       "      <th></th>\n",
       "      <th></th>\n",
       "      <th></th>\n",
       "      <th></th>\n",
       "      <th></th>\n",
       "      <th></th>\n",
       "      <th></th>\n",
       "      <th></th>\n",
       "      <th></th>\n",
       "      <th></th>\n",
       "      <th></th>\n",
       "      <th></th>\n",
       "      <th></th>\n",
       "      <th></th>\n",
       "      <th></th>\n",
       "      <th></th>\n",
       "      <th></th>\n",
       "      <th></th>\n",
       "      <th></th>\n",
       "    </tr>\n",
       "  </thead>\n",
       "  <tbody>\n",
       "    <tr>\n",
       "      <th>2021-01-05</th>\n",
       "      <td>0.008176</td>\n",
       "      <td>0.012364</td>\n",
       "      <td>0.010341</td>\n",
       "      <td>0.065756</td>\n",
       "      <td>0.012373</td>\n",
       "      <td>0.004011</td>\n",
       "      <td>0.005693</td>\n",
       "      <td>0.000721</td>\n",
       "      <td>0.017874</td>\n",
       "      <td>0.019451</td>\n",
       "      <td>...</td>\n",
       "      <td>0.009448</td>\n",
       "      <td>0.030776</td>\n",
       "      <td>-0.009747</td>\n",
       "      <td>0.048193</td>\n",
       "      <td>-0.001204</td>\n",
       "      <td>0.038841</td>\n",
       "      <td>0.000095</td>\n",
       "      <td>0.017302</td>\n",
       "      <td>0.006453</td>\n",
       "      <td>0.006969</td>\n",
       "    </tr>\n",
       "    <tr>\n",
       "      <th>2021-01-06</th>\n",
       "      <td>0.027423</td>\n",
       "      <td>-0.033662</td>\n",
       "      <td>-0.008639</td>\n",
       "      <td>-0.037289</td>\n",
       "      <td>-0.002082</td>\n",
       "      <td>0.043950</td>\n",
       "      <td>0.010934</td>\n",
       "      <td>-0.039902</td>\n",
       "      <td>0.004508</td>\n",
       "      <td>0.040519</td>\n",
       "      <td>...</td>\n",
       "      <td>0.005133</td>\n",
       "      <td>0.005990</td>\n",
       "      <td>0.022147</td>\n",
       "      <td>0.025517</td>\n",
       "      <td>0.042181</td>\n",
       "      <td>-0.012448</td>\n",
       "      <td>0.005480</td>\n",
       "      <td>0.028496</td>\n",
       "      <td>0.037444</td>\n",
       "      <td>0.014691</td>\n",
       "    </tr>\n",
       "    <tr>\n",
       "      <th>2021-01-07</th>\n",
       "      <td>0.026609</td>\n",
       "      <td>0.034123</td>\n",
       "      <td>0.010703</td>\n",
       "      <td>0.059536</td>\n",
       "      <td>0.009707</td>\n",
       "      <td>-0.009295</td>\n",
       "      <td>0.009435</td>\n",
       "      <td>0.024512</td>\n",
       "      <td>0.042264</td>\n",
       "      <td>-0.008885</td>\n",
       "      <td>...</td>\n",
       "      <td>0.009613</td>\n",
       "      <td>-0.009923</td>\n",
       "      <td>-0.019561</td>\n",
       "      <td>0.007846</td>\n",
       "      <td>0.045389</td>\n",
       "      <td>0.055489</td>\n",
       "      <td>-0.007612</td>\n",
       "      <td>-0.005928</td>\n",
       "      <td>0.036168</td>\n",
       "      <td>-0.000897</td>\n",
       "    </tr>\n",
       "    <tr>\n",
       "      <th>2021-01-08</th>\n",
       "      <td>0.007134</td>\n",
       "      <td>0.008631</td>\n",
       "      <td>0.005248</td>\n",
       "      <td>-0.009916</td>\n",
       "      <td>0.002785</td>\n",
       "      <td>0.005519</td>\n",
       "      <td>0.003647</td>\n",
       "      <td>0.015406</td>\n",
       "      <td>0.007262</td>\n",
       "      <td>0.002670</td>\n",
       "      <td>...</td>\n",
       "      <td>-0.006843</td>\n",
       "      <td>-0.006560</td>\n",
       "      <td>0.009208</td>\n",
       "      <td>0.011121</td>\n",
       "      <td>-0.010140</td>\n",
       "      <td>0.008226</td>\n",
       "      <td>0.014678</td>\n",
       "      <td>-0.002197</td>\n",
       "      <td>-0.008873</td>\n",
       "      <td>0.006647</td>\n",
       "    </tr>\n",
       "    <tr>\n",
       "      <th>2021-01-11</th>\n",
       "      <td>0.008579</td>\n",
       "      <td>-0.023249</td>\n",
       "      <td>0.016314</td>\n",
       "      <td>-0.010950</td>\n",
       "      <td>-0.006899</td>\n",
       "      <td>-0.007409</td>\n",
       "      <td>-0.014423</td>\n",
       "      <td>-0.022387</td>\n",
       "      <td>0.009953</td>\n",
       "      <td>-0.010082</td>\n",
       "      <td>...</td>\n",
       "      <td>-0.008388</td>\n",
       "      <td>-0.009172</td>\n",
       "      <td>-0.020681</td>\n",
       "      <td>0.030357</td>\n",
       "      <td>-0.012665</td>\n",
       "      <td>-0.066059</td>\n",
       "      <td>0.004853</td>\n",
       "      <td>0.000315</td>\n",
       "      <td>0.020519</td>\n",
       "      <td>0.007614</td>\n",
       "    </tr>\n",
       "  </tbody>\n",
       "</table>\n",
       "<p>5 rows × 503 columns</p>\n",
       "</div>"
      ],
      "text/plain": [
       "Ticker             A      AAPL      ABBV      ABNB       ABT      ACGL  \\\n",
       "Date                                                                     \n",
       "2021-01-05  0.008176  0.012364  0.010341  0.065756  0.012373  0.004011   \n",
       "2021-01-06  0.027423 -0.033662 -0.008639 -0.037289 -0.002082  0.043950   \n",
       "2021-01-07  0.026609  0.034123  0.010703  0.059536  0.009707 -0.009295   \n",
       "2021-01-08  0.007134  0.008631  0.005248 -0.009916  0.002785  0.005519   \n",
       "2021-01-11  0.008579 -0.023249  0.016314 -0.010950 -0.006899 -0.007409   \n",
       "\n",
       "Ticker           ACN      ADBE       ADI       ADM  ...        WY      WYNN  \\\n",
       "Date                                                ...                       \n",
       "2021-01-05  0.005693  0.000721  0.017874  0.019451  ...  0.009448  0.030776   \n",
       "2021-01-06  0.010934 -0.039902  0.004508  0.040519  ...  0.005133  0.005990   \n",
       "2021-01-07  0.009435  0.024512  0.042264 -0.008885  ...  0.009613 -0.009923   \n",
       "2021-01-08  0.003647  0.015406  0.007262  0.002670  ... -0.006843 -0.006560   \n",
       "2021-01-11 -0.014423 -0.022387  0.009953 -0.010082  ... -0.008388 -0.009172   \n",
       "\n",
       "Ticker           XEL       XOM       XYL       XYZ       YUM       ZBH  \\\n",
       "Date                                                                     \n",
       "2021-01-05 -0.009747  0.048193 -0.001204  0.038841  0.000095  0.017302   \n",
       "2021-01-06  0.022147  0.025517  0.042181 -0.012448  0.005480  0.028496   \n",
       "2021-01-07 -0.019561  0.007846  0.045389  0.055489 -0.007612 -0.005928   \n",
       "2021-01-08  0.009208  0.011121 -0.010140  0.008226  0.014678 -0.002197   \n",
       "2021-01-11 -0.020681  0.030357 -0.012665 -0.066059  0.004853  0.000315   \n",
       "\n",
       "Ticker          ZBRA       ZTS  \n",
       "Date                            \n",
       "2021-01-05  0.006453  0.006969  \n",
       "2021-01-06  0.037444  0.014691  \n",
       "2021-01-07  0.036168 -0.000897  \n",
       "2021-01-08 -0.008873  0.006647  \n",
       "2021-01-11  0.020519  0.007614  \n",
       "\n",
       "[5 rows x 503 columns]"
      ]
     },
     "execution_count": 4,
     "metadata": {},
     "output_type": "execute_result"
    }
   ],
   "source": [
    "ret.head()"
   ]
  },
  {
   "cell_type": "markdown",
   "id": "ef5d1f6a",
   "metadata": {},
   "source": [
    "### Create a simple XS 1 day reversal strategy using the rank method"
   ]
  },
  {
   "cell_type": "markdown",
   "id": "25654fa7",
   "metadata": {},
   "source": [
    "#### For reversal strategy where you are predicting the stocks that do well today to do worse tmr and vice versa"
   ]
  },
  {
   "cell_type": "code",
   "execution_count": 5,
   "id": "5f66d397",
   "metadata": {},
   "outputs": [],
   "source": [
    "negate = ret*-1.\n",
    "ranked = negate.rank(1)\n",
    "demeaned = ranked.subtract(ranked.mean(1),0)\n",
    "port = demeaned.divide(demeaned.abs().sum(1),0)"
   ]
  },
  {
   "cell_type": "code",
   "execution_count": 6,
   "id": "4c9ab507",
   "metadata": {},
   "outputs": [
    {
     "data": {
      "text/plain": [
       "<Axes: xlabel='Ticker'>"
      ]
     },
     "execution_count": 6,
     "metadata": {},
     "output_type": "execute_result"
    },
    {
     "data": {
      "image/png": "[encoded data removed]",
      "text/plain": [
       "<Figure size 640x480 with 1 Axes>"
      ]
     },
     "metadata": {},
     "output_type": "display_data"
    }
   ],
   "source": [
    "# example portfolio\n",
    "port.loc['20210330'].sort_values().plot()"
   ]
  },
  {
   "cell_type": "code",
   "execution_count": 7,
   "id": "fcf970d8",
   "metadata": {},
   "outputs": [
    {
     "data": {
      "text/plain": [
       "<Axes: xlabel='Date'>"
      ]
     },
     "execution_count": 7,
     "metadata": {},
     "output_type": "execute_result"
    },
    {
     "data": {
      "image/png": "[encoded data removed]",
      "text/plain": [
       "<Figure size 640x480 with 1 Axes>"
      ]
     },
     "metadata": {},
     "output_type": "display_data"
    }
   ],
   "source": [
    "# Fully invested: abs value of port weights should sum to 1\n",
    "port.abs().sum(1).plot()"
   ]
  },
  {
   "cell_type": "code",
   "execution_count": 8,
   "id": "e19f3442",
   "metadata": {},
   "outputs": [
    {
     "data": {
      "text/plain": [
       "<Axes: xlabel='Date'>"
      ]
     },
     "execution_count": 8,
     "metadata": {},
     "output_type": "execute_result"
    },
    {
     "data": {
      "image/png": "[encoded data removed]",
      "text/plain": [
       "<Figure size 640x480 with 1 Axes>"
      ]
     },
     "metadata": {},
     "output_type": "display_data"
    }
   ],
   "source": [
    "# Dollar neutrality: Port weights should sum to 0\n",
    "port.sum(1).plot()"
   ]
  },
  {
   "cell_type": "code",
   "execution_count": 9,
   "id": "a8c48ec0",
   "metadata": {},
   "outputs": [],
   "source": [
    "# compute strategy returns: implicitly assuming \"market orders\"\n",
    "strat_ret = (port.shift()*ret).sum(1)"
   ]
  },
  {
   "cell_type": "code",
   "execution_count": 10,
   "id": "d086fb85",
   "metadata": {},
   "outputs": [
    {
     "data": {
      "application/vnd.microsoft.datawrangler.viewer.v0+json": {
       "columns": [
        {
         "name": "index",
         "rawType": "object",
         "type": "string"
        },
        {
         "name": "0",
         "rawType": "float64",
         "type": "float"
        }
       ],
       "ref": "d4fd3d54-295a-4a02-bc2b-28dca5ce19f3",
       "rows": [
        [
         "SR",
         "1.4708165477763135"
        ],
        [
         "ret",
         "0.09763706742720489"
        ],
        [
         "vol",
         "0.06638289974016111"
        ]
       ],
       "shape": {
        "columns": 1,
        "rows": 3
       }
      },
      "text/plain": [
       "SR     1.470817\n",
       "ret    0.097637\n",
       "vol    0.066383\n",
       "dtype: float64"
      ]
     },
     "execution_count": 10,
     "metadata": {},
     "output_type": "execute_result"
    }
   ],
   "source": [
    "get_stats(strat_ret)"
   ]
  },
  {
   "cell_type": "code",
   "execution_count": 11,
   "id": "790fe4a3",
   "metadata": {},
   "outputs": [
    {
     "data": {
      "text/plain": [
       "<Axes: xlabel='Date'>"
      ]
     },
     "execution_count": 11,
     "metadata": {},
     "output_type": "execute_result"
    },
    {
     "data": {
      "image/png": "[encoded data removed]",
      "text/plain": [
       "<Figure size 640x480 with 1 Axes>"
      ]
     },
     "metadata": {},
     "output_type": "display_data"
    }
   ],
   "source": [
    "strat_ret.cumsum().plot()"
   ]
  },
  {
   "cell_type": "markdown",
   "id": "79751a16",
   "metadata": {},
   "source": [
    "### Create a simple XS 1 day reversal strategy using decile portfolios"
   ]
  },
  {
   "cell_type": "code",
   "execution_count": 12,
   "id": "5b672fdd",
   "metadata": {},
   "outputs": [],
   "source": [
    "negate = ret*-.1\n",
    "pct = negate.rank(axis=1,pct=True)\n",
    "\n",
    "long = (pct > 0.9)*1\n",
    "long = long.divide(long.abs().sum(1),0)*0.5\n",
    "\n",
    "short = (pct < 0.1)*-1.0\n",
    "short = short.divide(short.abs().sum(1),0)*0.5\n",
    "\n",
    "port = short.add(long,fill_value = 0)"
   ]
  },
  {
   "cell_type": "code",
   "execution_count": 13,
   "id": "650ee6aa",
   "metadata": {},
   "outputs": [
    {
     "data": {
      "text/plain": [
       "<Axes: xlabel='Ticker'>"
      ]
     },
     "execution_count": 13,
     "metadata": {},
     "output_type": "execute_result"
    },
    {
     "data": {
      "image/png": "[encoded data removed]",
      "text/plain": [
       "<Figure size 640x480 with 1 Axes>"
      ]
     },
     "metadata": {},
     "output_type": "display_data"
    }
   ],
   "source": [
    "# example portfolio\n",
    "port.loc['20210330'].sort_values().plot()"
   ]
  },
  {
   "cell_type": "code",
   "execution_count": 14,
   "id": "25754ba6",
   "metadata": {},
   "outputs": [
    {
     "data": {
      "text/plain": [
       "<Axes: xlabel='Date'>"
      ]
     },
     "execution_count": 14,
     "metadata": {},
     "output_type": "execute_result"
    },
    {
     "data": {
      "image/png": "[encoded data removed]",
      "text/plain": [
       "<Figure size 640x480 with 1 Axes>"
      ]
     },
     "metadata": {},
     "output_type": "display_data"
    }
   ],
   "source": [
    "# Fully invested: abs value of port weights should sum to 1\n",
    "(port.abs()).sum(1).plot()"
   ]
  },
  {
   "cell_type": "code",
   "execution_count": 15,
   "id": "3f6e0d0d",
   "metadata": {},
   "outputs": [
    {
     "data": {
      "text/plain": [
       "<Axes: xlabel='Date'>"
      ]
     },
     "execution_count": 15,
     "metadata": {},
     "output_type": "execute_result"
    },
    {
     "data": {
      "image/png": "[encoded data removed]",
      "text/plain": [
       "<Figure size 640x480 with 1 Axes>"
      ]
     },
     "metadata": {},
     "output_type": "display_data"
    }
   ],
   "source": [
    "# Dollar neutrality: Port weights should sum to 0\n",
    "port.sum(1).plot()"
   ]
  },
  {
   "cell_type": "code",
   "execution_count": 16,
   "id": "484ef8b3",
   "metadata": {},
   "outputs": [],
   "source": [
    "# compute strategy returns: implicitly assuming \"market orders\"\n",
    "strat_ret = (port.shift()*ret).sum(1)"
   ]
  },
  {
   "cell_type": "code",
   "execution_count": 17,
   "id": "7b14412c",
   "metadata": {},
   "outputs": [
    {
     "data": {
      "application/vnd.microsoft.datawrangler.viewer.v0+json": {
       "columns": [
        {
         "name": "index",
         "rawType": "object",
         "type": "string"
        },
        {
         "name": "0",
         "rawType": "float64",
         "type": "float"
        }
       ],
       "ref": "e2c94a13-5e5c-4ed9-b80f-5107be7f4f3a",
       "rows": [
        [
         "SR",
         "1.0780703016190962"
        ],
        [
         "ret",
         "0.11641195243382192"
        ],
        [
         "vol",
         "0.1079817821333071"
        ]
       ],
       "shape": {
        "columns": 1,
        "rows": 3
       }
      },
      "text/plain": [
       "SR     1.078070\n",
       "ret    0.116412\n",
       "vol    0.107982\n",
       "dtype: float64"
      ]
     },
     "execution_count": 17,
     "metadata": {},
     "output_type": "execute_result"
    }
   ],
   "source": [
    "get_stats(strat_ret)"
   ]
  },
  {
   "cell_type": "code",
   "execution_count": null,
   "id": "b2286a8f",
   "metadata": {},
   "outputs": [
    {
     "data": {
      "text/plain": [
       "<AxesSubplot:xlabel='Date'>"
      ]
     },
     "execution_count": 16,
     "metadata": {},
     "output_type": "execute_result"
    },
    {
     "data": {
      "image/png": "[encoded data removed]",
      "text/plain": [
       "<Figure size 432x288 with 1 Axes>"
      ]
     },
     "metadata": {
      "needs_background": "light"
     },
     "output_type": "display_data"
    }
   ],
   "source": [
    "strat_ret.cumsum().plot()"
   ]
  },
  {
   "cell_type": "code",
   "execution_count": null,
   "id": "bd1b0679",
   "metadata": {},
   "outputs": [],
   "source": []
  }
 ],
 "metadata": {
  "kernelspec": {
   "display_name": "Python 3",
   "language": "python",
   "name": "python3"
  },
  "language_info": {
   "codemirror_mode": {
    "name": "ipython",
    "version": 3
   },
   "file_extension": ".py",
   "mimetype": "text/x-python",
   "name": "python",
   "nbconvert_exporter": "python",
   "pygments_lexer": "ipython3",
   "version": "3.13.5"
  }
 },
 "nbformat": 4,
 "nbformat_minor": 5
}
