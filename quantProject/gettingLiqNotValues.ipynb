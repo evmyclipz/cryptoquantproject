{
 "cells": [
  {
   "cell_type": "markdown",
   "id": "9607535b",
   "metadata": {},
   "source": [
    "# Attempt to get Liquidation count and liquidation notional values from Binance"
   ]
  },
  {
   "cell_type": "code",
   "execution_count": null,
   "id": "8d92ea2e",
   "metadata": {},
   "outputs": [],
   "source": [
    "'''\n",
    "from binance.client import Client\n",
    "from datetime import datetime, timezone\n",
    "import pandas as pd \n",
    "import numpy as np \n",
    "\n",
    "import os\n",
    "\n",
    "api_key = os.getenv(\"BINANCE_KEY\")  \n",
    "api_secret = os.getenv(\"BINANCE_SECRET\")\n",
    "client = Client(api_key, api_secret, tld='US')\n",
    "'''"
   ]
  },
  {
   "cell_type": "code",
   "execution_count": 14,
   "id": "d00da0e0",
   "metadata": {},
   "outputs": [
    {
     "name": "stdout",
     "output_type": "stream",
     "text": [
      "API connected: False\n"
     ]
    }
   ],
   "source": [
    "from binance.client import Client\n",
    "\n",
    "api_key = \"OZOFxnYw4PVXJU7yLkLlAMflzeTz2uwFYUlMXaU7zEu2BTMRkw2oe4a5q8BeOglq\"\n",
    "api_secret = \"PaYmnzk6OHU6F4PhNAAzyaPq0ysTYc7AK7LsPScZF9OagjZNlmtnZPawGXBqlXZo\"\n",
    "\n",
    "client = Client(api_key, api_secret, tld='us')  # Use tld='US' if you're in the US\n",
    "print(\"API connected:\", client.ping() is None)\n"
   ]
  },
  {
   "cell_type": "code",
   "execution_count": null,
   "id": "fa0c6f3f",
   "metadata": {},
   "outputs": [],
   "source": []
  }
 ],
 "metadata": {
  "kernelspec": {
   "display_name": "Python 3",
   "language": "python",
   "name": "python3"
  },
  "language_info": {
   "codemirror_mode": {
    "name": "ipython",
    "version": 3
   },
   "file_extension": ".py",
   "mimetype": "text/x-python",
   "name": "python",
   "nbconvert_exporter": "python",
   "pygments_lexer": "ipython3",
   "version": "3.13.5"
  }
 },
 "nbformat": 4,
 "nbformat_minor": 5
}
